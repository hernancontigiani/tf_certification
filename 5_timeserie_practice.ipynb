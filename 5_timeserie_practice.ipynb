{
  "nbformat": 4,
  "nbformat_minor": 0,
  "metadata": {
    "colab": {
      "name": "5_timeserie_practice.ipynb",
      "provenance": [],
      "collapsed_sections": [
        "rG6dGXueM8dQ"
      ]
    },
    "kernelspec": {
      "name": "python3",
      "display_name": "Python 3"
    },
    "language_info": {
      "name": "python"
    }
  },
  "cells": [
    {
      "cell_type": "markdown",
      "source": [
        "<a href=\"https://www.linkedin.com/in/hern%C3%A1n-contigiani-41260679/\"><img src=\"https://raw.githubusercontent.com/hernancontigiani/tf_certification/main/images/hc_banner.png\" width=\"1000\" align=\"center\"></a>\n",
        "\n",
        "\n",
        "# Tensorflow Developer Certification\n",
        "\n",
        "Timeseries practice"
      ],
      "metadata": {
        "id": "x8aDphebb5Ln"
      }
    },
    {
      "cell_type": "code",
      "execution_count": null,
      "metadata": {
        "id": "yV8OzBb-zcl0"
      },
      "outputs": [],
      "source": [
        "import matplotlib.pyplot as plt\n",
        "import numpy as np\n",
        "import pandas as pd\n",
        "import os\n",
        "import PIL\n",
        "import tensorflow as tf\n",
        "import tensorflow_datasets as tfds\n",
        "\n",
        "from tensorflow import keras\n",
        "from tensorflow.keras import layers\n",
        "from tensorflow.keras.models import Sequential\n",
        "\n",
        "from sklearn.model_selection import train_test_split"
      ]
    },
    {
      "cell_type": "code",
      "source": [
        "!wget https://raw.githubusercontent.com/hernancontigiani/tf_certification/main/utils_tf.py\n",
        "from utils_tf import *"
      ],
      "metadata": {
        "id": "s9rOAQmQPgw1"
      },
      "execution_count": null,
      "outputs": []
    },
    {
      "cell_type": "markdown",
      "source": [
        "### Create dataset"
      ],
      "metadata": {
        "id": "JcMJvkNM2upI"
      }
    },
    {
      "cell_type": "code",
      "source": [
        "!wget https://raw.githubusercontent.com/mrdbourke/tensorflow-deep-learning/main/extras/BTC_USD_2013-10-01_2021-05-18-CoinDesk.csv"
      ],
      "metadata": {
        "colab": {
          "base_uri": "https://localhost:8080/"
        },
        "id": "GRU37VS31b0I",
        "outputId": "75906dd3-b217-446c-bec4-dc7b8379f39b"
      },
      "execution_count": null,
      "outputs": [
        {
          "output_type": "stream",
          "name": "stdout",
          "text": [
            "--2021-12-21 11:52:27--  https://raw.githubusercontent.com/mrdbourke/tensorflow-deep-learning/main/extras/BTC_USD_2013-10-01_2021-05-18-CoinDesk.csv\n",
            "Resolving raw.githubusercontent.com (raw.githubusercontent.com)... 185.199.111.133, 185.199.110.133, 185.199.108.133, ...\n",
            "Connecting to raw.githubusercontent.com (raw.githubusercontent.com)|185.199.111.133|:443... connected.\n",
            "HTTP request sent, awaiting response... 200 OK\n",
            "Length: 178509 (174K) [text/plain]\n",
            "Saving to: ‘BTC_USD_2013-10-01_2021-05-18-CoinDesk.csv’\n",
            "\n",
            "BTC_USD_2013-10-01_ 100%[===================>] 174.33K  --.-KB/s    in 0.03s   \n",
            "\n",
            "2021-12-21 11:52:27 (6.14 MB/s) - ‘BTC_USD_2013-10-01_2021-05-18-CoinDesk.csv’ saved [178509/178509]\n",
            "\n"
          ]
        }
      ]
    },
    {
      "cell_type": "code",
      "source": [
        "df = pd.read_csv(\"BTC_USD_2013-10-01_2021-05-18-CoinDesk.csv\")\n",
        "df.head()"
      ],
      "metadata": {
        "colab": {
          "base_uri": "https://localhost:8080/",
          "height": 206
        },
        "id": "_xG74xYR1gzX",
        "outputId": "ff7982ab-d0e8-428c-954a-4e271139218e"
      },
      "execution_count": null,
      "outputs": [
        {
          "output_type": "execute_result",
          "data": {
            "text/html": [
              "\n",
              "  <div id=\"df-f0e665e8-583a-49f6-bca8-160e336422cf\">\n",
              "    <div class=\"colab-df-container\">\n",
              "      <div>\n",
              "<style scoped>\n",
              "    .dataframe tbody tr th:only-of-type {\n",
              "        vertical-align: middle;\n",
              "    }\n",
              "\n",
              "    .dataframe tbody tr th {\n",
              "        vertical-align: top;\n",
              "    }\n",
              "\n",
              "    .dataframe thead th {\n",
              "        text-align: right;\n",
              "    }\n",
              "</style>\n",
              "<table border=\"1\" class=\"dataframe\">\n",
              "  <thead>\n",
              "    <tr style=\"text-align: right;\">\n",
              "      <th></th>\n",
              "      <th>Currency</th>\n",
              "      <th>Date</th>\n",
              "      <th>Closing Price (USD)</th>\n",
              "      <th>24h Open (USD)</th>\n",
              "      <th>24h High (USD)</th>\n",
              "      <th>24h Low (USD)</th>\n",
              "    </tr>\n",
              "  </thead>\n",
              "  <tbody>\n",
              "    <tr>\n",
              "      <th>0</th>\n",
              "      <td>BTC</td>\n",
              "      <td>2013-10-01</td>\n",
              "      <td>123.65499</td>\n",
              "      <td>124.30466</td>\n",
              "      <td>124.75166</td>\n",
              "      <td>122.56349</td>\n",
              "    </tr>\n",
              "    <tr>\n",
              "      <th>1</th>\n",
              "      <td>BTC</td>\n",
              "      <td>2013-10-02</td>\n",
              "      <td>125.45500</td>\n",
              "      <td>123.65499</td>\n",
              "      <td>125.75850</td>\n",
              "      <td>123.63383</td>\n",
              "    </tr>\n",
              "    <tr>\n",
              "      <th>2</th>\n",
              "      <td>BTC</td>\n",
              "      <td>2013-10-03</td>\n",
              "      <td>108.58483</td>\n",
              "      <td>125.45500</td>\n",
              "      <td>125.66566</td>\n",
              "      <td>83.32833</td>\n",
              "    </tr>\n",
              "    <tr>\n",
              "      <th>3</th>\n",
              "      <td>BTC</td>\n",
              "      <td>2013-10-04</td>\n",
              "      <td>118.67466</td>\n",
              "      <td>108.58483</td>\n",
              "      <td>118.67500</td>\n",
              "      <td>107.05816</td>\n",
              "    </tr>\n",
              "    <tr>\n",
              "      <th>4</th>\n",
              "      <td>BTC</td>\n",
              "      <td>2013-10-05</td>\n",
              "      <td>121.33866</td>\n",
              "      <td>118.67466</td>\n",
              "      <td>121.93633</td>\n",
              "      <td>118.00566</td>\n",
              "    </tr>\n",
              "  </tbody>\n",
              "</table>\n",
              "</div>\n",
              "      <button class=\"colab-df-convert\" onclick=\"convertToInteractive('df-f0e665e8-583a-49f6-bca8-160e336422cf')\"\n",
              "              title=\"Convert this dataframe to an interactive table.\"\n",
              "              style=\"display:none;\">\n",
              "        \n",
              "  <svg xmlns=\"http://www.w3.org/2000/svg\" height=\"24px\"viewBox=\"0 0 24 24\"\n",
              "       width=\"24px\">\n",
              "    <path d=\"M0 0h24v24H0V0z\" fill=\"none\"/>\n",
              "    <path d=\"M18.56 5.44l.94 2.06.94-2.06 2.06-.94-2.06-.94-.94-2.06-.94 2.06-2.06.94zm-11 1L8.5 8.5l.94-2.06 2.06-.94-2.06-.94L8.5 2.5l-.94 2.06-2.06.94zm10 10l.94 2.06.94-2.06 2.06-.94-2.06-.94-.94-2.06-.94 2.06-2.06.94z\"/><path d=\"M17.41 7.96l-1.37-1.37c-.4-.4-.92-.59-1.43-.59-.52 0-1.04.2-1.43.59L10.3 9.45l-7.72 7.72c-.78.78-.78 2.05 0 2.83L4 21.41c.39.39.9.59 1.41.59.51 0 1.02-.2 1.41-.59l7.78-7.78 2.81-2.81c.8-.78.8-2.07 0-2.86zM5.41 20L4 18.59l7.72-7.72 1.47 1.35L5.41 20z\"/>\n",
              "  </svg>\n",
              "      </button>\n",
              "      \n",
              "  <style>\n",
              "    .colab-df-container {\n",
              "      display:flex;\n",
              "      flex-wrap:wrap;\n",
              "      gap: 12px;\n",
              "    }\n",
              "\n",
              "    .colab-df-convert {\n",
              "      background-color: #E8F0FE;\n",
              "      border: none;\n",
              "      border-radius: 50%;\n",
              "      cursor: pointer;\n",
              "      display: none;\n",
              "      fill: #1967D2;\n",
              "      height: 32px;\n",
              "      padding: 0 0 0 0;\n",
              "      width: 32px;\n",
              "    }\n",
              "\n",
              "    .colab-df-convert:hover {\n",
              "      background-color: #E2EBFA;\n",
              "      box-shadow: 0px 1px 2px rgba(60, 64, 67, 0.3), 0px 1px 3px 1px rgba(60, 64, 67, 0.15);\n",
              "      fill: #174EA6;\n",
              "    }\n",
              "\n",
              "    [theme=dark] .colab-df-convert {\n",
              "      background-color: #3B4455;\n",
              "      fill: #D2E3FC;\n",
              "    }\n",
              "\n",
              "    [theme=dark] .colab-df-convert:hover {\n",
              "      background-color: #434B5C;\n",
              "      box-shadow: 0px 1px 3px 1px rgba(0, 0, 0, 0.15);\n",
              "      filter: drop-shadow(0px 1px 2px rgba(0, 0, 0, 0.3));\n",
              "      fill: #FFFFFF;\n",
              "    }\n",
              "  </style>\n",
              "\n",
              "      <script>\n",
              "        const buttonEl =\n",
              "          document.querySelector('#df-f0e665e8-583a-49f6-bca8-160e336422cf button.colab-df-convert');\n",
              "        buttonEl.style.display =\n",
              "          google.colab.kernel.accessAllowed ? 'block' : 'none';\n",
              "\n",
              "        async function convertToInteractive(key) {\n",
              "          const element = document.querySelector('#df-f0e665e8-583a-49f6-bca8-160e336422cf');\n",
              "          const dataTable =\n",
              "            await google.colab.kernel.invokeFunction('convertToInteractive',\n",
              "                                                     [key], {});\n",
              "          if (!dataTable) return;\n",
              "\n",
              "          const docLinkHtml = 'Like what you see? Visit the ' +\n",
              "            '<a target=\"_blank\" href=https://colab.research.google.com/notebooks/data_table.ipynb>data table notebook</a>'\n",
              "            + ' to learn more about interactive tables.';\n",
              "          element.innerHTML = '';\n",
              "          dataTable['output_type'] = 'display_data';\n",
              "          await google.colab.output.renderOutput(dataTable, element);\n",
              "          const docLink = document.createElement('div');\n",
              "          docLink.innerHTML = docLinkHtml;\n",
              "          element.appendChild(docLink);\n",
              "        }\n",
              "      </script>\n",
              "    </div>\n",
              "  </div>\n",
              "  "
            ],
            "text/plain": [
              "  Currency        Date  ...  24h High (USD)  24h Low (USD)\n",
              "0      BTC  2013-10-01  ...       124.75166      122.56349\n",
              "1      BTC  2013-10-02  ...       125.75850      123.63383\n",
              "2      BTC  2013-10-03  ...       125.66566       83.32833\n",
              "3      BTC  2013-10-04  ...       118.67500      107.05816\n",
              "4      BTC  2013-10-05  ...       121.93633      118.00566\n",
              "\n",
              "[5 rows x 6 columns]"
            ]
          },
          "metadata": {},
          "execution_count": 4
        }
      ]
    },
    {
      "cell_type": "code",
      "source": [
        "df.info()"
      ],
      "metadata": {
        "colab": {
          "base_uri": "https://localhost:8080/"
        },
        "id": "8JPwy8By19-k",
        "outputId": "111619b3-2fcb-4d2a-da4c-9468e0ba4e7e"
      },
      "execution_count": null,
      "outputs": [
        {
          "output_type": "stream",
          "name": "stdout",
          "text": [
            "<class 'pandas.core.frame.DataFrame'>\n",
            "RangeIndex: 2787 entries, 0 to 2786\n",
            "Data columns (total 6 columns):\n",
            " #   Column               Non-Null Count  Dtype  \n",
            "---  ------               --------------  -----  \n",
            " 0   Currency             2787 non-null   object \n",
            " 1   Date                 2787 non-null   object \n",
            " 2   Closing Price (USD)  2787 non-null   float64\n",
            " 3   24h Open (USD)       2787 non-null   float64\n",
            " 4   24h High (USD)       2787 non-null   float64\n",
            " 5   24h Low (USD)        2787 non-null   float64\n",
            "dtypes: float64(4), object(2)\n",
            "memory usage: 130.8+ KB\n"
          ]
        }
      ]
    },
    {
      "cell_type": "code",
      "source": [
        "timesteps = pd.to_datetime(df['Date'], format=\"%Y-%m-%d\").to_numpy()\n",
        "timesteps[:10]"
      ],
      "metadata": {
        "colab": {
          "base_uri": "https://localhost:8080/"
        },
        "id": "XrCahOi32BP-",
        "outputId": "1c7d8b18-ab7b-4022-a87c-5c6de6d63d7c"
      },
      "execution_count": null,
      "outputs": [
        {
          "output_type": "execute_result",
          "data": {
            "text/plain": [
              "array(['2013-10-01T00:00:00.000000000', '2013-10-02T00:00:00.000000000',\n",
              "       '2013-10-03T00:00:00.000000000', '2013-10-04T00:00:00.000000000',\n",
              "       '2013-10-05T00:00:00.000000000', '2013-10-06T00:00:00.000000000',\n",
              "       '2013-10-07T00:00:00.000000000', '2013-10-08T00:00:00.000000000',\n",
              "       '2013-10-09T00:00:00.000000000', '2013-10-10T00:00:00.000000000'],\n",
              "      dtype='datetime64[ns]')"
            ]
          },
          "metadata": {},
          "execution_count": 15
        }
      ]
    },
    {
      "cell_type": "code",
      "source": [
        "price = df['Closing Price (USD)'].to_numpy()\n",
        "price[:10]"
      ],
      "metadata": {
        "colab": {
          "base_uri": "https://localhost:8080/"
        },
        "id": "QMoQ8lfh2WS7",
        "outputId": "8c5e7c26-9c35-44ad-c095-1ff01c9f9cc7"
      },
      "execution_count": null,
      "outputs": [
        {
          "output_type": "execute_result",
          "data": {
            "text/plain": [
              "array([123.65499, 125.455  , 108.58483, 118.67466, 121.33866, 120.65533,\n",
              "       121.795  , 123.033  , 124.049  , 125.96116])"
            ]
          },
          "metadata": {},
          "execution_count": 17
        }
      ]
    },
    {
      "cell_type": "code",
      "source": [
        "plt.plot(timesteps, price)"
      ],
      "metadata": {
        "colab": {
          "base_uri": "https://localhost:8080/",
          "height": 282
        },
        "id": "ZmrQY0ap2q97",
        "outputId": "86c68346-dce0-4957-8862-962e37e2fa80"
      },
      "execution_count": null,
      "outputs": [
        {
          "output_type": "execute_result",
          "data": {
            "text/plain": [
              "[<matplotlib.lines.Line2D at 0x7f44762c6b50>]"
            ]
          },
          "metadata": {},
          "execution_count": 18
        },
        {
          "output_type": "display_data",
          "data": {
            "image/png": "[encoded data removed]",
            "text/plain": [
              "<Figure size 432x288 with 1 Axes>"
            ]
          },
          "metadata": {
            "needs_background": "light"
          }
        }
      ]
    },
    {
      "cell_type": "code",
      "source": [
        "# Create train and test splits the right way for time series data\n",
        "split_size = int(0.8 * len(price)) # 80% train, 20% test\n",
        "\n",
        "# Create train data splits (everything before the split)\n",
        "X_train, y_train = timesteps[:split_size], price[:split_size]\n",
        "\n",
        "# Create test data splits (everything after the split)\n",
        "X_test, y_test = timesteps[split_size:], price[split_size:]\n",
        "\n",
        "len(X_train), len(X_test), len(y_train), len(y_test)"
      ],
      "metadata": {
        "colab": {
          "base_uri": "https://localhost:8080/"
        },
        "id": "X1zeLo2S28ap",
        "outputId": "5c80ff79-408c-4596-9f24-de0ef6f49adf"
      },
      "execution_count": null,
      "outputs": [
        {
          "output_type": "execute_result",
          "data": {
            "text/plain": [
              "(2229, 558, 2229, 558)"
            ]
          },
          "metadata": {},
          "execution_count": 19
        }
      ]
    },
    {
      "cell_type": "code",
      "source": [
        "# Create a function to plot time series data\n",
        "def plot_time_series(timesteps, values, format='.', start=0, end=None, label=None):\n",
        "    \"\"\"\n",
        "    Plots a timesteps (a series of points in time) against values (a series of values across timesteps).\n",
        "\n",
        "    Parameters\n",
        "    ---------\n",
        "    timesteps : array of timesteps\n",
        "    values : array of values across time\n",
        "    format : style of plot, default \".\"\n",
        "    start : where to start the plot (setting a value will index from start of timesteps & values)\n",
        "    end : where to end the plot (setting a value will index from end of timesteps & values)\n",
        "    label : label to show on plot of values\n",
        "    \"\"\"\n",
        "    # Plot the series\n",
        "    plt.plot(timesteps[start:end], values[start:end], format, label=label)\n",
        "    plt.xlabel(\"Time\")\n",
        "    plt.ylabel(\"Price\")\n",
        "    if label:\n",
        "        plt.legend(fontsize=14) # make label bigger\n",
        "    plt.grid(True)"
      ],
      "metadata": {
        "id": "dKoZd-h_47We"
      },
      "execution_count": null,
      "outputs": []
    },
    {
      "cell_type": "code",
      "source": [
        "fig = plt.figure(figsize=(16,9))\n",
        "plot_time_series(X_train, y_train, label=\"train\")\n",
        "plot_time_series(X_test, y_test, label=\"test\")\n",
        "plt.show()"
      ],
      "metadata": {
        "colab": {
          "base_uri": "https://localhost:8080/",
          "height": 551
        },
        "id": "XpP50QYj3tI1",
        "outputId": "792a7cc4-58b3-4129-a947-4ce0848937a8"
      },
      "execution_count": null,
      "outputs": [
        {
          "output_type": "display_data",
          "data": {
            "image/png": "[encoded data removed]",
            "text/plain": [
              "<Figure size 1152x648 with 1 Axes>"
            ]
          },
          "metadata": {
            "needs_background": "light"
          }
        }
      ]
    },
    {
      "cell_type": "markdown",
      "source": [
        "### Evaluate model"
      ],
      "metadata": {
        "id": "ST_limu458zE"
      }
    },
    {
      "cell_type": "code",
      "source": [
        "# Usa Mean absule error (MAE) scaled (MASE)\n",
        "# MASE implemented courtesy of sktime - https://github.com/alan-turing-institute/sktime/blob/ee7a06843a44f4aaec7582d847e36073a9ab0566/sktime/performance_metrics/forecasting/_functions.py#L16\n",
        "def mean_absolute_scaled_error(y_true, y_pred):\n",
        "    \"\"\"\n",
        "    Implement MASE (assuming no seasonality of data).\n",
        "    \"\"\"\n",
        "    mae = tf.reduce_mean(tf.abs(y_true - y_pred))\n",
        "\n",
        "    # Find MAE of naive forecast (no seasonality)\n",
        "    mae_naive_no_season = tf.reduce_mean(tf.abs(y_true[1:] - y_true[:-1])) # our seasonality is 1 day (hence the shifting of 1 day)\n",
        "\n",
        "    return mae / mae_naive_no_season"
      ],
      "metadata": {
        "id": "aWEGGA_n5-h5"
      },
      "execution_count": null,
      "outputs": []
    },
    {
      "cell_type": "code",
      "source": [
        "def forescast_evaluate_preds(y_true, y_pred):\n",
        "    # Make sure float32 (for metric calculations)\n",
        "    y_true = tf.cast(y_true, dtype=tf.float32)\n",
        "    y_pred = tf.cast(y_pred, dtype=tf.float32)\n",
        "\n",
        "    # Calculate various metrics\n",
        "    mae = tf.keras.metrics.mean_absolute_error(y_true, y_pred)\n",
        "    mse = tf.keras.metrics.mean_squared_error(y_true, y_pred)\n",
        "    rmse = tf.sqrt(mse)\n",
        "    mape = tf.keras.metrics.mean_absolute_percentage_error(y_true, y_pred)\n",
        "    mase = mean_absolute_scaled_error(y_true, y_pred)\n",
        "\n",
        "    # Account for different sized metrics (for longer horizons, reduce to single number)\n",
        "    if mae.ndim > 0: # if mae isn't already a scalar, reduce it to one by aggregating tensors to mean\n",
        "        mae = tf.reduce_mean(mae)\n",
        "        mse = tf.reduce_mean(mse)\n",
        "        rmse = tf.reduce_mean(rmse)\n",
        "        mape = tf.reduce_mean(mape)\n",
        "        mase = tf.reduce_mean(mase)\n",
        "\n",
        "    return {\"mae\": mae.numpy(),\n",
        "            \"mse\": mse.numpy(),\n",
        "            \"rmse\": rmse.numpy(),\n",
        "            \"mape\": mape.numpy(),\n",
        "            \"mase\": mase.numpy()}"
      ],
      "metadata": {
        "id": "yE5DDfWnBsfq"
      },
      "execution_count": null,
      "outputs": []
    },
    {
      "cell_type": "markdown",
      "source": [
        "### Naïve forecast (baseline)"
      ],
      "metadata": {
        "id": "_VtZuVaR4cbo"
      }
    },
    {
      "cell_type": "markdown",
      "source": [
        "The prediction at timestep t (y-hat) is equal to the value at timestep t-1 (the previous timestep)."
      ],
      "metadata": {
        "id": "U0hWC4wd5awS"
      }
    },
    {
      "cell_type": "code",
      "source": [
        "# Create a naïve forecast\n",
        "naive_forecast = y_test[:-1] # Naïve forecast equals every value excluding the last value"
      ],
      "metadata": {
        "id": "KhUGDdQB5c2e"
      },
      "execution_count": null,
      "outputs": []
    },
    {
      "cell_type": "code",
      "source": [
        "# Plot naive forecast\n",
        "plt.figure(figsize=(10, 7))\n",
        "plot_time_series(timesteps=X_train, values=y_train, label=\"Train data\")\n",
        "plot_time_series(timesteps=X_test, values=y_test, label=\"Test data\")\n",
        "plot_time_series(timesteps=X_test[1:], values=naive_forecast, format=\"-\", label=\"Naive forecast\");"
      ],
      "metadata": {
        "colab": {
          "base_uri": "https://localhost:8080/",
          "height": 442
        },
        "id": "zLUTfJeS5kID",
        "outputId": "35f6787b-9f2d-4f12-c7a1-691aab827ae3"
      },
      "execution_count": null,
      "outputs": [
        {
          "output_type": "display_data",
          "data": {
            "image/png": "[encoded data removed]",
            "text/plain": [
              "<Figure size 720x504 with 1 Axes>"
            ]
          },
          "metadata": {
            "needs_background": "light"
          }
        }
      ]
    },
    {
      "cell_type": "code",
      "source": [
        "# offset the values by 300 timesteps \n",
        "plt.figure(figsize=(10, 7))\n",
        "offset = 300 \n",
        "plot_time_series(timesteps=X_test, values=y_test, start=offset, label=\"Test data\")\n",
        "plot_time_series(timesteps=X_test[1:], values=naive_forecast, format=\"-\", start=offset, label=\"Naive forecast\");"
      ],
      "metadata": {
        "colab": {
          "base_uri": "https://localhost:8080/",
          "height": 442
        },
        "id": "5tOD2JnY5wA8",
        "outputId": "e73b24ad-a22e-4d3b-9fe3-ec63d84c1f07"
      },
      "execution_count": null,
      "outputs": [
        {
          "output_type": "display_data",
          "data": {
            "image/png": "[encoded data removed]",
            "text/plain": [
              "<Figure size 720x504 with 1 Axes>"
            ]
          },
          "metadata": {
            "needs_background": "light"
          }
        }
      ]
    },
    {
      "cell_type": "code",
      "source": [
        "naive_results = forescast_evaluate_preds(y_test[1:], naive_forecast)\n",
        "naive_results"
      ],
      "metadata": {
        "colab": {
          "base_uri": "https://localhost:8080/"
        },
        "id": "MMt0R0Pd7FsI",
        "outputId": "a9e936fb-dd49-4375-8370-0af63470c3c6"
      },
      "execution_count": null,
      "outputs": [
        {
          "output_type": "execute_result",
          "data": {
            "text/plain": [
              "{'mae': 567.9802,\n",
              " 'mape': 2.516525,\n",
              " 'mase': 0.99957,\n",
              " 'mse': 1147547.0,\n",
              " 'rmse': 1071.2362}"
            ]
          },
          "metadata": {},
          "execution_count": 81
        }
      ]
    },
    {
      "cell_type": "markdown",
      "source": [
        "### Create window dataset"
      ],
      "metadata": {
        "id": "hIdSJNBm7u8H"
      }
    },
    {
      "cell_type": "code",
      "source": [
        "HORIZON = 1 # predict 1 step at a time\n",
        "WINDOW_SIZE = 7 # use a week worth of timesteps to predict the horizon"
      ],
      "metadata": {
        "id": "1kHlzQEI72JL"
      },
      "execution_count": null,
      "outputs": []
    },
    {
      "cell_type": "code",
      "source": [
        "# Create function to label windowed data\n",
        "def get_labelled_windows(x, horizon=1):\n",
        "    \"\"\"\n",
        "    Creates labels for windowed dataset.\n",
        "\n",
        "    E.g. if horizon=1 (default)\n",
        "    Input: [1, 2, 3, 4, 5, 6] -> Output: ([1, 2, 3, 4, 5], [6])\n",
        "    \"\"\"\n",
        "    return x[:, :-horizon], x[:, -horizon:]"
      ],
      "metadata": {
        "id": "5BhsaFaQ74Rl"
      },
      "execution_count": null,
      "outputs": []
    },
    {
      "cell_type": "code",
      "source": [
        "# Create function to view NumPy arrays as windows \n",
        "def make_windows(x, window_size=7, horizon=1):\n",
        "    \"\"\"\n",
        "    Turns a 1D array into a 2D array of sequential windows of window_size.\n",
        "    \"\"\"\n",
        "    # 1. Create a window of specific window_size (add the horizon on the end for later labelling)\n",
        "    window_step = np.expand_dims(np.arange(window_size+horizon), axis=0)\n",
        "    # print(f\"Window step:\\n {window_step}\")\n",
        "\n",
        "    # 2. Create a 2D array of multiple window steps (minus 1 to account for 0 indexing)\n",
        "    window_indexes = window_step + np.expand_dims(np.arange(len(x)-(window_size+horizon-1)), axis=0).T # create 2D array of windows of size window_size\n",
        "    # print(f\"Window indexes:\\n {window_indexes[:3], window_indexes[-3:], window_indexes.shape}\")\n",
        "\n",
        "    # 3. Index on the target array (time series) with 2D array of multiple window steps\n",
        "    windowed_array = x[window_indexes]\n",
        "\n",
        "    # 4. Get the labelled windows\n",
        "    windows, labels = get_labelled_windows(windowed_array, horizon=horizon)\n",
        "\n",
        "    return windows, labels"
      ],
      "metadata": {
        "id": "BRxXC_j_7x_P"
      },
      "execution_count": null,
      "outputs": []
    },
    {
      "cell_type": "code",
      "source": [
        "full_windows, full_labels = make_windows(price, window_size=WINDOW_SIZE, horizon=HORIZON)\n",
        "len(full_windows), len(full_labels)"
      ],
      "metadata": {
        "colab": {
          "base_uri": "https://localhost:8080/"
        },
        "id": "77c_T53s8BDq",
        "outputId": "4229d99f-eef5-4f0d-def3-b194d856410b"
      },
      "execution_count": null,
      "outputs": [
        {
          "output_type": "execute_result",
          "data": {
            "text/plain": [
              "(2780, 2780)"
            ]
          },
          "metadata": {},
          "execution_count": 43
        }
      ]
    },
    {
      "cell_type": "code",
      "source": [
        "# View the first 3 windows/labels\n",
        "for i in range(3):\n",
        "  print(f\"Window: {full_windows[i]} -> Label: {full_labels[i]}\")"
      ],
      "metadata": {
        "colab": {
          "base_uri": "https://localhost:8080/"
        },
        "id": "gp83mffd8aKS",
        "outputId": "337532a9-ddf7-4f90-b34f-438f12a4d1e9"
      },
      "execution_count": null,
      "outputs": [
        {
          "output_type": "stream",
          "name": "stdout",
          "text": [
            "Window: [123.65499 125.455   108.58483 118.67466 121.33866 120.65533 121.795  ] -> Label: [123.033]\n",
            "Window: [125.455   108.58483 118.67466 121.33866 120.65533 121.795   123.033  ] -> Label: [124.049]\n",
            "Window: [108.58483 118.67466 121.33866 120.65533 121.795   123.033   124.049  ] -> Label: [125.96116]\n"
          ]
        }
      ]
    },
    {
      "cell_type": "code",
      "source": [
        "# Make the train/test window split\n",
        "def make_train_test_splits(windows, labels, test_split=0.2):\n",
        "    \"\"\"\n",
        "    Splits matching pairs of windows and labels into train and test splits.\n",
        "    \"\"\"\n",
        "    split_size = int(len(windows) * (1-test_split)) # this will default to 80% train/20% test\n",
        "    train_windows = windows[:split_size]\n",
        "    train_labels = labels[:split_size]\n",
        "    test_windows = windows[split_size:]\n",
        "    test_labels = labels[split_size:]\n",
        "    return train_windows, test_windows, train_labels, test_labels"
      ],
      "metadata": {
        "id": "O3G6JAsj8i4N"
      },
      "execution_count": null,
      "outputs": []
    },
    {
      "cell_type": "code",
      "source": [
        "train_windows, test_windows, train_labels, test_labels = make_train_test_splits(full_windows, full_labels)\n",
        "len(train_windows), len(train_labels), len(test_windows), len(test_labels)"
      ],
      "metadata": {
        "colab": {
          "base_uri": "https://localhost:8080/"
        },
        "id": "0CBlO4Bq8re3",
        "outputId": "49a39d81-2c7c-4a27-88e3-029a588dba45"
      },
      "execution_count": null,
      "outputs": [
        {
          "output_type": "execute_result",
          "data": {
            "text/plain": [
              "(2224, 2224, 556, 556)"
            ]
          },
          "metadata": {},
          "execution_count": 46
        }
      ]
    },
    {
      "cell_type": "markdown",
      "source": [
        "### Dense Model (w=7 h=1"
      ],
      "metadata": {
        "id": "xUQUYX5e9EEM"
      }
    },
    {
      "cell_type": "code",
      "source": [
        "train_windows.shape"
      ],
      "metadata": {
        "colab": {
          "base_uri": "https://localhost:8080/"
        },
        "id": "Psm-aleZ-n_2",
        "outputId": "b2fb0b0c-a510-4d05-e12a-1574ba4783fd"
      },
      "execution_count": null,
      "outputs": [
        {
          "output_type": "execute_result",
          "data": {
            "text/plain": [
              "(2224, 7)"
            ]
          },
          "metadata": {},
          "execution_count": 49
        }
      ]
    },
    {
      "cell_type": "code",
      "source": [
        "train_labels.shape"
      ],
      "metadata": {
        "colab": {
          "base_uri": "https://localhost:8080/"
        },
        "id": "RXmUM1sd-q6z",
        "outputId": "1754013d-595f-449f-a812-5cf465c721a8"
      },
      "execution_count": null,
      "outputs": [
        {
          "output_type": "execute_result",
          "data": {
            "text/plain": [
              "(2224, 1)"
            ]
          },
          "metadata": {},
          "execution_count": 50
        }
      ]
    },
    {
      "cell_type": "code",
      "source": [
        "import tensorflow as tf\n",
        "from tensorflow.keras import layers\n",
        "\n",
        "# Set random seed for as reproducible results as possible\n",
        "tf.random.set_seed(42)\n",
        "\n",
        "# Construct model\n",
        "model_1 = tf.keras.Sequential([\n",
        "  layers.Dense(128, activation=\"relu\", input_shape=(WINDOW_SIZE,)),\n",
        "  layers.Dense(HORIZON, activation=\"linear\") # linear activation is the same as having no activation                        \n",
        "], name=\"model_1_dense\") # give the model a name so we can save it\n",
        "\n",
        "# Compile model\n",
        "model_1.compile(loss=\"mae\",\n",
        "                optimizer=tf.keras.optimizers.Adam(),\n",
        "                metrics=[\"mae\"]) # we don't necessarily need this when the loss function is already MAE\n",
        "\n",
        "model_1.summary()"
      ],
      "metadata": {
        "colab": {
          "base_uri": "https://localhost:8080/"
        },
        "id": "jVnNUugx9lrO",
        "outputId": "dd09bc09-7f50-49ce-f898-3e05f9696628"
      },
      "execution_count": null,
      "outputs": [
        {
          "output_type": "stream",
          "name": "stdout",
          "text": [
            "Model: \"model_1_dense\"\n",
            "_________________________________________________________________\n",
            " Layer (type)                Output Shape              Param #   \n",
            "=================================================================\n",
            " dense_2 (Dense)             (None, 128)               1024      \n",
            "                                                                 \n",
            " dense_3 (Dense)             (None, 1)                 129       \n",
            "                                                                 \n",
            "=================================================================\n",
            "Total params: 1,153\n",
            "Trainable params: 1,153\n",
            "Non-trainable params: 0\n",
            "_________________________________________________________________\n"
          ]
        }
      ]
    },
    {
      "cell_type": "code",
      "source": [
        "# Fit model\n",
        "model_1.fit(x=train_windows, # train windows of 7 timesteps of Bitcoin prices\n",
        "            y=train_labels, # horizon value of 1 (using the previous 7 timesteps to predict next day)\n",
        "            epochs=10,\n",
        "            verbose=1,\n",
        "            batch_size=128,\n",
        "            validation_data=(test_windows, test_labels),\n",
        "            callbacks=[create_model_checkpoint(model_name=model_1.name)]) # create ModelCheckpoint callback to save best model"
      ],
      "metadata": {
        "colab": {
          "base_uri": "https://localhost:8080/"
        },
        "id": "dj9Mh6Zw-cin",
        "outputId": "ed2df898-d657-47f4-cfd0-295123da3dd1"
      },
      "execution_count": null,
      "outputs": [
        {
          "output_type": "stream",
          "name": "stdout",
          "text": [
            "Epoch 1/10\n",
            " 1/18 [>.............................] - ETA: 9s - loss: 2111.0571 - mae: 2111.0571INFO:tensorflow:Assets written to: model_experiments/model_1_dense/assets\n",
            "18/18 [==============================] - 2s 59ms/step - loss: 780.3469 - mae: 780.3469 - val_loss: 2279.5828 - val_mae: 2279.5828\n",
            "Epoch 2/10\n",
            " 1/18 [>.............................] - ETA: 0s - loss: 348.8778 - mae: 348.8778INFO:tensorflow:Assets written to: model_experiments/model_1_dense/assets\n",
            "18/18 [==============================] - 1s 38ms/step - loss: 247.6765 - mae: 247.6765 - val_loss: 1005.9864 - val_mae: 1005.9864\n",
            "Epoch 3/10\n",
            " 1/18 [>.............................] - ETA: 0s - loss: 134.4844 - mae: 134.4844INFO:tensorflow:Assets written to: model_experiments/model_1_dense/assets\n",
            "18/18 [==============================] - 1s 37ms/step - loss: 188.4107 - mae: 188.4107 - val_loss: 923.2859 - val_mae: 923.2859\n",
            "Epoch 4/10\n",
            " 1/18 [>.............................] - ETA: 0s - loss: 211.3675 - mae: 211.3675INFO:tensorflow:Assets written to: model_experiments/model_1_dense/assets\n",
            "18/18 [==============================] - 1s 36ms/step - loss: 169.4334 - mae: 169.4334 - val_loss: 900.5932 - val_mae: 900.5932\n",
            "Epoch 5/10\n",
            " 1/18 [>.............................] - ETA: 0s - loss: 155.7283 - mae: 155.7283INFO:tensorflow:Assets written to: model_experiments/model_1_dense/assets\n",
            "18/18 [==============================] - 1s 38ms/step - loss: 165.0899 - mae: 165.0899 - val_loss: 895.2405 - val_mae: 895.2405\n",
            "Epoch 6/10\n",
            " 1/18 [>.............................] - ETA: 0s - loss: 117.3697 - mae: 117.3697INFO:tensorflow:Assets written to: model_experiments/model_1_dense/assets\n",
            "18/18 [==============================] - 1s 37ms/step - loss: 158.5206 - mae: 158.5206 - val_loss: 855.1868 - val_mae: 855.1868\n",
            "Epoch 7/10\n",
            " 1/18 [>.............................] - ETA: 0s - loss: 180.3330 - mae: 180.3330INFO:tensorflow:Assets written to: model_experiments/model_1_dense/assets\n",
            "18/18 [==============================] - 1s 37ms/step - loss: 151.3568 - mae: 151.3568 - val_loss: 840.9290 - val_mae: 840.9290\n",
            "Epoch 8/10\n",
            " 1/18 [>.............................] - ETA: 0s - loss: 121.1151 - mae: 121.1151INFO:tensorflow:Assets written to: model_experiments/model_1_dense/assets\n",
            "18/18 [==============================] - 1s 40ms/step - loss: 145.2560 - mae: 145.2560 - val_loss: 803.6005 - val_mae: 803.6005\n",
            "Epoch 9/10\n",
            " 1/18 [>.............................] - ETA: 0s - loss: 126.2221 - mae: 126.2221INFO:tensorflow:Assets written to: model_experiments/model_1_dense/assets\n",
            "18/18 [==============================] - 1s 35ms/step - loss: 144.3546 - mae: 144.3546 - val_loss: 799.5592 - val_mae: 799.5592\n",
            "Epoch 10/10\n",
            " 1/18 [>.............................] - ETA: 0s - loss: 148.4517 - mae: 148.4517INFO:tensorflow:Assets written to: model_experiments/model_1_dense/assets\n",
            "18/18 [==============================] - 1s 37ms/step - loss: 141.2944 - mae: 141.2944 - val_loss: 763.5060 - val_mae: 763.5060\n"
          ]
        },
        {
          "output_type": "execute_result",
          "data": {
            "text/plain": [
              "<keras.callbacks.History at 0x7f4475fd7a50>"
            ]
          },
          "metadata": {},
          "execution_count": 53
        }
      ]
    },
    {
      "cell_type": "code",
      "source": [
        "model_1_preds = model_1.predict(test_windows)\n",
        "model_1_preds.shape"
      ],
      "metadata": {
        "colab": {
          "base_uri": "https://localhost:8080/"
        },
        "id": "gS_wHwWv_BHm",
        "outputId": "b4e75d83-ce51-488e-c7d5-5b26deee8c38"
      },
      "execution_count": null,
      "outputs": [
        {
          "output_type": "execute_result",
          "data": {
            "text/plain": [
              "(556, 1)"
            ]
          },
          "metadata": {},
          "execution_count": 54
        }
      ]
    },
    {
      "cell_type": "code",
      "source": [
        "model_1_results = forescast_evaluate_preds(y_true=tf.squeeze(test_labels), # reduce to right shape\n",
        "                                 y_pred=tf.squeeze(model_1_preds))\n",
        "model_1_results"
      ],
      "metadata": {
        "colab": {
          "base_uri": "https://localhost:8080/"
        },
        "id": "hz3wuKEE_Jg4",
        "outputId": "8cc36f9e-accc-4094-df08-9f68d5f93d3f"
      },
      "execution_count": null,
      "outputs": [
        {
          "output_type": "execute_result",
          "data": {
            "text/plain": [
              "{'mae': 763.506,\n",
              " 'mape': 3.3924627,\n",
              " 'mase': 1.3412685,\n",
              " 'mse': 1933137.0,\n",
              " 'rmse': 1390.3729}"
            ]
          },
          "metadata": {},
          "execution_count": 57
        }
      ]
    },
    {
      "cell_type": "code",
      "source": [
        "test_labels.shape"
      ],
      "metadata": {
        "colab": {
          "base_uri": "https://localhost:8080/"
        },
        "id": "bHdYjINgALgU",
        "outputId": "e60ad730-e520-4533-80de-f5828719f5c4"
      },
      "execution_count": null,
      "outputs": [
        {
          "output_type": "execute_result",
          "data": {
            "text/plain": [
              "(556, 1)"
            ]
          },
          "metadata": {},
          "execution_count": 61
        }
      ]
    },
    {
      "cell_type": "code",
      "source": [
        "X_test.shape"
      ],
      "metadata": {
        "colab": {
          "base_uri": "https://localhost:8080/"
        },
        "id": "zLGZuZiQAQZx",
        "outputId": "20a55d2d-950f-4eb7-b263-d15c8e319ad8"
      },
      "execution_count": null,
      "outputs": [
        {
          "output_type": "execute_result",
          "data": {
            "text/plain": [
              "(558,)"
            ]
          },
          "metadata": {},
          "execution_count": 62
        }
      ]
    },
    {
      "cell_type": "code",
      "source": [
        "# The delay of HORIZON (1 start and 1 at the end)\n",
        "# take the last \"test_windows\" size values\n",
        "X_test[-len(test_windows):].shape"
      ],
      "metadata": {
        "colab": {
          "base_uri": "https://localhost:8080/"
        },
        "id": "cCPaYHQOAEfk",
        "outputId": "17e6d1af-2fbb-4665-edd7-a0a731a66905"
      },
      "execution_count": null,
      "outputs": [
        {
          "output_type": "execute_result",
          "data": {
            "text/plain": [
              "(556,)"
            ]
          },
          "metadata": {},
          "execution_count": 60
        }
      ]
    },
    {
      "cell_type": "code",
      "source": [
        "offset = 300\n",
        "plt.figure(figsize=(10, 7))\n",
        "# Account for the test_window offset and index into test_labels to ensure correct plotting\n",
        "plot_time_series(timesteps=X_test[-len(test_windows):], values=test_labels[:, 0], start=offset, label=\"Test_data\")\n",
        "plot_time_series(timesteps=X_test[-len(test_windows):], values=model_1_preds[:, 0], start=offset, format=\"-\", label=\"model_1_preds\")"
      ],
      "metadata": {
        "colab": {
          "base_uri": "https://localhost:8080/",
          "height": 442
        },
        "id": "ZondxAwj_q1x",
        "outputId": "ec8a630e-2c08-41a9-db80-d10f5f93207b"
      },
      "execution_count": null,
      "outputs": [
        {
          "output_type": "display_data",
          "data": {
            "image/png": "[encoded data removed]",
            "text/plain": [
              "<Figure size 720x504 with 1 Axes>"
            ]
          },
          "metadata": {
            "needs_background": "light"
          }
        }
      ]
    },
    {
      "cell_type": "markdown",
      "source": [
        "### Model 3: Dense (window = 30, horizon = 7)"
      ],
      "metadata": {
        "id": "dY1fzvEtABh1"
      }
    },
    {
      "cell_type": "code",
      "source": [
        "HORIZON = 7\n",
        "WINDOW_SIZE = 30\n",
        "\n",
        "full_windows, full_labels = make_windows(price, window_size=WINDOW_SIZE, horizon=HORIZON)\n",
        "len(full_windows), len(full_labels)"
      ],
      "metadata": {
        "colab": {
          "base_uri": "https://localhost:8080/"
        },
        "id": "mx7rBzvyAnJl",
        "outputId": "26b6f350-b562-4271-8c6e-2c6b287c233d"
      },
      "execution_count": null,
      "outputs": [
        {
          "output_type": "execute_result",
          "data": {
            "text/plain": [
              "(2751, 2751)"
            ]
          },
          "metadata": {},
          "execution_count": 64
        }
      ]
    },
    {
      "cell_type": "code",
      "source": [
        "train_windows, test_windows, train_labels, test_labels = make_train_test_splits(windows=full_windows, labels=full_labels, test_split=0.2)\n",
        "len(train_windows), len(train_labels), len(test_windows), len(test_labels)"
      ],
      "metadata": {
        "colab": {
          "base_uri": "https://localhost:8080/"
        },
        "id": "D0WRMpzEAuYG",
        "outputId": "6b9b7ca8-2317-4ae6-ba4f-12cbad99aa3f"
      },
      "execution_count": null,
      "outputs": [
        {
          "output_type": "execute_result",
          "data": {
            "text/plain": [
              "(2200, 2200, 551, 551)"
            ]
          },
          "metadata": {},
          "execution_count": 65
        }
      ]
    },
    {
      "cell_type": "code",
      "source": [
        "tf.random.set_seed(42)\n",
        "\n",
        "# Create model (same as model_1 except with different data input size)\n",
        "model_3 = tf.keras.Sequential([\n",
        "  layers.Dense(128, activation=\"relu\", input_shape=(WINDOW_SIZE,)),\n",
        "  layers.Dense(HORIZON)\n",
        "], name=\"model_3_dense\")\n",
        "\n",
        "model_3.compile(loss=\"mae\",\n",
        "                optimizer=tf.keras.optimizers.Adam())\n",
        "\n",
        "model_3.summary()"
      ],
      "metadata": {
        "colab": {
          "base_uri": "https://localhost:8080/"
        },
        "id": "u0xsnaAsA0Wz",
        "outputId": "0b30b04c-b313-4477-ffcc-2590c266e398"
      },
      "execution_count": null,
      "outputs": [
        {
          "output_type": "stream",
          "name": "stdout",
          "text": [
            "Model: \"model_3_dense\"\n",
            "_________________________________________________________________\n",
            " Layer (type)                Output Shape              Param #   \n",
            "=================================================================\n",
            " dense_4 (Dense)             (None, 128)               3968      \n",
            "                                                                 \n",
            " dense_5 (Dense)             (None, 7)                 903       \n",
            "                                                                 \n",
            "=================================================================\n",
            "Total params: 4,871\n",
            "Trainable params: 4,871\n",
            "Non-trainable params: 0\n",
            "_________________________________________________________________\n"
          ]
        }
      ]
    },
    {
      "cell_type": "code",
      "source": [
        "model_3.fit(train_windows,\n",
        "            train_labels,\n",
        "            batch_size=128,\n",
        "            epochs=20,\n",
        "            verbose=1,\n",
        "            validation_data=(test_windows, test_labels),\n",
        "            callbacks=[create_model_checkpoint(model_name=model_3.name)])"
      ],
      "metadata": {
        "colab": {
          "base_uri": "https://localhost:8080/"
        },
        "id": "lDKr7ocHA6Rt",
        "outputId": "71fb9a20-a5ed-4c7f-9ed9-0b6a959eff7c"
      },
      "execution_count": null,
      "outputs": [
        {
          "output_type": "stream",
          "name": "stdout",
          "text": [
            "Epoch 1/20\n",
            " 1/18 [>.............................] - ETA: 0s - loss: 287.1417INFO:tensorflow:Assets written to: model_experiments/model_3_dense/assets\n",
            "18/18 [==============================] - 1s 67ms/step - loss: 262.5755 - val_loss: 1382.7981\n",
            "Epoch 2/20\n",
            "18/18 [==============================] - 0s 6ms/step - loss: 258.5410 - val_loss: 1421.0117\n",
            "Epoch 3/20\n",
            "18/18 [==============================] - 0s 6ms/step - loss: 253.1149 - val_loss: 1502.4270\n",
            "Epoch 4/20\n",
            " 1/18 [>.............................] - ETA: 0s - loss: 299.7080INFO:tensorflow:Assets written to: model_experiments/model_3_dense/assets\n",
            "18/18 [==============================] - 1s 65ms/step - loss: 254.0686 - val_loss: 1377.9652\n",
            "Epoch 5/20\n",
            "18/18 [==============================] - 0s 6ms/step - loss: 250.8681 - val_loss: 1485.3599\n",
            "Epoch 6/20\n",
            "18/18 [==============================] - 0s 7ms/step - loss: 248.5655 - val_loss: 1423.0688\n",
            "Epoch 7/20\n",
            "18/18 [==============================] - 0s 7ms/step - loss: 247.8071 - val_loss: 1405.4435\n",
            "Epoch 8/20\n",
            "18/18 [==============================] - 0s 6ms/step - loss: 246.4445 - val_loss: 1437.0688\n",
            "Epoch 9/20\n",
            "18/18 [==============================] - 0s 6ms/step - loss: 248.2839 - val_loss: 1402.6619\n",
            "Epoch 10/20\n",
            "18/18 [==============================] - ETA: 0s - loss: 247.3178INFO:tensorflow:Assets written to: model_experiments/model_3_dense/assets\n",
            "18/18 [==============================] - 1s 58ms/step - loss: 247.3178 - val_loss: 1366.8928\n",
            "Epoch 11/20\n",
            " 1/18 [>.............................] - ETA: 0s - loss: 261.1992INFO:tensorflow:Assets written to: model_experiments/model_3_dense/assets\n",
            "18/18 [==============================] - 1s 35ms/step - loss: 247.2173 - val_loss: 1349.8333\n",
            "Epoch 12/20\n",
            "18/18 [==============================] - 0s 4ms/step - loss: 243.4732 - val_loss: 1421.1012\n",
            "Epoch 13/20\n",
            " 1/18 [>.............................] - ETA: 0s - loss: 220.3544INFO:tensorflow:Assets written to: model_experiments/model_3_dense/assets\n",
            "18/18 [==============================] - 1s 34ms/step - loss: 242.5813 - val_loss: 1331.4238\n",
            "Epoch 14/20\n",
            "18/18 [==============================] - 0s 4ms/step - loss: 246.1339 - val_loss: 1350.4723\n",
            "Epoch 15/20\n",
            "18/18 [==============================] - 0s 4ms/step - loss: 240.8534 - val_loss: 1385.3274\n",
            "Epoch 16/20\n",
            "18/18 [==============================] - 0s 3ms/step - loss: 243.9482 - val_loss: 1350.3870\n",
            "Epoch 17/20\n",
            "18/18 [==============================] - 0s 5ms/step - loss: 242.9368 - val_loss: 1499.8085\n",
            "Epoch 18/20\n",
            "18/18 [==============================] - 0s 3ms/step - loss: 248.2360 - val_loss: 1387.7230\n",
            "Epoch 19/20\n",
            "18/18 [==============================] - 0s 4ms/step - loss: 242.6060 - val_loss: 1482.3014\n",
            "Epoch 20/20\n",
            "18/18 [==============================] - 0s 4ms/step - loss: 247.7756 - val_loss: 1384.9260\n"
          ]
        },
        {
          "output_type": "execute_result",
          "data": {
            "text/plain": [
              "<keras.callbacks.History at 0x7f4471cbb0d0>"
            ]
          },
          "metadata": {},
          "execution_count": 68
        }
      ]
    },
    {
      "cell_type": "code",
      "source": [
        "# How did our model with a larger window size and horizon go?\n",
        "model_3.evaluate(test_windows, test_labels)"
      ],
      "metadata": {
        "colab": {
          "base_uri": "https://localhost:8080/"
        },
        "id": "S7TFGaxkBOdo",
        "outputId": "c76f47cd-060e-490b-cb32-5b645003b884"
      },
      "execution_count": null,
      "outputs": [
        {
          "output_type": "stream",
          "name": "stdout",
          "text": [
            "18/18 [==============================] - 0s 2ms/step - loss: 1384.9260\n"
          ]
        },
        {
          "output_type": "execute_result",
          "data": {
            "text/plain": [
              "1384.926025390625"
            ]
          },
          "metadata": {},
          "execution_count": 69
        }
      ]
    },
    {
      "cell_type": "code",
      "source": [
        "# Load in best version of model_3 and evaluate\n",
        "model_3 = tf.keras.models.load_model(\"model_experiments/model_3_dense/\")\n",
        "model_3.evaluate(test_windows, test_labels)"
      ],
      "metadata": {
        "colab": {
          "base_uri": "https://localhost:8080/"
        },
        "id": "uw5inhSjBUXO",
        "outputId": "138752cd-edbc-4304-c498-8ae881c421d9"
      },
      "execution_count": null,
      "outputs": [
        {
          "output_type": "stream",
          "name": "stdout",
          "text": [
            "18/18 [==============================] - 0s 2ms/step - loss: 1331.4238\n"
          ]
        },
        {
          "output_type": "execute_result",
          "data": {
            "text/plain": [
              "1331.423828125"
            ]
          },
          "metadata": {},
          "execution_count": 70
        }
      ]
    },
    {
      "cell_type": "code",
      "source": [
        "model_3_preds = model_3.predict(test_windows)\n",
        "model_3_results = forescast_evaluate_preds(y_true=tf.squeeze(test_labels), # reduce to right shape\n",
        "                                 y_pred=tf.squeeze(model_3_preds))\n",
        "model_3_results"
      ],
      "metadata": {
        "colab": {
          "base_uri": "https://localhost:8080/"
        },
        "id": "BRjUFFPsBO3O",
        "outputId": "fd59b37d-fcc9-417b-8874-81a4ba851184"
      },
      "execution_count": null,
      "outputs": [
        {
          "output_type": "execute_result",
          "data": {
            "text/plain": [
              "{'mae': 1331.4238,\n",
              " 'mape': 6.0194874,\n",
              " 'mase': 2.369194,\n",
              " 'mse': 6079492.5,\n",
              " 'rmse': 1520.0919}"
            ]
          },
          "metadata": {},
          "execution_count": 74
        }
      ]
    },
    {
      "cell_type": "code",
      "source": [
        "model_3_preds.shape"
      ],
      "metadata": {
        "colab": {
          "base_uri": "https://localhost:8080/"
        },
        "id": "uK2zhwVGCgtg",
        "outputId": "ad91f530-f438-43da-ed34-e5a9d9df801e"
      },
      "execution_count": null,
      "outputs": [
        {
          "output_type": "execute_result",
          "data": {
            "text/plain": [
              "(551, 7)"
            ]
          },
          "metadata": {},
          "execution_count": 78
        }
      ]
    },
    {
      "cell_type": "code",
      "source": [
        "# Mean HORIZON prediction for each timestep\n",
        "tf.reduce_mean(model_3_preds, axis=1).shape"
      ],
      "metadata": {
        "colab": {
          "base_uri": "https://localhost:8080/"
        },
        "id": "pjjjnGFhCi76",
        "outputId": "85855405-93c3-41b7-c91a-8dc8b0da5dfa"
      },
      "execution_count": null,
      "outputs": [
        {
          "output_type": "execute_result",
          "data": {
            "text/plain": [
              "TensorShape([551])"
            ]
          },
          "metadata": {},
          "execution_count": 79
        }
      ]
    },
    {
      "cell_type": "code",
      "source": [
        "offset = 300\n",
        "model_3_preds_mean = tf.reduce_mean(model_3_preds, axis=1)\n",
        "\n",
        "plt.figure(figsize=(10, 7))\n",
        "# Account for the test_window offset and index into test_labels to ensure correct plotting\n",
        "plot_time_series(timesteps=X_test[-len(test_windows):], values=test_labels[:, 0], start=offset, label=\"Test_data\")\n",
        "plot_time_series(timesteps=X_test[-len(test_windows):], values=model_3_preds_mean, start=offset, format=\"-\", label=\"model_1_preds\")"
      ],
      "metadata": {
        "colab": {
          "base_uri": "https://localhost:8080/",
          "height": 442
        },
        "id": "aEWQkV8cB7Hm",
        "outputId": "5fd937e2-93c5-4362-8090-9f14dcbbd18a"
      },
      "execution_count": null,
      "outputs": [
        {
          "output_type": "display_data",
          "data": {
            "image/png": "[encoded data removed]",
            "text/plain": [
              "<Figure size 720x504 with 1 Axes>"
            ]
          },
          "metadata": {
            "needs_background": "light"
          }
        }
      ]
    },
    {
      "cell_type": "code",
      "source": [
        "pd.DataFrame({\"naive\": naive_results[\"mae\"], \n",
        "              \"horizon_1_window_7\": model_1_results[\"mae\"], \n",
        "              \"horizon_7_window_30\": model_3_results[\"mae\"]}, index=[\"mae\"]).plot(figsize=(10, 7), kind=\"bar\");"
      ],
      "metadata": {
        "colab": {
          "base_uri": "https://localhost:8080/",
          "height": 440
        },
        "id": "LP9_wPGJCuhP",
        "outputId": "af017eb8-b308-4ab8-be86-740b3d495eba"
      },
      "execution_count": null,
      "outputs": [
        {
          "output_type": "display_data",
          "data": {
            "image/png": "[encoded data removed]",
            "text/plain": [
              "<Figure size 720x504 with 1 Axes>"
            ]
          },
          "metadata": {
            "needs_background": "light"
          }
        }
      ]
    },
    {
      "cell_type": "markdown",
      "source": [
        "### Model 4: Conv1D"
      ],
      "metadata": {
        "id": "hJk8H5NVFVZU"
      }
    },
    {
      "cell_type": "code",
      "source": [
        "HORIZON = 1 # predict next day\n",
        "WINDOW_SIZE = 7 # use previous week worth of data\n",
        "\n",
        "full_windows, full_labels = make_windows(price, window_size=WINDOW_SIZE, horizon=HORIZON)\n",
        "train_windows, test_windows, train_labels, test_labels = make_train_test_splits(windows=full_windows, labels=full_labels, test_split=0.2)\n",
        "len(train_windows), len(train_labels), len(test_windows), len(test_labels)"
      ],
      "metadata": {
        "colab": {
          "base_uri": "https://localhost:8080/"
        },
        "id": "qBXXq-r8FX6G",
        "outputId": "0cc4732f-03b9-41c7-c6c3-5fedda196a5c"
      },
      "execution_count": null,
      "outputs": [
        {
          "output_type": "execute_result",
          "data": {
            "text/plain": [
              "(2224, 2224, 556, 556)"
            ]
          },
          "metadata": {},
          "execution_count": 83
        }
      ]
    },
    {
      "cell_type": "code",
      "source": [
        "# CONV1D expect 2D ARRAY (step, samples), we need to expand our input"
      ],
      "metadata": {
        "id": "HsNgCiPTFfKT"
      },
      "execution_count": null,
      "outputs": []
    },
    {
      "cell_type": "code",
      "source": [
        "# Before we pass our data to the Conv1D layer, we have to reshape it in order to make sure it works\n",
        "x = tf.constant(train_windows[0])\n",
        "expand_dims_layer = layers.Lambda(lambda x: tf.expand_dims(x, axis=1)) # add an extra dimension for timesteps\n",
        "print(f\"Original shape: {x.shape}\") # (WINDOW_SIZE)\n",
        "print(f\"Expanded shape: {expand_dims_layer(x).shape}\") # (WINDOW_SIZE, input_dim) \n",
        "print(f\"Original values with expanded shape:\\n {expand_dims_layer(x)}\")"
      ],
      "metadata": {
        "colab": {
          "base_uri": "https://localhost:8080/"
        },
        "id": "krfUDDcFFn6R",
        "outputId": "007f6fbd-d089-44f2-df80-b615f8d36ceb"
      },
      "execution_count": null,
      "outputs": [
        {
          "output_type": "stream",
          "name": "stdout",
          "text": [
            "Original shape: (7,)\n",
            "Expanded shape: (7, 1)\n",
            "Original values with expanded shape:\n",
            " [[123.65499]\n",
            " [125.455  ]\n",
            " [108.58483]\n",
            " [118.67466]\n",
            " [121.33866]\n",
            " [120.65533]\n",
            " [121.795  ]]\n"
          ]
        }
      ]
    },
    {
      "cell_type": "code",
      "source": [
        "tf.random.set_seed(42)\n",
        "\n",
        "# Create model\n",
        "model_4 = tf.keras.Sequential([\n",
        "  # Create Lambda layer to reshape inputs, without this layer, the model will error\n",
        "  layers.Input(shape=(WINDOW_SIZE,)),\n",
        "  layers.Lambda(lambda x: tf.expand_dims(x, axis=1)), # resize the inputs to adjust for window size / Conv1D 3D input requirements\n",
        "  layers.Conv1D(filters=128, kernel_size=5, padding=\"causal\", activation=\"relu\"),\n",
        "  layers.Dense(HORIZON)\n",
        "], name=\"model_4_conv1D\")\n",
        "\n",
        "# Compile model\n",
        "model_4.compile(loss=\"mae\",\n",
        "                optimizer=tf.keras.optimizers.Adam())\n",
        "\n",
        "model_4.summary()"
      ],
      "metadata": {
        "colab": {
          "base_uri": "https://localhost:8080/"
        },
        "id": "kypgTJpAFTXX",
        "outputId": "e0ba2eaa-c715-4a02-deef-b38ff51333ae"
      },
      "execution_count": null,
      "outputs": [
        {
          "output_type": "stream",
          "name": "stdout",
          "text": [
            "Model: \"model_4_conv1D\"\n",
            "_________________________________________________________________\n",
            " Layer (type)                Output Shape              Param #   \n",
            "=================================================================\n",
            " lambda_3 (Lambda)           (None, 1, 7)              0         \n",
            "                                                                 \n",
            " conv1d_2 (Conv1D)           (None, 1, 128)            4608      \n",
            "                                                                 \n",
            " dense_8 (Dense)             (None, 1, 1)              129       \n",
            "                                                                 \n",
            "=================================================================\n",
            "Total params: 4,737\n",
            "Trainable params: 4,737\n",
            "Non-trainable params: 0\n",
            "_________________________________________________________________\n"
          ]
        }
      ]
    },
    {
      "cell_type": "code",
      "source": [
        "# Fit model\n",
        "model_4.fit(train_windows,\n",
        "            train_labels,\n",
        "            batch_size=128, \n",
        "            epochs=20,\n",
        "            verbose=1,\n",
        "            validation_data=(test_windows, test_labels),\n",
        "            callbacks=[create_model_checkpoint(model_name=model_4.name)])"
      ],
      "metadata": {
        "colab": {
          "base_uri": "https://localhost:8080/"
        },
        "id": "JCd6YYV_F6fp",
        "outputId": "65fa0a62-bbcd-48f3-e6ed-96f54a323a26"
      },
      "execution_count": null,
      "outputs": [
        {
          "output_type": "stream",
          "name": "stdout",
          "text": [
            "Epoch 1/20\n",
            "17/18 [===========================>..] - ETA: 0s - loss: 1227.0443 INFO:tensorflow:Assets written to: model_experiments/model_4_conv1D/assets\n",
            "18/18 [==============================] - 2s 99ms/step - loss: 1207.3885 - val_loss: 2320.5461\n",
            "Epoch 2/20\n",
            " 1/18 [>.............................] - ETA: 0s - loss: 353.1842INFO:tensorflow:Assets written to: model_experiments/model_4_conv1D/assets\n",
            "18/18 [==============================] - 1s 49ms/step - loss: 316.2140 - val_loss: 1467.3309\n",
            "Epoch 3/20\n",
            " 1/18 [>.............................] - ETA: 0s - loss: 191.0313INFO:tensorflow:Assets written to: model_experiments/model_4_conv1D/assets\n",
            "18/18 [==============================] - 1s 51ms/step - loss: 192.6844 - val_loss: 1164.7460\n",
            "Epoch 4/20\n",
            " 1/18 [>.............................] - ETA: 0s - loss: 228.4323INFO:tensorflow:Assets written to: model_experiments/model_4_conv1D/assets\n",
            "18/18 [==============================] - 1s 52ms/step - loss: 177.3536 - val_loss: 981.6823\n",
            "Epoch 5/20\n",
            " 1/18 [>.............................] - ETA: 0s - loss: 169.5924INFO:tensorflow:Assets written to: model_experiments/model_4_conv1D/assets\n",
            "18/18 [==============================] - 1s 52ms/step - loss: 172.3469 - val_loss: 960.8795\n",
            "Epoch 6/20\n",
            " 1/18 [>.............................] - ETA: 0s - loss: 130.1247INFO:tensorflow:Assets written to: model_experiments/model_4_conv1D/assets\n",
            "18/18 [==============================] - 1s 51ms/step - loss: 171.9752 - val_loss: 950.1938\n",
            "Epoch 7/20\n",
            " 1/18 [>.............................] - ETA: 0s - loss: 209.6358INFO:tensorflow:Assets written to: model_experiments/model_4_conv1D/assets\n",
            "18/18 [==============================] - 1s 50ms/step - loss: 167.1943 - val_loss: 943.3042\n",
            "Epoch 8/20\n",
            " 1/18 [>.............................] - ETA: 0s - loss: 143.1064INFO:tensorflow:Assets written to: model_experiments/model_4_conv1D/assets\n",
            "18/18 [==============================] - 1s 49ms/step - loss: 163.5994 - val_loss: 905.5258\n",
            "Epoch 9/20\n",
            "18/18 [==============================] - 0s 4ms/step - loss: 162.5453 - val_loss: 929.7834\n",
            "Epoch 10/20\n",
            " 1/18 [>.............................] - ETA: 0s - loss: 176.2636INFO:tensorflow:Assets written to: model_experiments/model_4_conv1D/assets\n",
            "18/18 [==============================] - 1s 48ms/step - loss: 158.5783 - val_loss: 871.9852\n",
            "Epoch 11/20\n",
            " 1/18 [>.............................] - ETA: 0s - loss: 172.6832INFO:tensorflow:Assets written to: model_experiments/model_4_conv1D/assets\n",
            "18/18 [==============================] - 1s 67ms/step - loss: 154.0055 - val_loss: 852.7189\n",
            "Epoch 12/20\n",
            "18/18 [==============================] - 0s 4ms/step - loss: 151.2621 - val_loss: 944.2293\n",
            "Epoch 13/20\n",
            "18/18 [==============================] - 0s 5ms/step - loss: 150.2687 - val_loss: 881.2109\n",
            "Epoch 14/20\n",
            " 1/18 [>.............................] - ETA: 0s - loss: 157.3269INFO:tensorflow:Assets written to: model_experiments/model_4_conv1D/assets\n",
            "18/18 [==============================] - 1s 49ms/step - loss: 145.4592 - val_loss: 849.2067\n",
            "Epoch 15/20\n",
            " 1/18 [>.............................] - ETA: 0s - loss: 143.7789INFO:tensorflow:Assets written to: model_experiments/model_4_conv1D/assets\n",
            "18/18 [==============================] - 1s 49ms/step - loss: 143.3641 - val_loss: 844.4286\n",
            "Epoch 16/20\n",
            " 1/18 [>.............................] - ETA: 0s - loss: 131.3069INFO:tensorflow:Assets written to: model_experiments/model_4_conv1D/assets\n",
            "18/18 [==============================] - 1s 50ms/step - loss: 139.8762 - val_loss: 806.7508\n",
            "Epoch 17/20\n",
            "18/18 [==============================] - 0s 4ms/step - loss: 138.1675 - val_loss: 812.6639\n",
            "Epoch 18/20\n",
            " 1/18 [>.............................] - ETA: 0s - loss: 147.8447INFO:tensorflow:Assets written to: model_experiments/model_4_conv1D/assets\n",
            "18/18 [==============================] - 1s 50ms/step - loss: 137.9499 - val_loss: 775.2330\n",
            "Epoch 19/20\n",
            " 1/18 [>.............................] - ETA: 0s - loss: 79.5908INFO:tensorflow:Assets written to: model_experiments/model_4_conv1D/assets\n",
            "18/18 [==============================] - 1s 50ms/step - loss: 131.1451 - val_loss: 755.4478\n",
            "Epoch 20/20\n",
            " 1/18 [>.............................] - ETA: 0s - loss: 138.0257INFO:tensorflow:Assets written to: model_experiments/model_4_conv1D/assets\n",
            "18/18 [==============================] - 1s 51ms/step - loss: 132.4057 - val_loss: 712.1984\n"
          ]
        },
        {
          "output_type": "execute_result",
          "data": {
            "text/plain": [
              "<keras.callbacks.History at 0x7f4471be85d0>"
            ]
          },
          "metadata": {},
          "execution_count": 88
        }
      ]
    },
    {
      "cell_type": "code",
      "source": [
        "# Load in best performing Conv1D model and evaluate it on the test data\n",
        "model_4 = tf.keras.models.load_model(\"model_experiments/model_4_conv1D\")\n",
        "model_4.evaluate(test_windows, test_labels)"
      ],
      "metadata": {
        "colab": {
          "base_uri": "https://localhost:8080/"
        },
        "id": "jzITUJ8IGKle",
        "outputId": "99a7d0c0-957b-4037-d23e-464568edb7b8"
      },
      "execution_count": null,
      "outputs": [
        {
          "output_type": "stream",
          "name": "stdout",
          "text": [
            "18/18 [==============================] - 0s 1ms/step - loss: 712.1983\n"
          ]
        },
        {
          "output_type": "execute_result",
          "data": {
            "text/plain": [
              "712.1983032226562"
            ]
          },
          "metadata": {},
          "execution_count": 89
        }
      ]
    },
    {
      "cell_type": "code",
      "source": [
        "model_4_preds = model_4.predict(test_windows)\n",
        "print(model_4_preds.shape)\n",
        "model_4_results = forescast_evaluate_preds(y_true=tf.squeeze(test_labels), # reduce to right shape\n",
        "                                 y_pred=tf.squeeze(model_4_preds))\n",
        "model_4_results"
      ],
      "metadata": {
        "colab": {
          "base_uri": "https://localhost:8080/"
        },
        "id": "G75GswYJGV8v",
        "outputId": "de857457-12d7-47c8-b048-80cd9bdc2846"
      },
      "execution_count": null,
      "outputs": [
        {
          "output_type": "stream",
          "name": "stdout",
          "text": [
            "(556, 1, 1)\n"
          ]
        },
        {
          "output_type": "execute_result",
          "data": {
            "text/plain": [
              "{'mae': 712.1983,\n",
              " 'mape': 3.191239,\n",
              " 'mase': 1.2511351,\n",
              " 'mse': 1729300.2,\n",
              " 'rmse': 1315.0286}"
            ]
          },
          "metadata": {},
          "execution_count": 91
        }
      ]
    },
    {
      "cell_type": "code",
      "source": [
        "offset = 300\n",
        "plt.figure(figsize=(10, 7))\n",
        "# Account for the test_window offset and index into test_labels to ensure correct plotting\n",
        "plot_time_series(timesteps=X_test[-len(test_windows):], values=test_labels[:, 0], start=offset, label=\"Test_data\")\n",
        "plot_time_series(timesteps=X_test[-len(test_windows):], values=tf.squeeze(model_4_preds), start=offset, format=\"-\", label=model_4.name)"
      ],
      "metadata": {
        "colab": {
          "base_uri": "https://localhost:8080/",
          "height": 442
        },
        "id": "7Cb0gM3FGmHF",
        "outputId": "c93deb5b-2201-4362-9099-03d11818f83a"
      },
      "execution_count": null,
      "outputs": [
        {
          "output_type": "display_data",
          "data": {
            "image/png": "[encoded data removed]",
            "text/plain": [
              "<Figure size 720x504 with 1 Axes>"
            ]
          },
          "metadata": {
            "needs_background": "light"
          }
        }
      ]
    },
    {
      "cell_type": "markdown",
      "source": [
        "### Model 5: RNN (LSTM)"
      ],
      "metadata": {
        "id": "-z8adX-gHbje"
      }
    },
    {
      "cell_type": "code",
      "source": [
        "HORIZON = 1 # predict next day\n",
        "WINDOW_SIZE = 7 # use previous week worth of data\n",
        "\n",
        "full_windows, full_labels = make_windows(price, window_size=WINDOW_SIZE, horizon=HORIZON)\n",
        "train_windows, test_windows, train_labels, test_labels = make_train_test_splits(windows=full_windows, labels=full_labels, test_split=0.2)\n",
        "len(train_windows), len(train_labels), len(test_windows), len(test_labels)"
      ],
      "metadata": {
        "colab": {
          "base_uri": "https://localhost:8080/"
        },
        "id": "HApxIj6zM4jr",
        "outputId": "856977e8-6229-464e-e27c-2fc378ed3cbd"
      },
      "execution_count": null,
      "outputs": [
        {
          "output_type": "execute_result",
          "data": {
            "text/plain": [
              "(2224, 2224, 556, 556)"
            ]
          },
          "metadata": {},
          "execution_count": 113
        }
      ]
    },
    {
      "cell_type": "code",
      "source": [
        "# The tf.keras.layers.LSTM() layer takes a tensor with [batch, timesteps, feature] dimensions.\n",
        "# same as CONV1D, we need as input a 2D ARRAY, we need to expand dims"
      ],
      "metadata": {
        "id": "F7AkiLXcHZ1y"
      },
      "execution_count": null,
      "outputs": []
    },
    {
      "cell_type": "code",
      "source": [
        "tf.random.set_seed(42)\n",
        "\n",
        "# Let's build an LSTM model with the Functional API\n",
        "inputs = layers.Input(shape=(WINDOW_SIZE,))\n",
        "x = layers.Lambda(lambda x: tf.expand_dims(x, axis=1))(inputs) # expand input dimension to be compatible with LSTM\n",
        "# print(x.shape)\n",
        "# x = layers.LSTM(128, activation=\"relu\", return_sequences=True)(x) # this layer will error if the inputs are not the right shape\n",
        "x = layers.LSTM(128, activation=\"relu\")(x) # using the tanh loss function results in a massive error\n",
        "# print(x.shape)\n",
        "# Add another optional dense layer (you could add more of these to see if they improve model performance)\n",
        "# x = layers.Dense(32, activation=\"relu\")(x)\n",
        "output = layers.Dense(HORIZON)(x)\n",
        "model_5 = tf.keras.Model(inputs=inputs, outputs=output, name=\"model_5_lstm\")\n",
        "\n",
        "# Compile model\n",
        "model_5.compile(loss=\"mae\",\n",
        "                optimizer=tf.keras.optimizers.Adam())\n",
        "\n",
        "model_5.summary()"
      ],
      "metadata": {
        "colab": {
          "base_uri": "https://localhost:8080/"
        },
        "id": "dOL_9VLWHmyI",
        "outputId": "8b97181b-3f5d-496d-b2bf-bb7c7b5e5914"
      },
      "execution_count": null,
      "outputs": [
        {
          "output_type": "stream",
          "name": "stdout",
          "text": [
            "Model: \"model_5_lstm\"\n",
            "_________________________________________________________________\n",
            " Layer (type)                Output Shape              Param #   \n",
            "=================================================================\n",
            " input_6 (InputLayer)        [(None, 7)]               0         \n",
            "                                                                 \n",
            " lambda_7 (Lambda)           (None, 1, 7)              0         \n",
            "                                                                 \n",
            " lstm_3 (LSTM)               (None, 128)               69632     \n",
            "                                                                 \n",
            " dense_12 (Dense)            (None, 1)                 129       \n",
            "                                                                 \n",
            "=================================================================\n",
            "Total params: 69,761\n",
            "Trainable params: 69,761\n",
            "Non-trainable params: 0\n",
            "_________________________________________________________________\n"
          ]
        }
      ]
    },
    {
      "cell_type": "code",
      "source": [
        "# Seems when saving the model several warnings are appearing: https://github.com/tensorflow/tensorflow/issues/47554 \n",
        "model_5.fit(train_windows,\n",
        "            train_labels,\n",
        "            epochs=20,\n",
        "            verbose=1,\n",
        "            batch_size=128,\n",
        "            validation_data=(test_windows, test_labels),\n",
        "            callbacks=[create_model_checkpoint(model_name=model_5.name)])"
      ],
      "metadata": {
        "colab": {
          "base_uri": "https://localhost:8080/"
        },
        "id": "Mrl2azKNH3aJ",
        "outputId": "6411b035-787e-4367-983f-1c004d9286a6"
      },
      "execution_count": null,
      "outputs": [
        {
          "output_type": "stream",
          "name": "stdout",
          "text": [
            "Epoch 1/20\n",
            "15/18 [========================>.....] - ETA: 0s - loss: 2405.3992INFO:tensorflow:Assets written to: model_experiments/model_5_lstm/assets\n"
          ]
        },
        {
          "output_type": "stream",
          "name": "stderr",
          "text": [
            "WARNING:absl:<keras.layers.recurrent.LSTMCell object at 0x7f44724a50d0> has the same name 'LSTMCell' as a built-in Keras object. Consider renaming <class 'keras.layers.recurrent.LSTMCell'> to avoid naming conflicts when loading with `tf.keras.models.load_model`. If renaming is not possible, pass the object in the `custom_objects` parameter of the load function.\n"
          ]
        },
        {
          "output_type": "stream",
          "name": "stdout",
          "text": [
            "18/18 [==============================] - 8s 322ms/step - loss: 2323.6123 - val_loss: 9224.3506\n",
            "Epoch 2/20\n",
            "13/18 [====================>.........] - ETA: 0s - loss: 859.7588 INFO:tensorflow:Assets written to: model_experiments/model_5_lstm/assets\n"
          ]
        },
        {
          "output_type": "stream",
          "name": "stderr",
          "text": [
            "INFO:tensorflow:Assets written to: model_experiments/model_5_lstm/assets\n",
            "WARNING:absl:<keras.layers.recurrent.LSTMCell object at 0x7f44724a50d0> has the same name 'LSTMCell' as a built-in Keras object. Consider renaming <class 'keras.layers.recurrent.LSTMCell'> to avoid naming conflicts when loading with `tf.keras.models.load_model`. If renaming is not possible, pass the object in the `custom_objects` parameter of the load function.\n"
          ]
        },
        {
          "output_type": "stream",
          "name": "stdout",
          "text": [
            "18/18 [==============================] - 3s 152ms/step - loss: 695.4956 - val_loss: 1485.8942\n",
            "Epoch 3/20\n",
            "10/18 [===============>..............] - ETA: 0s - loss: 273.3071INFO:tensorflow:Assets written to: model_experiments/model_5_lstm/assets\n"
          ]
        },
        {
          "output_type": "stream",
          "name": "stderr",
          "text": [
            "INFO:tensorflow:Assets written to: model_experiments/model_5_lstm/assets\n",
            "WARNING:absl:<keras.layers.recurrent.LSTMCell object at 0x7f44724a50d0> has the same name 'LSTMCell' as a built-in Keras object. Consider renaming <class 'keras.layers.recurrent.LSTMCell'> to avoid naming conflicts when loading with `tf.keras.models.load_model`. If renaming is not possible, pass the object in the `custom_objects` parameter of the load function.\n"
          ]
        },
        {
          "output_type": "stream",
          "name": "stdout",
          "text": [
            "18/18 [==============================] - 2s 146ms/step - loss: 237.3010 - val_loss: 1298.9435\n",
            "Epoch 4/20\n",
            "10/18 [===============>..............] - ETA: 0s - loss: 200.8831INFO:tensorflow:Assets written to: model_experiments/model_5_lstm/assets\n"
          ]
        },
        {
          "output_type": "stream",
          "name": "stderr",
          "text": [
            "INFO:tensorflow:Assets written to: model_experiments/model_5_lstm/assets\n",
            "WARNING:absl:<keras.layers.recurrent.LSTMCell object at 0x7f44724a50d0> has the same name 'LSTMCell' as a built-in Keras object. Consider renaming <class 'keras.layers.recurrent.LSTMCell'> to avoid naming conflicts when loading with `tf.keras.models.load_model`. If renaming is not possible, pass the object in the `custom_objects` parameter of the load function.\n"
          ]
        },
        {
          "output_type": "stream",
          "name": "stdout",
          "text": [
            "18/18 [==============================] - 3s 162ms/step - loss: 181.9182 - val_loss: 966.6407\n",
            "Epoch 5/20\n",
            "18/18 [==============================] - 0s 8ms/step - loss: 173.4021 - val_loss: 970.9384\n",
            "Epoch 6/20\n",
            " 9/18 [==============>...............] - ETA: 0s - loss: 168.0929INFO:tensorflow:Assets written to: model_experiments/model_5_lstm/assets\n"
          ]
        },
        {
          "output_type": "stream",
          "name": "stderr",
          "text": [
            "INFO:tensorflow:Assets written to: model_experiments/model_5_lstm/assets\n",
            "WARNING:absl:<keras.layers.recurrent.LSTMCell object at 0x7f44724a50d0> has the same name 'LSTMCell' as a built-in Keras object. Consider renaming <class 'keras.layers.recurrent.LSTMCell'> to avoid naming conflicts when loading with `tf.keras.models.load_model`. If renaming is not possible, pass the object in the `custom_objects` parameter of the load function.\n"
          ]
        },
        {
          "output_type": "stream",
          "name": "stdout",
          "text": [
            "18/18 [==============================] - 2s 143ms/step - loss: 172.3319 - val_loss: 891.5209\n",
            "Epoch 7/20\n",
            "18/18 [==============================] - 0s 9ms/step - loss: 168.9708 - val_loss: 968.6377\n",
            "Epoch 8/20\n",
            "18/18 [==============================] - 0s 12ms/step - loss: 169.5317 - val_loss: 963.4456\n",
            "Epoch 9/20\n",
            "18/18 [==============================] - 0s 11ms/step - loss: 167.5760 - val_loss: 956.5829\n",
            "Epoch 10/20\n",
            "18/18 [==============================] - 0s 12ms/step - loss: 166.3443 - val_loss: 936.8956\n",
            "Epoch 11/20\n",
            "18/18 [==============================] - 0s 9ms/step - loss: 165.4762 - val_loss: 909.1110\n",
            "Epoch 12/20\n",
            "18/18 [==============================] - ETA: 0s - loss: 169.9951INFO:tensorflow:Assets written to: model_experiments/model_5_lstm/assets\n"
          ]
        },
        {
          "output_type": "stream",
          "name": "stderr",
          "text": [
            "INFO:tensorflow:Assets written to: model_experiments/model_5_lstm/assets\n",
            "WARNING:absl:<keras.layers.recurrent.LSTMCell object at 0x7f44724a50d0> has the same name 'LSTMCell' as a built-in Keras object. Consider renaming <class 'keras.layers.recurrent.LSTMCell'> to avoid naming conflicts when loading with `tf.keras.models.load_model`. If renaming is not possible, pass the object in the `custom_objects` parameter of the load function.\n"
          ]
        },
        {
          "output_type": "stream",
          "name": "stdout",
          "text": [
            "18/18 [==============================] - 6s 335ms/step - loss: 169.9951 - val_loss: 891.2327\n",
            "Epoch 13/20\n",
            "18/18 [==============================] - 0s 16ms/step - loss: 160.3806 - val_loss: 898.5595\n",
            "Epoch 14/20\n",
            "18/18 [==============================] - 0s 13ms/step - loss: 157.6484 - val_loss: 927.9266\n",
            "Epoch 15/20\n",
            "18/18 [==============================] - 0s 12ms/step - loss: 167.6508 - val_loss: 982.9256\n",
            "Epoch 16/20\n",
            "18/18 [==============================] - 0s 18ms/step - loss: 160.4521 - val_loss: 916.0458\n",
            "Epoch 17/20\n",
            "18/18 [==============================] - 0s 14ms/step - loss: 153.8805 - val_loss: 928.6927\n",
            "Epoch 18/20\n",
            "18/18 [==============================] - ETA: 0s - loss: 152.1556INFO:tensorflow:Assets written to: model_experiments/model_5_lstm/assets\n"
          ]
        },
        {
          "output_type": "stream",
          "name": "stderr",
          "text": [
            "INFO:tensorflow:Assets written to: model_experiments/model_5_lstm/assets\n",
            "WARNING:absl:<keras.layers.recurrent.LSTMCell object at 0x7f44724a50d0> has the same name 'LSTMCell' as a built-in Keras object. Consider renaming <class 'keras.layers.recurrent.LSTMCell'> to avoid naming conflicts when loading with `tf.keras.models.load_model`. If renaming is not possible, pass the object in the `custom_objects` parameter of the load function.\n"
          ]
        },
        {
          "output_type": "stream",
          "name": "stdout",
          "text": [
            "18/18 [==============================] - 6s 350ms/step - loss: 152.1556 - val_loss: 865.6219\n",
            "Epoch 19/20\n",
            "18/18 [==============================] - 0s 7ms/step - loss: 148.8319 - val_loss: 876.9328\n",
            "Epoch 20/20\n",
            "11/18 [=================>............] - ETA: 0s - loss: 153.5789INFO:tensorflow:Assets written to: model_experiments/model_5_lstm/assets\n"
          ]
        },
        {
          "output_type": "stream",
          "name": "stderr",
          "text": [
            "INFO:tensorflow:Assets written to: model_experiments/model_5_lstm/assets\n",
            "WARNING:absl:<keras.layers.recurrent.LSTMCell object at 0x7f44724a50d0> has the same name 'LSTMCell' as a built-in Keras object. Consider renaming <class 'keras.layers.recurrent.LSTMCell'> to avoid naming conflicts when loading with `tf.keras.models.load_model`. If renaming is not possible, pass the object in the `custom_objects` parameter of the load function.\n"
          ]
        },
        {
          "output_type": "stream",
          "name": "stdout",
          "text": [
            "\b\b\b\b\b\b\b\b\b\b\b\b\b\b\b\b\b\b\b\b\b\b\b\b\b\b\b\b\b\b\b\b\b\b\b\b\b\b\b\b\b\b\b\b\b\b\b\b\b\b\b\b\b\b\b\b\b\b\b\b\b\b\b\b\b\r18/18 [==============================] - 3s 167ms/step - loss: 149.6801 - val_loss: 831.2376\n"
          ]
        },
        {
          "output_type": "execute_result",
          "data": {
            "text/plain": [
              "<keras.callbacks.History at 0x7f4472413890>"
            ]
          },
          "metadata": {},
          "execution_count": 98
        }
      ]
    },
    {
      "cell_type": "code",
      "source": [
        "# Load in best version of model 5 and evaluate on the test data\n",
        "model_5 = tf.keras.models.load_model(\"model_experiments/model_5_lstm/\")\n",
        "model_5.evaluate(test_windows, test_labels)"
      ],
      "metadata": {
        "colab": {
          "base_uri": "https://localhost:8080/"
        },
        "id": "thdvEgInIAmz",
        "outputId": "77e02b31-93aa-4300-f9b5-87c5235a2498"
      },
      "execution_count": null,
      "outputs": [
        {
          "output_type": "stream",
          "name": "stdout",
          "text": [
            "18/18 [==============================] - 0s 2ms/step - loss: 831.2377\n"
          ]
        },
        {
          "output_type": "execute_result",
          "data": {
            "text/plain": [
              "831.2376708984375"
            ]
          },
          "metadata": {},
          "execution_count": 99
        }
      ]
    },
    {
      "cell_type": "code",
      "source": [
        "model_5_preds = model_5.predict(test_windows)\n",
        "print(model_5_preds.shape)\n",
        "model_5_results = forescast_evaluate_preds(y_true=tf.squeeze(test_labels), # reduce to right shape\n",
        "                                 y_pred=tf.squeeze(model_5_preds))\n",
        "model_5_results"
      ],
      "metadata": {
        "colab": {
          "base_uri": "https://localhost:8080/"
        },
        "id": "fvg2cU0gII9I",
        "outputId": "a1e412d5-232d-4b64-92e8-c017d43f9cc5"
      },
      "execution_count": null,
      "outputs": [
        {
          "output_type": "stream",
          "name": "stdout",
          "text": [
            "(556, 1)\n"
          ]
        },
        {
          "output_type": "execute_result",
          "data": {
            "text/plain": [
              "{'mae': 831.23755,\n",
              " 'mape': 3.6765025,\n",
              " 'mase': 1.4602542,\n",
              " 'mse': 2272233.0,\n",
              " 'rmse': 1507.3928}"
            ]
          },
          "metadata": {},
          "execution_count": 114
        }
      ]
    },
    {
      "cell_type": "markdown",
      "source": [
        "### Model 6: RNN (LSTM) + Normalization"
      ],
      "metadata": {
        "id": "0D5nLfBGM-iC"
      }
    },
    {
      "cell_type": "code",
      "source": [
        "price.shape"
      ],
      "metadata": {
        "colab": {
          "base_uri": "https://localhost:8080/"
        },
        "id": "7Rmyt9vQNnys",
        "outputId": "f5d475a1-ab68-4053-a65f-b9dbb81c579d"
      },
      "execution_count": null,
      "outputs": [
        {
          "output_type": "execute_result",
          "data": {
            "text/plain": [
              "(2787,)"
            ]
          },
          "metadata": {},
          "execution_count": 102
        }
      ]
    },
    {
      "cell_type": "code",
      "source": [
        "from sklearn.preprocessing import MinMaxScaler\n",
        "scaler = MinMaxScaler(feature_range=(0, 1))\n",
        "\n",
        "HORIZON = 1 # predict next day\n",
        "WINDOW_SIZE = 7 # use previous week worth of data\n",
        "\n",
        "# split train and test\n",
        "split_size = int(0.8 * len(price)) # 80% train, 20% test\n",
        "price_train, price_test = price[:split_size], price[split_size:]\n",
        "\n",
        "price_train_norm = scaler.fit_transform(price_train.reshape(-1, 1)).reshape(-1)\n",
        "price_test_norm = scaler.transform(price_test.reshape(-1, 1)).reshape(-1)\n",
        "\n",
        "print(price_train_norm.shape)\n",
        "print(price_test_norm.shape)\n",
        "price_norm = np.concatenate([price_train_norm, price_test_norm])\n",
        "print(price_norm.shape)\n",
        "\n",
        "\n",
        "full_windows, full_labels = make_windows(price_norm, window_size=WINDOW_SIZE, horizon=HORIZON)\n",
        "train_windows, test_windows, train_labels, test_labels = make_train_test_splits(windows=full_windows, labels=full_labels, test_split=0.2)\n",
        "len(train_windows), len(train_labels), len(test_windows), len(test_labels)"
      ],
      "metadata": {
        "colab": {
          "base_uri": "https://localhost:8080/"
        },
        "id": "ZPyu-VseM9vQ",
        "outputId": "2804df73-35b8-4f3f-c193-267bedc77c7f"
      },
      "execution_count": null,
      "outputs": [
        {
          "output_type": "stream",
          "name": "stdout",
          "text": [
            "(2229,)\n",
            "(558,)\n",
            "(2787,)\n"
          ]
        },
        {
          "output_type": "execute_result",
          "data": {
            "text/plain": [
              "(2224, 2224, 556, 556)"
            ]
          },
          "metadata": {},
          "execution_count": 111
        }
      ]
    },
    {
      "cell_type": "code",
      "source": [
        "tf.random.set_seed(42)\n",
        "\n",
        "# Let's build an LSTM model with the Functional API\n",
        "inputs = layers.Input(shape=(WINDOW_SIZE,))\n",
        "x = layers.Lambda(lambda x: tf.expand_dims(x, axis=1))(inputs) # expand input dimension to be compatible with LSTM\n",
        "# print(x.shape)\n",
        "# x = layers.LSTM(128, activation=\"relu\", return_sequences=True)(x) # this layer will error if the inputs are not the right shape\n",
        "x = layers.LSTM(128, activation=\"relu\")(x) # using the tanh loss function results in a massive error\n",
        "# print(x.shape)\n",
        "# Add another optional dense layer (you could add more of these to see if they improve model performance)\n",
        "# x = layers.Dense(32, activation=\"relu\")(x)\n",
        "output = layers.Dense(HORIZON)(x)\n",
        "model_6 = tf.keras.Model(inputs=inputs, outputs=output, name=\"model_6_lstm\")\n",
        "\n",
        "# Compile model\n",
        "model_6.compile(loss=\"mae\",\n",
        "                optimizer=tf.keras.optimizers.Adam())\n",
        "\n",
        "model_6.summary()"
      ],
      "metadata": {
        "colab": {
          "base_uri": "https://localhost:8080/"
        },
        "id": "nkAbhl2CPF9r",
        "outputId": "ba2152be-ea5e-4ec5-98ae-cda7534102ea"
      },
      "execution_count": null,
      "outputs": [
        {
          "output_type": "stream",
          "name": "stdout",
          "text": [
            "Model: \"model_6_lstm\"\n",
            "_________________________________________________________________\n",
            " Layer (type)                Output Shape              Param #   \n",
            "=================================================================\n",
            " input_7 (InputLayer)        [(None, 7)]               0         \n",
            "                                                                 \n",
            " lambda_8 (Lambda)           (None, 1, 7)              0         \n",
            "                                                                 \n",
            " lstm_4 (LSTM)               (None, 128)               69632     \n",
            "                                                                 \n",
            " dense_13 (Dense)            (None, 1)                 129       \n",
            "                                                                 \n",
            "=================================================================\n",
            "Total params: 69,761\n",
            "Trainable params: 69,761\n",
            "Non-trainable params: 0\n",
            "_________________________________________________________________\n"
          ]
        }
      ]
    },
    {
      "cell_type": "code",
      "source": [
        "# Seems when saving the model several warnings are appearing: https://github.com/tensorflow/tensorflow/issues/47554 \n",
        "model_6.fit(train_windows,\n",
        "            train_labels,\n",
        "            epochs=20,\n",
        "            verbose=1,\n",
        "            batch_size=128,\n",
        "            validation_data=(test_windows, test_labels),\n",
        "            callbacks=[create_model_checkpoint(model_name=model_6.name)])"
      ],
      "metadata": {
        "colab": {
          "base_uri": "https://localhost:8080/"
        },
        "id": "SOrQJoVOPYDc",
        "outputId": "d11a3e82-e0eb-4201-8571-66c7f23925b2"
      },
      "execution_count": null,
      "outputs": [
        {
          "output_type": "stream",
          "name": "stdout",
          "text": [
            "Epoch 1/20\n",
            "13/18 [====================>.........] - ETA: 0s - loss: 2475.4385INFO:tensorflow:Assets written to: model_experiments/model_6_lstm/assets\n"
          ]
        },
        {
          "output_type": "stream",
          "name": "stderr",
          "text": [
            "INFO:tensorflow:Assets written to: model_experiments/model_6_lstm/assets\n",
            "WARNING:absl:<keras.layers.recurrent.LSTMCell object at 0x7f4471e985d0> has the same name 'LSTMCell' as a built-in Keras object. Consider renaming <class 'keras.layers.recurrent.LSTMCell'> to avoid naming conflicts when loading with `tf.keras.models.load_model`. If renaming is not possible, pass the object in the `custom_objects` parameter of the load function.\n"
          ]
        },
        {
          "output_type": "stream",
          "name": "stdout",
          "text": [
            "18/18 [==============================] - 9s 307ms/step - loss: 2323.6123 - val_loss: 9224.3506\n",
            "Epoch 2/20\n",
            "13/18 [====================>.........] - ETA: 0s - loss: 859.7588 INFO:tensorflow:Assets written to: model_experiments/model_6_lstm/assets\n"
          ]
        },
        {
          "output_type": "stream",
          "name": "stderr",
          "text": [
            "INFO:tensorflow:Assets written to: model_experiments/model_6_lstm/assets\n",
            "WARNING:absl:<keras.layers.recurrent.LSTMCell object at 0x7f4471e985d0> has the same name 'LSTMCell' as a built-in Keras object. Consider renaming <class 'keras.layers.recurrent.LSTMCell'> to avoid naming conflicts when loading with `tf.keras.models.load_model`. If renaming is not possible, pass the object in the `custom_objects` parameter of the load function.\n"
          ]
        },
        {
          "output_type": "stream",
          "name": "stdout",
          "text": [
            "18/18 [==============================] - 4s 254ms/step - loss: 695.4956 - val_loss: 1485.8942\n",
            "Epoch 3/20\n",
            "14/18 [======================>.......] - ETA: 0s - loss: 250.9574INFO:tensorflow:Assets written to: model_experiments/model_6_lstm/assets\n"
          ]
        },
        {
          "output_type": "stream",
          "name": "stderr",
          "text": [
            "INFO:tensorflow:Assets written to: model_experiments/model_6_lstm/assets\n",
            "WARNING:absl:<keras.layers.recurrent.LSTMCell object at 0x7f4471e985d0> has the same name 'LSTMCell' as a built-in Keras object. Consider renaming <class 'keras.layers.recurrent.LSTMCell'> to avoid naming conflicts when loading with `tf.keras.models.load_model`. If renaming is not possible, pass the object in the `custom_objects` parameter of the load function.\n"
          ]
        },
        {
          "output_type": "stream",
          "name": "stdout",
          "text": [
            "18/18 [==============================] - 4s 251ms/step - loss: 237.3010 - val_loss: 1298.9435\n",
            "Epoch 4/20\n",
            "14/18 [======================>.......] - ETA: 0s - loss: 186.1970INFO:tensorflow:Assets written to: model_experiments/model_6_lstm/assets\n"
          ]
        },
        {
          "output_type": "stream",
          "name": "stderr",
          "text": [
            "INFO:tensorflow:Assets written to: model_experiments/model_6_lstm/assets\n",
            "WARNING:absl:<keras.layers.recurrent.LSTMCell object at 0x7f4471e985d0> has the same name 'LSTMCell' as a built-in Keras object. Consider renaming <class 'keras.layers.recurrent.LSTMCell'> to avoid naming conflicts when loading with `tf.keras.models.load_model`. If renaming is not possible, pass the object in the `custom_objects` parameter of the load function.\n"
          ]
        },
        {
          "output_type": "stream",
          "name": "stdout",
          "text": [
            "18/18 [==============================] - 4s 258ms/step - loss: 181.9182 - val_loss: 966.6407\n",
            "Epoch 5/20\n",
            "18/18 [==============================] - 0s 11ms/step - loss: 173.4021 - val_loss: 970.9384\n",
            "Epoch 6/20\n",
            "16/18 [=========================>....] - ETA: 0s - loss: 171.8069INFO:tensorflow:Assets written to: model_experiments/model_6_lstm/assets\n"
          ]
        },
        {
          "output_type": "stream",
          "name": "stderr",
          "text": [
            "INFO:tensorflow:Assets written to: model_experiments/model_6_lstm/assets\n",
            "WARNING:absl:<keras.layers.recurrent.LSTMCell object at 0x7f4471e985d0> has the same name 'LSTMCell' as a built-in Keras object. Consider renaming <class 'keras.layers.recurrent.LSTMCell'> to avoid naming conflicts when loading with `tf.keras.models.load_model`. If renaming is not possible, pass the object in the `custom_objects` parameter of the load function.\n"
          ]
        },
        {
          "output_type": "stream",
          "name": "stdout",
          "text": [
            "18/18 [==============================] - 4s 255ms/step - loss: 172.3319 - val_loss: 891.5209\n",
            "Epoch 7/20\n",
            "18/18 [==============================] - 0s 11ms/step - loss: 168.9708 - val_loss: 968.6377\n",
            "Epoch 8/20\n",
            "18/18 [==============================] - 0s 11ms/step - loss: 169.5317 - val_loss: 963.4456\n",
            "Epoch 9/20\n",
            "18/18 [==============================] - 0s 13ms/step - loss: 167.5760 - val_loss: 956.5829\n",
            "Epoch 10/20\n",
            "18/18 [==============================] - 0s 10ms/step - loss: 166.3443 - val_loss: 936.8956\n",
            "Epoch 11/20\n",
            "18/18 [==============================] - 0s 12ms/step - loss: 165.4762 - val_loss: 909.1110\n",
            "Epoch 12/20\n",
            "13/18 [====================>.........] - ETA: 0s - loss: 172.2969INFO:tensorflow:Assets written to: model_experiments/model_6_lstm/assets\n"
          ]
        },
        {
          "output_type": "stream",
          "name": "stderr",
          "text": [
            "INFO:tensorflow:Assets written to: model_experiments/model_6_lstm/assets\n",
            "WARNING:absl:<keras.layers.recurrent.LSTMCell object at 0x7f4471e985d0> has the same name 'LSTMCell' as a built-in Keras object. Consider renaming <class 'keras.layers.recurrent.LSTMCell'> to avoid naming conflicts when loading with `tf.keras.models.load_model`. If renaming is not possible, pass the object in the `custom_objects` parameter of the load function.\n"
          ]
        },
        {
          "output_type": "stream",
          "name": "stdout",
          "text": [
            "18/18 [==============================] - 5s 289ms/step - loss: 169.9951 - val_loss: 891.2327\n",
            "Epoch 13/20\n",
            "18/18 [==============================] - 0s 11ms/step - loss: 160.3806 - val_loss: 898.5595\n",
            "Epoch 14/20\n",
            "18/18 [==============================] - 0s 22ms/step - loss: 157.6484 - val_loss: 927.9266\n",
            "Epoch 15/20\n",
            "18/18 [==============================] - 0s 21ms/step - loss: 167.6508 - val_loss: 982.9256\n",
            "Epoch 16/20\n",
            "18/18 [==============================] - 0s 22ms/step - loss: 160.4521 - val_loss: 916.0458\n",
            "Epoch 17/20\n",
            "18/18 [==============================] - 0s 19ms/step - loss: 153.8805 - val_loss: 928.6927\n",
            "Epoch 18/20\n",
            "17/18 [===========================>..] - ETA: 0s - loss: 153.4154INFO:tensorflow:Assets written to: model_experiments/model_6_lstm/assets\n"
          ]
        },
        {
          "output_type": "stream",
          "name": "stderr",
          "text": [
            "INFO:tensorflow:Assets written to: model_experiments/model_6_lstm/assets\n",
            "WARNING:absl:<keras.layers.recurrent.LSTMCell object at 0x7f4471e985d0> has the same name 'LSTMCell' as a built-in Keras object. Consider renaming <class 'keras.layers.recurrent.LSTMCell'> to avoid naming conflicts when loading with `tf.keras.models.load_model`. If renaming is not possible, pass the object in the `custom_objects` parameter of the load function.\n"
          ]
        },
        {
          "output_type": "stream",
          "name": "stdout",
          "text": [
            "18/18 [==============================] - 4s 223ms/step - loss: 152.1556 - val_loss: 865.6219\n",
            "Epoch 19/20\n",
            "18/18 [==============================] - 0s 9ms/step - loss: 148.8319 - val_loss: 876.9328\n",
            "Epoch 20/20\n",
            "16/18 [=========================>....] - ETA: 0s - loss: 149.5615INFO:tensorflow:Assets written to: model_experiments/model_6_lstm/assets\n"
          ]
        },
        {
          "output_type": "stream",
          "name": "stderr",
          "text": [
            "INFO:tensorflow:Assets written to: model_experiments/model_6_lstm/assets\n",
            "WARNING:absl:<keras.layers.recurrent.LSTMCell object at 0x7f4471e985d0> has the same name 'LSTMCell' as a built-in Keras object. Consider renaming <class 'keras.layers.recurrent.LSTMCell'> to avoid naming conflicts when loading with `tf.keras.models.load_model`. If renaming is not possible, pass the object in the `custom_objects` parameter of the load function.\n"
          ]
        },
        {
          "output_type": "stream",
          "name": "stdout",
          "text": [
            "\b\b\b\b\b\b\b\b\b\b\b\b\b\b\b\b\b\b\b\b\b\b\b\b\b\b\b\b\b\b\b\b\b\b\b\b\b\b\b\b\b\b\b\b\b\b\b\b\b\b\b\b\b\b\b\b\b\b\b\b\b\b\b\b\b\r18/18 [==============================] - 4s 250ms/step - loss: 149.6801 - val_loss: 831.2376\n"
          ]
        },
        {
          "output_type": "execute_result",
          "data": {
            "text/plain": [
              "<keras.callbacks.History at 0x7f4471f16450>"
            ]
          },
          "metadata": {},
          "execution_count": 115
        }
      ]
    },
    {
      "cell_type": "code",
      "source": [
        "# Load in best version of model 6 and evaluate on the test data\n",
        "model_6 = tf.keras.models.load_model(\"model_experiments/model_6_lstm/\")\n",
        "model_6.evaluate(test_windows, test_labels)"
      ],
      "metadata": {
        "colab": {
          "base_uri": "https://localhost:8080/"
        },
        "id": "QjHqPbAKPdBo",
        "outputId": "0378c0bf-897f-49ef-ff53-68d145b88c80"
      },
      "execution_count": null,
      "outputs": [
        {
          "output_type": "stream",
          "name": "stdout",
          "text": [
            "18/18 [==============================] - 0s 3ms/step - loss: 831.2377\n"
          ]
        },
        {
          "output_type": "execute_result",
          "data": {
            "text/plain": [
              "831.2376708984375"
            ]
          },
          "metadata": {},
          "execution_count": 116
        }
      ]
    },
    {
      "cell_type": "code",
      "source": [
        "model_6_preds = model_6.predict(test_windows)\n",
        "print(model_6_preds.shape)\n",
        "model_6_results = forescast_evaluate_preds(y_true=tf.squeeze(test_labels), # reduce to right shape\n",
        "                                 y_pred=tf.squeeze(model_6_preds))\n",
        "model_6_results"
      ],
      "metadata": {
        "colab": {
          "base_uri": "https://localhost:8080/"
        },
        "id": "vr1GR6cPPLaU",
        "outputId": "9e839df4-e273-428f-802f-50ef23c1fce4"
      },
      "execution_count": null,
      "outputs": [
        {
          "output_type": "stream",
          "name": "stdout",
          "text": [
            "(556, 1)\n"
          ]
        },
        {
          "output_type": "execute_result",
          "data": {
            "text/plain": [
              "{'mae': 831.23755,\n",
              " 'mape': 3.6765025,\n",
              " 'mase': 1.4602542,\n",
              " 'mse': 2272233.0,\n",
              " 'rmse': 1507.3928}"
            ]
          },
          "metadata": {},
          "execution_count": 117
        }
      ]
    },
    {
      "cell_type": "markdown",
      "source": [
        "### Results"
      ],
      "metadata": {
        "id": "rG6dGXueM8dQ"
      }
    },
    {
      "cell_type": "code",
      "source": [
        "pd.DataFrame({\"naive\": naive_results[\"mae\"], \n",
        "              \"horizon_1_window_7\": model_1_results[\"mae\"], \n",
        "              \"horizon_7_window_30\": model_3_results[\"mae\"],\n",
        "              \"horizon_1_window_7_conv\": model_4_results[\"mae\"],\n",
        "              \"horizon_1_window_7_lstm\": model_5_results[\"mae\"],\n",
        "              \"horizon_1_window_7_lstm_norm\": model_6_results[\"mae\"],\n",
        "              }\n",
        "             , index=[\"mae\"]).plot(figsize=(10, 7), kind=\"bar\");"
      ],
      "metadata": {
        "colab": {
          "base_uri": "https://localhost:8080/",
          "height": 440
        },
        "id": "le55aCKiIWCe",
        "outputId": "34c6095e-7d04-47b0-b809-c6aaf196eda4"
      },
      "execution_count": null,
      "outputs": [
        {
          "output_type": "display_data",
          "data": {
            "image/png": "[encoded data removed]",
            "text/plain": [
              "<Figure size 720x504 with 1 Axes>"
            ]
          },
          "metadata": {
            "needs_background": "light"
          }
        }
      ]
    }
  ]
}