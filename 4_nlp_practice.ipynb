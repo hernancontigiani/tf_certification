{
  "nbformat": 4,
  "nbformat_minor": 0,
  "metadata": {
    "colab": {
      "name": "4_nlp_practice.ipynb",
      "provenance": [],
      "collapsed_sections": [
        "-owg1pHnQHD9",
        "Y6PL-PcOQfBX",
        "YZqvMQf8dJyO",
        "CwYB0SgFft22",
        "mkwHPowthBfO",
        "J7TOJQctiGIX",
        "SFEmv5lfnM5z",
        "-kDnWcPvsRoI",
        "BOtIoXGO2-xy"
      ]
    },
    "kernelspec": {
      "name": "python3",
      "display_name": "Python 3"
    },
    "language_info": {
      "name": "python"
    }
  },
  "cells": [
    {
      "cell_type": "markdown",
      "source": [
        "<a href=\"https://www.linkedin.com/in/hern%C3%A1n-contigiani-41260679/\"><img src=\"https://raw.githubusercontent.com/hernancontigiani/tf_certification/main/images/hc_banner.png\" width=\"1000\" align=\"center\"></a>\n",
        "\n",
        "\n",
        "# Tensorflow Developer Certification\n",
        "\n",
        "NLP practice\\\n",
        "Extra: Tokenizer layer inside model (not compatible with save format .h5)"
      ],
      "metadata": {
        "id": "HtlJpNC0bzDh"
      }
    },
    {
      "cell_type": "code",
      "source": [
        "import matplotlib.pyplot as plt\n",
        "import numpy as np\n",
        "import pandas as pd\n",
        "import os\n",
        "import PIL\n",
        "import tensorflow as tf\n",
        "import tensorflow_datasets as tfds\n",
        "\n",
        "from tensorflow import keras\n",
        "from tensorflow.keras import layers\n",
        "from tensorflow.keras.models import Sequential\n",
        "\n",
        "from sklearn.model_selection import train_test_split"
      ],
      "metadata": {
        "id": "MrpWfxKcPkZ8"
      },
      "execution_count": null,
      "outputs": []
    },
    {
      "cell_type": "code",
      "source": [
        "!wget https://raw.githubusercontent.com/hernancontigiani/tf_certification/main/utils_tf.py\n",
        "from utils_tf import *"
      ],
      "metadata": {
        "id": "zerumov-Plg6"
      },
      "execution_count": null,
      "outputs": []
    },
    {
      "cell_type": "code",
      "execution_count": null,
      "metadata": {
        "colab": {
          "base_uri": "https://localhost:8080/"
        },
        "id": "rBo4K8Xct9Bu",
        "outputId": "adf824ba-ddf1-4afe-f7a3-5e759a698ad2"
      },
      "outputs": [
        {
          "output_type": "stream",
          "name": "stdout",
          "text": [
            "--2021-12-17 12:52:43--  https://storage.googleapis.com/ztm_tf_course/nlp_getting_started.zip\n",
            "Resolving storage.googleapis.com (storage.googleapis.com)... 64.233.191.128, 172.217.219.128, 209.85.147.128, ...\n",
            "Connecting to storage.googleapis.com (storage.googleapis.com)|64.233.191.128|:443... connected.\n",
            "HTTP request sent, awaiting response... 200 OK\n",
            "Length: 607343 (593K) [application/zip]\n",
            "Saving to: ‘nlp_getting_started.zip’\n",
            "\n",
            "\rnlp_getting_started   0%[                    ]       0  --.-KB/s               \rnlp_getting_started 100%[===================>] 593.11K  --.-KB/s    in 0.01s   \n",
            "\n",
            "2021-12-17 12:52:43 (51.1 MB/s) - ‘nlp_getting_started.zip’ saved [607343/607343]\n",
            "\n",
            "Archive:  nlp_getting_started.zip\n",
            "  inflating: sample_submission.csv   \n",
            "  inflating: test.csv                \n",
            "  inflating: train.csv               \n"
          ]
        }
      ],
      "source": [
        "!wget https://storage.googleapis.com/ztm_tf_course/nlp_getting_started.zip\n",
        "!unzip nlp_getting_started.zip"
      ]
    },
    {
      "cell_type": "code",
      "source": [
        "import pandas as pd\n",
        "df_train = pd.read_csv(\"train.csv\")\n",
        "df_test = pd.read_csv(\"test.csv\")"
      ],
      "metadata": {
        "id": "wRLUMNqYuhEA"
      },
      "execution_count": null,
      "outputs": []
    },
    {
      "cell_type": "code",
      "source": [
        "df_train.head()"
      ],
      "metadata": {
        "colab": {
          "base_uri": "https://localhost:8080/",
          "height": 206
        },
        "id": "Qo0voRyHunXd",
        "outputId": "bfcc5123-a266-49b1-ae6e-10651742ee16"
      },
      "execution_count": null,
      "outputs": [
        {
          "output_type": "execute_result",
          "data": {
            "text/html": [
              "\n",
              "  <div id=\"df-e4185695-2a64-4381-949e-c5727d3db935\">\n",
              "    <div class=\"colab-df-container\">\n",
              "      <div>\n",
              "<style scoped>\n",
              "    .dataframe tbody tr th:only-of-type {\n",
              "        vertical-align: middle;\n",
              "    }\n",
              "\n",
              "    .dataframe tbody tr th {\n",
              "        vertical-align: top;\n",
              "    }\n",
              "\n",
              "    .dataframe thead th {\n",
              "        text-align: right;\n",
              "    }\n",
              "</style>\n",
              "<table border=\"1\" class=\"dataframe\">\n",
              "  <thead>\n",
              "    <tr style=\"text-align: right;\">\n",
              "      <th></th>\n",
              "      <th>id</th>\n",
              "      <th>keyword</th>\n",
              "      <th>location</th>\n",
              "      <th>text</th>\n",
              "      <th>target</th>\n",
              "    </tr>\n",
              "  </thead>\n",
              "  <tbody>\n",
              "    <tr>\n",
              "      <th>0</th>\n",
              "      <td>1</td>\n",
              "      <td>NaN</td>\n",
              "      <td>NaN</td>\n",
              "      <td>Our Deeds are the Reason of this #earthquake M...</td>\n",
              "      <td>1</td>\n",
              "    </tr>\n",
              "    <tr>\n",
              "      <th>1</th>\n",
              "      <td>4</td>\n",
              "      <td>NaN</td>\n",
              "      <td>NaN</td>\n",
              "      <td>Forest fire near La Ronge Sask. Canada</td>\n",
              "      <td>1</td>\n",
              "    </tr>\n",
              "    <tr>\n",
              "      <th>2</th>\n",
              "      <td>5</td>\n",
              "      <td>NaN</td>\n",
              "      <td>NaN</td>\n",
              "      <td>All residents asked to 'shelter in place' are ...</td>\n",
              "      <td>1</td>\n",
              "    </tr>\n",
              "    <tr>\n",
              "      <th>3</th>\n",
              "      <td>6</td>\n",
              "      <td>NaN</td>\n",
              "      <td>NaN</td>\n",
              "      <td>13,000 people receive #wildfires evacuation or...</td>\n",
              "      <td>1</td>\n",
              "    </tr>\n",
              "    <tr>\n",
              "      <th>4</th>\n",
              "      <td>7</td>\n",
              "      <td>NaN</td>\n",
              "      <td>NaN</td>\n",
              "      <td>Just got sent this photo from Ruby #Alaska as ...</td>\n",
              "      <td>1</td>\n",
              "    </tr>\n",
              "  </tbody>\n",
              "</table>\n",
              "</div>\n",
              "      <button class=\"colab-df-convert\" onclick=\"convertToInteractive('df-e4185695-2a64-4381-949e-c5727d3db935')\"\n",
              "              title=\"Convert this dataframe to an interactive table.\"\n",
              "              style=\"display:none;\">\n",
              "        \n",
              "  <svg xmlns=\"http://www.w3.org/2000/svg\" height=\"24px\"viewBox=\"0 0 24 24\"\n",
              "       width=\"24px\">\n",
              "    <path d=\"M0 0h24v24H0V0z\" fill=\"none\"/>\n",
              "    <path d=\"M18.56 5.44l.94 2.06.94-2.06 2.06-.94-2.06-.94-.94-2.06-.94 2.06-2.06.94zm-11 1L8.5 8.5l.94-2.06 2.06-.94-2.06-.94L8.5 2.5l-.94 2.06-2.06.94zm10 10l.94 2.06.94-2.06 2.06-.94-2.06-.94-.94-2.06-.94 2.06-2.06.94z\"/><path d=\"M17.41 7.96l-1.37-1.37c-.4-.4-.92-.59-1.43-.59-.52 0-1.04.2-1.43.59L10.3 9.45l-7.72 7.72c-.78.78-.78 2.05 0 2.83L4 21.41c.39.39.9.59 1.41.59.51 0 1.02-.2 1.41-.59l7.78-7.78 2.81-2.81c.8-.78.8-2.07 0-2.86zM5.41 20L4 18.59l7.72-7.72 1.47 1.35L5.41 20z\"/>\n",
              "  </svg>\n",
              "      </button>\n",
              "      \n",
              "  <style>\n",
              "    .colab-df-container {\n",
              "      display:flex;\n",
              "      flex-wrap:wrap;\n",
              "      gap: 12px;\n",
              "    }\n",
              "\n",
              "    .colab-df-convert {\n",
              "      background-color: #E8F0FE;\n",
              "      border: none;\n",
              "      border-radius: 50%;\n",
              "      cursor: pointer;\n",
              "      display: none;\n",
              "      fill: #1967D2;\n",
              "      height: 32px;\n",
              "      padding: 0 0 0 0;\n",
              "      width: 32px;\n",
              "    }\n",
              "\n",
              "    .colab-df-convert:hover {\n",
              "      background-color: #E2EBFA;\n",
              "      box-shadow: 0px 1px 2px rgba(60, 64, 67, 0.3), 0px 1px 3px 1px rgba(60, 64, 67, 0.15);\n",
              "      fill: #174EA6;\n",
              "    }\n",
              "\n",
              "    [theme=dark] .colab-df-convert {\n",
              "      background-color: #3B4455;\n",
              "      fill: #D2E3FC;\n",
              "    }\n",
              "\n",
              "    [theme=dark] .colab-df-convert:hover {\n",
              "      background-color: #434B5C;\n",
              "      box-shadow: 0px 1px 3px 1px rgba(0, 0, 0, 0.15);\n",
              "      filter: drop-shadow(0px 1px 2px rgba(0, 0, 0, 0.3));\n",
              "      fill: #FFFFFF;\n",
              "    }\n",
              "  </style>\n",
              "\n",
              "      <script>\n",
              "        const buttonEl =\n",
              "          document.querySelector('#df-e4185695-2a64-4381-949e-c5727d3db935 button.colab-df-convert');\n",
              "        buttonEl.style.display =\n",
              "          google.colab.kernel.accessAllowed ? 'block' : 'none';\n",
              "\n",
              "        async function convertToInteractive(key) {\n",
              "          const element = document.querySelector('#df-e4185695-2a64-4381-949e-c5727d3db935');\n",
              "          const dataTable =\n",
              "            await google.colab.kernel.invokeFunction('convertToInteractive',\n",
              "                                                     [key], {});\n",
              "          if (!dataTable) return;\n",
              "\n",
              "          const docLinkHtml = 'Like what you see? Visit the ' +\n",
              "            '<a target=\"_blank\" href=https://colab.research.google.com/notebooks/data_table.ipynb>data table notebook</a>'\n",
              "            + ' to learn more about interactive tables.';\n",
              "          element.innerHTML = '';\n",
              "          dataTable['output_type'] = 'display_data';\n",
              "          await google.colab.output.renderOutput(dataTable, element);\n",
              "          const docLink = document.createElement('div');\n",
              "          docLink.innerHTML = docLinkHtml;\n",
              "          element.appendChild(docLink);\n",
              "        }\n",
              "      </script>\n",
              "    </div>\n",
              "  </div>\n",
              "  "
            ],
            "text/plain": [
              "   id keyword  ...                                               text target\n",
              "0   1     NaN  ...  Our Deeds are the Reason of this #earthquake M...      1\n",
              "1   4     NaN  ...             Forest fire near La Ronge Sask. Canada      1\n",
              "2   5     NaN  ...  All residents asked to 'shelter in place' are ...      1\n",
              "3   6     NaN  ...  13,000 people receive #wildfires evacuation or...      1\n",
              "4   7     NaN  ...  Just got sent this photo from Ruby #Alaska as ...      1\n",
              "\n",
              "[5 rows x 5 columns]"
            ]
          },
          "metadata": {},
          "execution_count": 3
        }
      ]
    },
    {
      "cell_type": "code",
      "source": [
        "df_train[\"target\"].value_counts()"
      ],
      "metadata": {
        "colab": {
          "base_uri": "https://localhost:8080/"
        },
        "id": "qP22jf4hu57s",
        "outputId": "1d72727f-9ead-4c39-b1cf-4494d5971b5f"
      },
      "execution_count": null,
      "outputs": [
        {
          "output_type": "execute_result",
          "data": {
            "text/plain": [
              "0    4342\n",
              "1    3271\n",
              "Name: target, dtype: int64"
            ]
          },
          "metadata": {},
          "execution_count": 4
        }
      ]
    },
    {
      "cell_type": "code",
      "source": [
        "from sklearn.model_selection import train_test_split\n",
        "X_train, X_valid, y_train, y_valid = train_test_split(df_train[\"text\"].to_numpy(), df_train[\"target\"].to_numpy(), test_size=0.1, random_state=42)"
      ],
      "metadata": {
        "id": "ZoSzkHfOvjyk"
      },
      "execution_count": null,
      "outputs": []
    },
    {
      "cell_type": "code",
      "source": [
        "# Fin the average and max sequence"
      ],
      "metadata": {
        "id": "9bHbp3C04tBN"
      },
      "execution_count": null,
      "outputs": []
    },
    {
      "cell_type": "code",
      "source": [
        "import numpy as np\n",
        "vocab = []\n",
        "for doc in X_train:\n",
        "    words = doc.split(\" \")\n",
        "    for word in words:\n",
        "        vocab.append(word)\n",
        "\n",
        "vocab = set(vocab)\n",
        "\n",
        "print(\"Total\", len(vocab))\n",
        "print(\"Max\", max([len(i.split(\" \")) for i in X_train]))\n",
        "print(\"Average\", round(np.mean([len(i.split(\" \")) for i in X_train])))"
      ],
      "metadata": {
        "colab": {
          "base_uri": "https://localhost:8080/"
        },
        "id": "hwbXqJW24vm-",
        "outputId": "ceacb43c-966c-4cbf-c194-34186a837f48"
      },
      "execution_count": null,
      "outputs": [
        {
          "output_type": "stream",
          "name": "stdout",
          "text": [
            "Total 29619\n",
            "Max 54\n",
            "Average 15\n"
          ]
        }
      ]
    },
    {
      "cell_type": "markdown",
      "source": [
        "### Base model Naves"
      ],
      "metadata": {
        "id": "sMHhk-xhP_zc"
      }
    },
    {
      "cell_type": "code",
      "source": [
        "# baseline TF-IDF Naves\n",
        "from sklearn.feature_extraction.text import TfidfVectorizer\n",
        "from sklearn.naive_bayes import MultinomialNB\n",
        "from sklearn.pipeline import Pipeline\n",
        "from sklearn.metrics import precision_recall_fscore_support\n",
        "\n",
        "pipe = Pipeline([\n",
        "                (\"tfidf\", TfidfVectorizer()),\n",
        "                 (\"cls\", MultinomialNB()) \n",
        "                ])\n",
        "\n",
        "pipe.fit(X_train, y_train)\n",
        "print(\"Score:\", pipe.score(X_valid, y_valid))\n",
        "\n",
        "m_prediction, m_recall, m_f1, _ = precision_recall_fscore_support(y_valid, pipe.predict(X_valid), average=\"weighted\")\n",
        "print(m_prediction, m_recall, m_f1)\n"
      ],
      "metadata": {
        "colab": {
          "base_uri": "https://localhost:8080/"
        },
        "id": "yKVvk3sOL5uL",
        "outputId": "18e9f142-fbd6-44b2-8550-4c233b867312"
      },
      "execution_count": null,
      "outputs": [
        {
          "output_type": "stream",
          "name": "stdout",
          "text": [
            "Score: 0.7782152230971129\n",
            "0.792992256322435 0.7782152230971129 0.7703527809038113\n"
          ]
        }
      ]
    },
    {
      "cell_type": "markdown",
      "source": [
        "### Embeddings and Tokenizer"
      ],
      "metadata": {
        "id": "BVRtJs9cQEDo"
      }
    },
    {
      "cell_type": "code",
      "source": [
        "import numpy as np\n",
        "import tensorflow as tf\n",
        "from tensorflow.keras.layers.experimental.preprocessing import TextVectorization\n",
        "from tensorflow.keras import layers"
      ],
      "metadata": {
        "id": "E_pJk4tLwEY7"
      },
      "execution_count": null,
      "outputs": []
    },
    {
      "cell_type": "code",
      "source": [
        "max_vocab_length = 10000 # max numbers of words in the vocabulary\n",
        "max_length = 15\n",
        "\n",
        "# max_tokens --> takes de most commons words under that number\n",
        "# standardize --> to lower case and take of punctation (default)\n",
        "# split --> charter used for split (default whitespace)\n",
        "# outputmode --> default as int (numbers, could be binary or TF-IDF)\n",
        "# output_sequence_length --> None automatically ajust sequence to max long sequence\n",
        "# pad_to_max_tokens --> padding with 0 to max sequence lenght defined\n",
        "text_vectorization = TextVectorization(max_tokens=max_vocab_length,\n",
        "                                       output_sequence_length=max_length,\n",
        "                                       pad_to_max_tokens=True\n",
        "                                       )\n",
        "text_vectorization.adapt(X_train)"
      ],
      "metadata": {
        "id": "lpgi2HrT2Yfe"
      },
      "execution_count": null,
      "outputs": []
    },
    {
      "cell_type": "code",
      "source": [
        "print(\"Vocab size:\", text_vectorization.vocabulary_size())"
      ],
      "metadata": {
        "colab": {
          "base_uri": "https://localhost:8080/"
        },
        "id": "8fqyMBap5zaD",
        "outputId": "e8cb322c-90ff-46a1-da1a-574e92d7cd8b"
      },
      "execution_count": null,
      "outputs": [
        {
          "output_type": "stream",
          "name": "stdout",
          "text": [
            "Vocab size: 10000\n"
          ]
        }
      ]
    },
    {
      "cell_type": "code",
      "source": [
        "print(\"Vocab unique words:\", len(text_vectorization.get_vocabulary()))"
      ],
      "metadata": {
        "colab": {
          "base_uri": "https://localhost:8080/"
        },
        "id": "i-7JGrn77Wer",
        "outputId": "34f09ff7-0d8a-4c3b-d420-b682efc551f1"
      },
      "execution_count": null,
      "outputs": [
        {
          "output_type": "stream",
          "name": "stdout",
          "text": [
            "Vocab unique words: 10000\n"
          ]
        }
      ]
    },
    {
      "cell_type": "code",
      "source": [
        "t1 = \"Hi susana\"\n",
        "text_vectorization([t1])"
      ],
      "metadata": {
        "colab": {
          "base_uri": "https://localhost:8080/"
        },
        "id": "svv-bH6X55fv",
        "outputId": "f9e14c0c-b045-4dff-ba93-de4a72700573"
      },
      "execution_count": null,
      "outputs": [
        {
          "output_type": "execute_result",
          "data": {
            "text/plain": [
              "<tf.Tensor: shape=(1, 15), dtype=int64, numpy=\n",
              "array([[1398,    1,    0,    0,    0,    0,    0,    0,    0,    0,    0,\n",
              "           0,    0,    0,    0]])>"
            ]
          },
          "metadata": {},
          "execution_count": 13
        }
      ]
    },
    {
      "cell_type": "code",
      "source": [
        "text_vectorization.get_vocabulary().index(\"hi\")"
      ],
      "metadata": {
        "colab": {
          "base_uri": "https://localhost:8080/"
        },
        "id": "1lpImRSe6H-T",
        "outputId": "921f1f86-bd29-4697-e66b-96f0d249bf8f"
      },
      "execution_count": null,
      "outputs": [
        {
          "output_type": "execute_result",
          "data": {
            "text/plain": [
              "1398"
            ]
          },
          "metadata": {},
          "execution_count": 14
        }
      ]
    },
    {
      "cell_type": "code",
      "source": [
        "text_vectorization.get_vocabulary()[1]"
      ],
      "metadata": {
        "colab": {
          "base_uri": "https://localhost:8080/",
          "height": 35
        },
        "id": "_eORkMCl6aqn",
        "outputId": "18e5406b-a095-4f1b-88fc-9bff55002268"
      },
      "execution_count": null,
      "outputs": [
        {
          "output_type": "execute_result",
          "data": {
            "application/vnd.google.colaboratory.intrinsic+json": {
              "type": "string"
            },
            "text/plain": [
              "'[UNK]'"
            ]
          },
          "metadata": {},
          "execution_count": 15
        }
      ]
    },
    {
      "cell_type": "code",
      "source": [
        "embed_dim = 128\n",
        "\n",
        "embedding = layers.Embedding(\n",
        "          input_dim=max_vocab_length,  # Tokenizer max vocab length\n",
        "          output_dim=embed_dim,  # dimensión de los embeddings utilizados\n",
        "          input_length=max_length, # max sequence length\n",
        "          #weights=[embedding_matrix],  # matrix de embeddings\n",
        "          #trainable=False)      # marcar como layer no entrenable si se define una matrix\n",
        "          )"
      ],
      "metadata": {
        "id": "3Gtq__Zm8mQt"
      },
      "execution_count": null,
      "outputs": []
    },
    {
      "cell_type": "code",
      "source": [
        "embedding(text_vectorization([t1]))"
      ],
      "metadata": {
        "colab": {
          "base_uri": "https://localhost:8080/"
        },
        "id": "qh1MrRyX9TMh",
        "outputId": "5516628f-5371-4ee9-9148-e66df2086237"
      },
      "execution_count": null,
      "outputs": [
        {
          "output_type": "execute_result",
          "data": {
            "text/plain": [
              "<tf.Tensor: shape=(1, 15, 128), dtype=float32, numpy=\n",
              "array([[[ 0.01207213,  0.00063944,  0.02580043, ...,  0.01401912,\n",
              "         -0.01091976, -0.00718091],\n",
              "        [ 0.03866836, -0.00212086,  0.02003023, ...,  0.03480745,\n",
              "          0.0236781 ,  0.0226058 ],\n",
              "        [-0.04812983,  0.02644349, -0.04801338, ..., -0.02599874,\n",
              "          0.00877376, -0.02361149],\n",
              "        ...,\n",
              "        [-0.04812983,  0.02644349, -0.04801338, ..., -0.02599874,\n",
              "          0.00877376, -0.02361149],\n",
              "        [-0.04812983,  0.02644349, -0.04801338, ..., -0.02599874,\n",
              "          0.00877376, -0.02361149],\n",
              "        [-0.04812983,  0.02644349, -0.04801338, ..., -0.02599874,\n",
              "          0.00877376, -0.02361149]]], dtype=float32)>"
            ]
          },
          "metadata": {},
          "execution_count": 17
        }
      ]
    },
    {
      "cell_type": "markdown",
      "source": [
        "### NLP con DNN + Embeddings"
      ],
      "metadata": {
        "id": "-owg1pHnQHD9"
      }
    },
    {
      "cell_type": "code",
      "source": [
        "inputs = layers.Input(shape=(1,), dtype=tf.string)\n",
        "x = text_vectorization(inputs)\n",
        "x = embedding(x)\n",
        "#x = layers.Flatten()(x)\n",
        "x = layers.GlobalAveragePooling1D()(x)\n",
        "outputs = layers.Dense(1, activation=\"sigmoid\")(x)\n",
        "\n",
        "model = tf.keras.Model(inputs, outputs, name=\"model_1\")\n",
        "\n",
        "model.compile(optimizer=tf.keras.optimizers.Adam(),\n",
        "              loss=\"binary_crossentropy\",\n",
        "              metrics=[\"accuracy\"]\n",
        "              )\n",
        "\n",
        "model.summary()"
      ],
      "metadata": {
        "colab": {
          "base_uri": "https://localhost:8080/"
        },
        "id": "ZdX-gtT7BzQl",
        "outputId": "09768600-6ee3-4898-88a0-680e387caf2d"
      },
      "execution_count": null,
      "outputs": [
        {
          "output_type": "stream",
          "name": "stdout",
          "text": [
            "Model: \"model_1\"\n",
            "_________________________________________________________________\n",
            " Layer (type)                Output Shape              Param #   \n",
            "=================================================================\n",
            " input_1 (InputLayer)        [(None, 1)]               0         \n",
            "                                                                 \n",
            " text_vectorization (TextVec  (None, 15)               0         \n",
            " torization)                                                     \n",
            "                                                                 \n",
            " embedding (Embedding)       (None, 15, 128)           1280000   \n",
            "                                                                 \n",
            " global_average_pooling1d (G  (None, 128)              0         \n",
            " lobalAveragePooling1D)                                          \n",
            "                                                                 \n",
            " dense (Dense)               (None, 1)                 129       \n",
            "                                                                 \n",
            "=================================================================\n",
            "Total params: 1,280,129\n",
            "Trainable params: 1,280,129\n",
            "Non-trainable params: 0\n",
            "_________________________________________________________________\n"
          ]
        }
      ]
    },
    {
      "cell_type": "code",
      "source": [
        "h = model.fit(X_train.reshape(-1, 1), y_train, validation_data=(X_valid.reshape(-1, 1), y_valid), epochs=2)"
      ],
      "metadata": {
        "colab": {
          "base_uri": "https://localhost:8080/"
        },
        "id": "Z12YJKZaCpXS",
        "outputId": "b2c74ef6-86f4-4c41-8838-349aad09244b"
      },
      "execution_count": null,
      "outputs": [
        {
          "output_type": "stream",
          "name": "stdout",
          "text": [
            "Epoch 1/2\n",
            "215/215 [==============================] - 6s 25ms/step - loss: 0.6108 - accuracy: 0.6901 - val_loss: 0.5428 - val_accuracy: 0.7651\n",
            "Epoch 2/2\n",
            "215/215 [==============================] - 5s 23ms/step - loss: 0.4406 - accuracy: 0.8181 - val_loss: 0.4842 - val_accuracy: 0.7966\n"
          ]
        }
      ]
    },
    {
      "cell_type": "code",
      "source": [
        "y_test_prob = model.predict(X_valid)\n",
        "print(\"Prob shape\", y_test_prob.shape)\n",
        "y_test = tf.squeeze(tf.round(y_test_prob))\n",
        "y_test"
      ],
      "metadata": {
        "colab": {
          "base_uri": "https://localhost:8080/"
        },
        "id": "lK2SlDyvFE-J",
        "outputId": "78dad113-2197-4ef2-d702-6bab7ab4e63f"
      },
      "execution_count": null,
      "outputs": [
        {
          "output_type": "stream",
          "name": "stdout",
          "text": [
            "Prob shape (762, 1)\n"
          ]
        },
        {
          "output_type": "execute_result",
          "data": {
            "text/plain": [
              "<tf.Tensor: shape=(762,), dtype=float32, numpy=\n",
              "array([0., 0., 0., 0., 1., 0., 0., 0., 0., 1., 1., 0., 0., 0., 0., 0., 0.,\n",
              "       0., 1., 0., 0., 0., 0., 0., 1., 0., 1., 1., 1., 0., 0., 0., 0., 1.,\n",
              "       1., 1., 0., 0., 0., 0., 0., 1., 0., 1., 0., 0., 1., 0., 1., 0., 0.,\n",
              "       1., 0., 0., 0., 0., 1., 0., 0., 0., 0., 0., 1., 0., 0., 1., 1., 0.,\n",
              "       0., 0., 0., 0., 0., 0., 0., 0., 0., 0., 0., 1., 0., 0., 1., 1., 0.,\n",
              "       0., 1., 0., 1., 0., 0., 1., 0., 0., 0., 0., 0., 0., 0., 0., 1., 0.,\n",
              "       0., 0., 0., 0., 0., 0., 1., 0., 1., 1., 1., 1., 0., 1., 0., 1., 0.,\n",
              "       0., 1., 0., 0., 1., 1., 0., 1., 1., 1., 0., 0., 0., 0., 0., 0., 0.,\n",
              "       1., 0., 0., 1., 1., 1., 1., 0., 0., 0., 1., 0., 0., 0., 1., 0., 1.,\n",
              "       1., 1., 0., 0., 1., 1., 0., 0., 0., 1., 0., 0., 1., 1., 1., 1., 0.,\n",
              "       0., 0., 0., 0., 0., 0., 0., 1., 1., 0., 0., 0., 0., 0., 0., 0., 0.,\n",
              "       0., 0., 0., 0., 0., 1., 0., 0., 0., 0., 1., 0., 0., 0., 0., 0., 0.,\n",
              "       0., 0., 0., 1., 0., 0., 1., 1., 1., 1., 0., 0., 1., 1., 1., 0., 0.,\n",
              "       1., 1., 0., 1., 0., 0., 0., 0., 1., 0., 0., 1., 0., 0., 0., 0., 0.,\n",
              "       1., 0., 0., 1., 0., 0., 0., 0., 1., 0., 0., 1., 0., 1., 0., 0., 0.,\n",
              "       0., 0., 1., 0., 1., 0., 1., 1., 0., 1., 0., 0., 0., 1., 1., 0., 1.,\n",
              "       0., 0., 0., 0., 1., 1., 0., 1., 1., 1., 0., 0., 1., 1., 1., 0., 0.,\n",
              "       0., 1., 1., 0., 0., 0., 1., 0., 1., 0., 0., 1., 0., 1., 1., 0., 1.,\n",
              "       0., 0., 0., 0., 1., 0., 0., 0., 0., 1., 0., 0., 1., 1., 0., 0., 1.,\n",
              "       0., 0., 1., 0., 0., 0., 1., 0., 1., 1., 1., 1., 1., 1., 1., 0., 0.,\n",
              "       0., 0., 0., 0., 0., 0., 1., 1., 1., 0., 0., 1., 0., 0., 1., 0., 1.,\n",
              "       0., 0., 0., 0., 0., 0., 0., 1., 0., 0., 0., 0., 0., 0., 1., 0., 0.,\n",
              "       0., 0., 0., 0., 0., 0., 1., 0., 0., 0., 0., 1., 0., 0., 0., 0., 0.,\n",
              "       1., 0., 1., 0., 1., 1., 1., 0., 0., 0., 0., 1., 0., 0., 1., 0., 1.,\n",
              "       1., 1., 1., 0., 0., 0., 0., 0., 0., 0., 1., 0., 0., 1., 0., 0., 0.,\n",
              "       0., 0., 0., 1., 1., 0., 0., 0., 0., 1., 0., 1., 0., 0., 0., 1., 0.,\n",
              "       1., 1., 0., 0., 0., 0., 1., 0., 0., 1., 1., 0., 1., 0., 0., 1., 1.,\n",
              "       0., 1., 1., 0., 1., 0., 1., 1., 0., 0., 0., 1., 1., 1., 0., 1., 0.,\n",
              "       0., 0., 0., 0., 1., 0., 0., 1., 0., 0., 0., 0., 0., 0., 0., 0., 1.,\n",
              "       0., 1., 0., 0., 0., 0., 0., 1., 0., 0., 1., 1., 0., 0., 0., 0., 0.,\n",
              "       1., 1., 0., 0., 0., 0., 0., 0., 0., 0., 0., 1., 0., 1., 1., 0., 0.,\n",
              "       1., 1., 0., 0., 0., 0., 0., 0., 1., 1., 0., 0., 0., 0., 0., 0., 0.,\n",
              "       0., 1., 1., 0., 1., 0., 0., 0., 1., 1., 1., 0., 0., 0., 1., 0., 0.,\n",
              "       1., 0., 0., 0., 0., 0., 0., 0., 0., 1., 1., 1., 1., 1., 0., 0., 0.,\n",
              "       0., 1., 0., 0., 0., 0., 0., 0., 1., 0., 1., 1., 1., 1., 0., 0., 0.,\n",
              "       0., 0., 0., 1., 0., 0., 0., 0., 1., 1., 0., 0., 1., 0., 0., 1., 0.,\n",
              "       0., 0., 1., 0., 0., 0., 0., 0., 0., 1., 1., 0., 1., 1., 0., 1., 0.,\n",
              "       0., 0., 1., 0., 0., 0., 1., 1., 0., 0., 0., 0., 1., 0., 1., 0., 0.,\n",
              "       0., 1., 1., 0., 0., 0., 0., 1., 0., 0., 1., 1., 0., 1., 0., 0., 0.,\n",
              "       0., 1., 0., 1., 0., 1., 0., 0., 0., 0., 1., 0., 1., 0., 0., 0., 0.,\n",
              "       0., 0., 1., 0., 0., 0., 1., 0., 1., 1., 0., 1., 0., 0., 1., 1., 1.,\n",
              "       1., 0., 0., 0., 0., 1., 0., 0., 0., 0., 0., 1., 0., 1., 1., 1., 1.,\n",
              "       0., 0., 0., 0., 1., 1., 0., 0., 0., 0., 0., 0., 1., 0., 1., 0., 1.,\n",
              "       0., 0., 1., 0., 0., 0., 0., 0., 0., 0., 0., 0., 0., 0., 0., 0., 0.,\n",
              "       0., 0., 0., 1., 0., 0., 1., 1., 1., 0., 0., 0., 0., 0.],\n",
              "      dtype=float32)>"
            ]
          },
          "metadata": {},
          "execution_count": 20
        }
      ]
    },
    {
      "cell_type": "markdown",
      "source": [
        "### Obtener los embeddings entrenados"
      ],
      "metadata": {
        "id": "Y6PL-PcOQfBX"
      }
    },
    {
      "cell_type": "code",
      "source": [
        "embeddings_weights = model.get_layer(\"embedding\").get_weights()[0]\n",
        "embeddings_weights.shape"
      ],
      "metadata": {
        "colab": {
          "base_uri": "https://localhost:8080/"
        },
        "id": "vninKi66Qg2K",
        "outputId": "019425c8-c7ea-490e-cf1d-dc055b10f48a"
      },
      "execution_count": null,
      "outputs": [
        {
          "output_type": "execute_result",
          "data": {
            "text/plain": [
              "(10000, 128)"
            ]
          },
          "metadata": {},
          "execution_count": 23
        }
      ]
    },
    {
      "cell_type": "markdown",
      "source": [
        "### LSTM"
      ],
      "metadata": {
        "id": "YZqvMQf8dJyO"
      }
    },
    {
      "cell_type": "code",
      "source": [
        "inputs = layers.Input(shape=(1,), dtype=tf.string)\n",
        "x = text_vectorization(inputs)\n",
        "x = embedding(x)\n",
        "x = layers.LSTM(units=64, return_sequences=True)(x)\n",
        "print(x.shape)\n",
        "x = layers.LSTM(units=64)(x)\n",
        "print(x.shape) # not more sequence here (15)\n",
        "x = layers.Dense(65, activation=\"relu\")(x)\n",
        "outputs = layers.Dense(1, activation=\"sigmoid\")(x)\n",
        "\n",
        "model2 = tf.keras.Model(inputs, outputs, name=\"model_1\")\n",
        "\n",
        "model2.compile(optimizer=tf.keras.optimizers.Adam(),\n",
        "              loss=\"binary_crossentropy\",\n",
        "              metrics=[\"accuracy\"]\n",
        "              )\n",
        "\n",
        "model2.summary()"
      ],
      "metadata": {
        "colab": {
          "base_uri": "https://localhost:8080/"
        },
        "id": "eXtVJjyCdJMu",
        "outputId": "e88442d8-cbb4-45a1-cf1f-f6ed78313b84"
      },
      "execution_count": null,
      "outputs": [
        {
          "output_type": "stream",
          "name": "stdout",
          "text": [
            "(None, 15, 64)\n",
            "(None, 64)\n",
            "Model: \"model_1\"\n",
            "_________________________________________________________________\n",
            " Layer (type)                Output Shape              Param #   \n",
            "=================================================================\n",
            " input_6 (InputLayer)        [(None, 1)]               0         \n",
            "                                                                 \n",
            " text_vectorization (TextVec  (None, 15)               0         \n",
            " torization)                                                     \n",
            "                                                                 \n",
            " embedding (Embedding)       (None, 15, 128)           1280000   \n",
            "                                                                 \n",
            " lstm_8 (LSTM)               (None, 15, 64)            49408     \n",
            "                                                                 \n",
            " lstm_9 (LSTM)               (None, 64)                33024     \n",
            "                                                                 \n",
            " dense_9 (Dense)             (None, 65)                4225      \n",
            "                                                                 \n",
            " dense_10 (Dense)            (None, 1)                 66        \n",
            "                                                                 \n",
            "=================================================================\n",
            "Total params: 1,366,723\n",
            "Trainable params: 1,366,723\n",
            "Non-trainable params: 0\n",
            "_________________________________________________________________\n"
          ]
        }
      ]
    },
    {
      "cell_type": "code",
      "source": [
        "h2 = model2.fit(X_train.reshape(-1, 1), y_train, validation_data=(X_valid.reshape(-1, 1), y_valid), epochs=2)"
      ],
      "metadata": {
        "colab": {
          "base_uri": "https://localhost:8080/"
        },
        "id": "fSODp8PqdnPO",
        "outputId": "0f827630-ef43-4bc9-8a1a-896be65d7d67"
      },
      "execution_count": null,
      "outputs": [
        {
          "output_type": "stream",
          "name": "stdout",
          "text": [
            "Epoch 1/2\n",
            "215/215 [==============================] - 24s 45ms/step - loss: 0.1524 - accuracy: 0.9485 - val_loss: 0.7518 - val_accuracy: 0.7323\n",
            "Epoch 2/2\n",
            "215/215 [==============================] - 14s 66ms/step - loss: 0.0866 - accuracy: 0.9660 - val_loss: 1.1490 - val_accuracy: 0.7467\n"
          ]
        }
      ]
    },
    {
      "cell_type": "code",
      "source": [
        "model2.evaluate(X_valid.reshape(-1, 1), y_valid)[0]"
      ],
      "metadata": {
        "colab": {
          "base_uri": "https://localhost:8080/"
        },
        "id": "DG20Ija8eWMn",
        "outputId": "63dadf11-77f4-422c-f73f-88a2581511e8"
      },
      "execution_count": null,
      "outputs": [
        {
          "output_type": "stream",
          "name": "stdout",
          "text": [
            "24/24 [==============================] - 0s 13ms/step - loss: 0.7597 - accuracy: 0.7664\n"
          ]
        },
        {
          "output_type": "execute_result",
          "data": {
            "text/plain": [
              "0.7597036957740784"
            ]
          },
          "metadata": {},
          "execution_count": 31
        }
      ]
    },
    {
      "cell_type": "markdown",
      "source": [
        "### GRU"
      ],
      "metadata": {
        "id": "CwYB0SgFft22"
      }
    },
    {
      "cell_type": "code",
      "source": [
        "inputs = layers.Input(shape=(1,), dtype=tf.string)\n",
        "x = text_vectorization(inputs)\n",
        "x = embedding(x)\n",
        "#x = layers.GRU(units=64, return_sequences=True)(x)\n",
        "#print(x.shape)\n",
        "x = layers.GRU(units=64)(x)\n",
        "print(x.shape) # not more sequence here (15)\n",
        "x = layers.Dense(65, activation=\"relu\")(x)\n",
        "outputs = layers.Dense(1, activation=\"sigmoid\")(x)\n",
        "\n",
        "model3 = tf.keras.Model(inputs, outputs, name=\"model_1\")\n",
        "\n",
        "model3.compile(optimizer=tf.keras.optimizers.Adam(),\n",
        "              loss=\"binary_crossentropy\",\n",
        "              metrics=[\"accuracy\"]\n",
        "              )\n",
        "\n",
        "model3.summary()"
      ],
      "metadata": {
        "colab": {
          "base_uri": "https://localhost:8080/"
        },
        "id": "Rqt2ECyWfuxO",
        "outputId": "4cd014f1-3e98-4ea4-cf4c-8f05e40dd59d"
      },
      "execution_count": null,
      "outputs": [
        {
          "output_type": "stream",
          "name": "stdout",
          "text": [
            "(None, 64)\n",
            "Model: \"model_1\"\n",
            "_________________________________________________________________\n",
            " Layer (type)                Output Shape              Param #   \n",
            "=================================================================\n",
            " input_8 (InputLayer)        [(None, 1)]               0         \n",
            "                                                                 \n",
            " text_vectorization (TextVec  (None, 15)               0         \n",
            " torization)                                                     \n",
            "                                                                 \n",
            " embedding (Embedding)       (None, 15, 128)           1280000   \n",
            "                                                                 \n",
            " gru_2 (GRU)                 (None, 64)                37248     \n",
            "                                                                 \n",
            " dense_13 (Dense)            (None, 65)                4225      \n",
            "                                                                 \n",
            " dense_14 (Dense)            (None, 1)                 66        \n",
            "                                                                 \n",
            "=================================================================\n",
            "Total params: 1,321,539\n",
            "Trainable params: 1,321,539\n",
            "Non-trainable params: 0\n",
            "_________________________________________________________________\n"
          ]
        }
      ]
    },
    {
      "cell_type": "code",
      "source": [
        "h3 = model3.fit(X_train.reshape(-1, 1), y_train, validation_data=(X_valid.reshape(-1, 1), y_valid), epochs=2)"
      ],
      "metadata": {
        "colab": {
          "base_uri": "https://localhost:8080/"
        },
        "id": "zk1y3Q-df1Tg",
        "outputId": "9e535cfd-ccf0-4de0-bc39-a4633383ffb2"
      },
      "execution_count": null,
      "outputs": [
        {
          "output_type": "stream",
          "name": "stdout",
          "text": [
            "Epoch 1/2\n",
            "215/215 [==============================] - 10s 31ms/step - loss: 0.1486 - accuracy: 0.9460 - val_loss: 0.7578 - val_accuracy: 0.7454\n",
            "Epoch 2/2\n",
            "215/215 [==============================] - 6s 29ms/step - loss: 0.0692 - accuracy: 0.9734 - val_loss: 0.9989 - val_accuracy: 0.7480\n"
          ]
        }
      ]
    },
    {
      "cell_type": "markdown",
      "source": [
        "### LSTM Bidireccional"
      ],
      "metadata": {
        "id": "mkwHPowthBfO"
      }
    },
    {
      "cell_type": "code",
      "source": [
        "inputs = layers.Input(shape=(1,), dtype=tf.string)\n",
        "x = text_vectorization(inputs)\n",
        "x = embedding(x)\n",
        "x = layers.Bidirectional(layers.LSTM(units=64, return_sequences=True))(x)\n",
        "print(x.shape)\n",
        "x = layers.Bidirectional(layers.LSTM(units=64))(x)\n",
        "print(x.shape) # not more sequence here (15)\n",
        "x = layers.Dense(65, activation=\"relu\")(x)\n",
        "outputs = layers.Dense(1, activation=\"sigmoid\")(x)\n",
        "\n",
        "model4 = tf.keras.Model(inputs, outputs, name=\"model_1\")\n",
        "\n",
        "model4.compile(optimizer=tf.keras.optimizers.Adam(),\n",
        "              loss=\"binary_crossentropy\",\n",
        "              metrics=[\"accuracy\"]\n",
        "              )\n",
        "\n",
        "model4.summary()"
      ],
      "metadata": {
        "colab": {
          "base_uri": "https://localhost:8080/"
        },
        "id": "_riA65mshEic",
        "outputId": "f535b453-59c6-40e2-8903-400b901edfd0"
      },
      "execution_count": null,
      "outputs": [
        {
          "output_type": "stream",
          "name": "stdout",
          "text": [
            "(None, 15, 128)\n",
            "(None, 128)\n",
            "Model: \"model_1\"\n",
            "_________________________________________________________________\n",
            " Layer (type)                Output Shape              Param #   \n",
            "=================================================================\n",
            " input_9 (InputLayer)        [(None, 1)]               0         \n",
            "                                                                 \n",
            " text_vectorization (TextVec  (None, 15)               0         \n",
            " torization)                                                     \n",
            "                                                                 \n",
            " embedding (Embedding)       (None, 15, 128)           1280000   \n",
            "                                                                 \n",
            " bidirectional (Bidirectiona  (None, 15, 128)          98816     \n",
            " l)                                                              \n",
            "                                                                 \n",
            " bidirectional_1 (Bidirectio  (None, 128)              98816     \n",
            " nal)                                                            \n",
            "                                                                 \n",
            " dense_15 (Dense)            (None, 65)                8385      \n",
            "                                                                 \n",
            " dense_16 (Dense)            (None, 1)                 66        \n",
            "                                                                 \n",
            "=================================================================\n",
            "Total params: 1,486,083\n",
            "Trainable params: 1,486,083\n",
            "Non-trainable params: 0\n",
            "_________________________________________________________________\n"
          ]
        }
      ]
    },
    {
      "cell_type": "code",
      "source": [
        "h4 = model4.fit(X_train.reshape(-1, 1), y_train, validation_data=(X_valid.reshape(-1, 1), y_valid), epochs=2)"
      ],
      "metadata": {
        "colab": {
          "base_uri": "https://localhost:8080/"
        },
        "id": "yKm1p_hNhaKQ",
        "outputId": "b5b7c166-3c1c-4ce2-9c45-6275a6b253fe"
      },
      "execution_count": null,
      "outputs": [
        {
          "output_type": "stream",
          "name": "stdout",
          "text": [
            "Epoch 1/2\n",
            "215/215 [==============================] - 33s 84ms/step - loss: 0.0989 - accuracy: 0.9661 - val_loss: 1.0718 - val_accuracy: 0.7375\n",
            "Epoch 2/2\n",
            "215/215 [==============================] - 13s 62ms/step - loss: 0.0546 - accuracy: 0.9769 - val_loss: 1.3740 - val_accuracy: 0.7205\n"
          ]
        }
      ]
    },
    {
      "cell_type": "markdown",
      "source": [
        "### CONV1"
      ],
      "metadata": {
        "id": "J7TOJQctiGIX"
      }
    },
    {
      "cell_type": "code",
      "source": [
        "# one sequence per input\n",
        "inputs = layers.Input(shape=(1,), dtype=tf.string)\n",
        "x = text_vectorization(inputs)\n",
        "x = embedding(x)\n",
        "\n",
        "# kernels_size --> it looks 5 words at a time\n",
        "# strides --> move one word to other (one by one)\n",
        "# padding --> add padding to match output desired (same keep sequence length, valid minimice)\n",
        "x = layers.Conv1D(filters=32, kernel_size=5, strides=1, padding=\"same\", activation=\"relu\")(x)\n",
        "x = layers.GlobalMaxPool1D()(x) # it works better with \"MaxPool\" to avoid padding (0) influence\n",
        "\n",
        "#x = layers.Dense(65, activation=\"relu\")(x)\n",
        "outputs = layers.Dense(1, activation=\"sigmoid\")(x)\n",
        "\n",
        "model5 = tf.keras.Model(inputs, outputs, name=\"model_1\")\n",
        "\n",
        "model5.compile(optimizer=tf.keras.optimizers.Adam(),\n",
        "              loss=\"binary_crossentropy\",\n",
        "              metrics=[\"accuracy\"]\n",
        "              )\n",
        "\n",
        "model5.summary()"
      ],
      "metadata": {
        "colab": {
          "base_uri": "https://localhost:8080/"
        },
        "id": "vmr1wbU6iHpI",
        "outputId": "554ed78b-102e-48c7-b56a-05172d9e43ea"
      },
      "execution_count": null,
      "outputs": [
        {
          "output_type": "stream",
          "name": "stdout",
          "text": [
            "Model: \"model_1\"\n",
            "_________________________________________________________________\n",
            " Layer (type)                Output Shape              Param #   \n",
            "=================================================================\n",
            " input_12 (InputLayer)       [(None, 1)]               0         \n",
            "                                                                 \n",
            " text_vectorization (TextVec  (None, 15)               0         \n",
            " torization)                                                     \n",
            "                                                                 \n",
            " embedding (Embedding)       (None, 15, 128)           1280000   \n",
            "                                                                 \n",
            " conv1d_1 (Conv1D)           (None, 15, 32)            20512     \n",
            "                                                                 \n",
            " global_max_pooling1d_1 (Glo  (None, 32)               0         \n",
            " balMaxPooling1D)                                                \n",
            "                                                                 \n",
            " dense_19 (Dense)            (None, 1)                 33        \n",
            "                                                                 \n",
            "=================================================================\n",
            "Total params: 1,300,545\n",
            "Trainable params: 1,300,545\n",
            "Non-trainable params: 0\n",
            "_________________________________________________________________\n"
          ]
        }
      ]
    },
    {
      "cell_type": "code",
      "source": [
        "h5 = model5.fit(X_train.reshape(-1, 1), y_train, validation_data=(X_valid.reshape(-1, 1), y_valid), epochs=2)"
      ],
      "metadata": {
        "colab": {
          "base_uri": "https://localhost:8080/"
        },
        "id": "TzwZtdzDiHhS",
        "outputId": "9fcf9ee7-19ee-402c-b4b5-2ea61e217099"
      },
      "execution_count": null,
      "outputs": [
        {
          "output_type": "stream",
          "name": "stdout",
          "text": [
            "Epoch 1/2\n",
            "215/215 [==============================] - 7s 28ms/step - loss: 0.1498 - accuracy: 0.9561 - val_loss: 0.8975 - val_accuracy: 0.7533\n",
            "Epoch 2/2\n",
            "215/215 [==============================] - 6s 26ms/step - loss: 0.0772 - accuracy: 0.9724 - val_loss: 1.0326 - val_accuracy: 0.7310\n"
          ]
        }
      ]
    },
    {
      "cell_type": "markdown",
      "source": [
        "### Embeddings tranfer learning"
      ],
      "metadata": {
        "id": "SFEmv5lfnM5z"
      }
    },
    {
      "cell_type": "markdown",
      "source": [
        "Modelos pre entrenados en tensorflow hub:\\\n",
        "https://tfhub.dev/s?module-type=text-classification,text-embedding,text-generation,text-language-model,text-preprocessing,text-question-answering,text-retrieval-question-answering,text-segmentation"
      ],
      "metadata": {
        "id": "AF-COjz7oEQG"
      }
    },
    {
      "cell_type": "code",
      "source": [
        "# Embeddings pre entrenados:\n",
        "# De wikipedia:\n",
        "# https://tfhub.dev/google/collections/wiki40b-lm/1\n",
        "\n",
        "# Universal sentence encoder (USE) (512 vectors):\n",
        "# https://tfhub.dev/google/collections/universal-sentence-encoder/1\n",
        "# https://tfhub.dev/google/universal-sentence-encoder/4\n",
        "\n",
        "# large, lite (mobil)"
      ],
      "metadata": {
        "id": "j21amLAdoM8R"
      },
      "execution_count": null,
      "outputs": []
    },
    {
      "cell_type": "code",
      "source": [
        "import tensorflow_hub as hub\n",
        "\n",
        "base_embed = hub.KerasLayer(\"https://tfhub.dev/google/universal-sentence-encoder/4\",\n",
        "                            input_shape=[], # this model support dynamic input shape\n",
        "                            dtype=tf.string, # inputs will be strings\n",
        "                            trainable=False,\n",
        "                            name=\"USE\"\n",
        "                            )"
      ],
      "metadata": {
        "id": "ohiRl2ktoK8b"
      },
      "execution_count": null,
      "outputs": []
    },
    {
      "cell_type": "code",
      "source": [
        "inputs = layers.Input(shape=(), dtype=tf.string)\n",
        "x = base_embed(inputs)\n",
        "print(x.shape)\n",
        "\n",
        "x = layers.Dense(64, activation=\"relu\")(x)\n",
        "outputs = layers.Dense(1, activation=\"sigmoid\")(x)\n",
        "\n",
        "model6 = tf.keras.Model(inputs, outputs, name=\"model_1\")\n",
        "\n",
        "model6.compile(optimizer=tf.keras.optimizers.Adam(),\n",
        "              loss=\"binary_crossentropy\",\n",
        "              metrics=[\"accuracy\"]\n",
        "              )\n",
        "\n",
        "model6.summary()"
      ],
      "metadata": {
        "colab": {
          "base_uri": "https://localhost:8080/"
        },
        "id": "h7dHkWLHnQsu",
        "outputId": "93f55e1d-80c6-47dd-fc4d-d434b5bf1094"
      },
      "execution_count": null,
      "outputs": [
        {
          "output_type": "stream",
          "name": "stdout",
          "text": [
            "(None, 512)\n",
            "Model: \"model_1\"\n",
            "_________________________________________________________________\n",
            " Layer (type)                Output Shape              Param #   \n",
            "=================================================================\n",
            " input_22 (InputLayer)       [(None,)]                 0         \n",
            "                                                                 \n",
            " USE (KerasLayer)            (None, 512)               256797824 \n",
            "                                                                 \n",
            " dense_25 (Dense)            (None, 64)                32832     \n",
            "                                                                 \n",
            " dense_26 (Dense)            (None, 1)                 65        \n",
            "                                                                 \n",
            "=================================================================\n",
            "Total params: 256,830,721\n",
            "Trainable params: 32,897\n",
            "Non-trainable params: 256,797,824\n",
            "_________________________________________________________________\n"
          ]
        }
      ]
    },
    {
      "cell_type": "code",
      "source": [
        "h6 = model6.fit(X_train.reshape(-1, 1), y_train, validation_data=(X_valid.reshape(-1, 1), y_valid), epochs=2)"
      ],
      "metadata": {
        "colab": {
          "base_uri": "https://localhost:8080/"
        },
        "id": "aKH1M_pXrLO5",
        "outputId": "79ee45db-6743-4886-971b-60813d8e2907"
      },
      "execution_count": null,
      "outputs": [
        {
          "output_type": "stream",
          "name": "stdout",
          "text": [
            "Epoch 1/2\n",
            "215/215 [==============================] - 8s 24ms/step - loss: 0.5070 - accuracy: 0.7841 - val_loss: 0.4262 - val_accuracy: 0.8058\n",
            "Epoch 2/2\n",
            "215/215 [==============================] - 3s 15ms/step - loss: 0.4171 - accuracy: 0.8146 - val_loss: 0.4068 - val_accuracy: 0.8189\n"
          ]
        }
      ]
    },
    {
      "cell_type": "code",
      "source": [
        "model6.evaluate(X_valid.reshape(-1, 1), y_valid)"
      ],
      "metadata": {
        "colab": {
          "base_uri": "https://localhost:8080/"
        },
        "id": "xJ1SYlkHt-KP",
        "outputId": "14bcd59f-5f56-4162-ec6a-41fc4e018f79"
      },
      "execution_count": null,
      "outputs": [
        {
          "output_type": "stream",
          "name": "stdout",
          "text": [
            "24/24 [==============================] - 0s 16ms/step - loss: 0.4068 - accuracy: 0.8189\n"
          ]
        },
        {
          "output_type": "execute_result",
          "data": {
            "text/plain": [
              "[0.40684860944747925, 0.8188976645469666]"
            ]
          },
          "metadata": {},
          "execution_count": 92
        }
      ]
    },
    {
      "cell_type": "markdown",
      "source": [
        "### TF en 10%"
      ],
      "metadata": {
        "id": "-kDnWcPvsRoI"
      }
    },
    {
      "cell_type": "code",
      "source": [
        "# ESTO ESTA MAL PORQUE TOMA DATOS QUE SE USARON EN VALID\n",
        "# df_train_10 = df_train[[\"text\", \"target\"]].sample(frac=0.1, random_state=42)\n",
        "\n",
        "# print(df_train_10[\"target\"].value_counts())\n",
        "\n",
        "# X_train_10, y_train_10 = df_train_10[\"text\"].to_numpy(), df_train_10[\"target\"].to_numpy()\n",
        "\n",
        "#print(X_train_10.shape)\n",
        "\n",
        "# ESTO NO HACE FALTA PORQUE LOS DATOS X_TRAIN YA ESTAN MEZCLADOS\n",
        "# idxs = np.random.choice(range(len(X_train)), size=int(len(X_train)/10))\n",
        "# X_train_10 = X_train[idxs]\n",
        "# y_train_10 = y_train[idxs]\n",
        "\n",
        "idxs = int(len(X_train)/10)\n",
        "X_train_10 = X_train[:idxs]\n",
        "y_train_10 = y_train[:idxs]\n",
        "\n",
        "X_train_10.shape"
      ],
      "metadata": {
        "colab": {
          "base_uri": "https://localhost:8080/"
        },
        "id": "tAoW85EdsV3e",
        "outputId": "077c70b4-44b6-437b-c374-000cdc415278"
      },
      "execution_count": null,
      "outputs": [
        {
          "output_type": "execute_result",
          "data": {
            "text/plain": [
              "(685,)"
            ]
          },
          "metadata": {},
          "execution_count": 114
        }
      ]
    },
    {
      "cell_type": "code",
      "source": [
        "pd.Series(y_train).value_counts()"
      ],
      "metadata": {
        "colab": {
          "base_uri": "https://localhost:8080/"
        },
        "id": "B9zOefDRwvid",
        "outputId": "d0c30652-8c5c-4c9f-e220-515bd69a1533"
      },
      "execution_count": null,
      "outputs": [
        {
          "output_type": "execute_result",
          "data": {
            "text/plain": [
              "0    3916\n",
              "1    2935\n",
              "dtype: int64"
            ]
          },
          "metadata": {},
          "execution_count": 107
        }
      ]
    },
    {
      "cell_type": "code",
      "source": [
        "pd.Series(y_train_10).value_counts()"
      ],
      "metadata": {
        "colab": {
          "base_uri": "https://localhost:8080/"
        },
        "id": "b6qE5klOwj_D",
        "outputId": "4e58536b-dca9-4bef-fa2c-6b8c689cd42d"
      },
      "execution_count": null,
      "outputs": [
        {
          "output_type": "execute_result",
          "data": {
            "text/plain": [
              "0    404\n",
              "1    281\n",
              "dtype: int64"
            ]
          },
          "metadata": {},
          "execution_count": 115
        }
      ]
    },
    {
      "cell_type": "code",
      "source": [
        "# Create a new model base of arquitecture of model 6, with new layers and weights\n",
        "model7 = tf.keras.models.clone_model(model6)\n",
        "\n",
        "model7.compile(optimizer=tf.keras.optimizers.Adam(),\n",
        "              loss=\"binary_crossentropy\",\n",
        "              metrics=[\"accuracy\"]\n",
        "              )\n",
        "\n",
        "model7.summary()"
      ],
      "metadata": {
        "colab": {
          "base_uri": "https://localhost:8080/"
        },
        "id": "HaGWi92bsTqs",
        "outputId": "b4091357-9144-449a-f2b3-272af1e38e1e"
      },
      "execution_count": null,
      "outputs": [
        {
          "output_type": "stream",
          "name": "stdout",
          "text": [
            "Model: \"model_1\"\n",
            "_________________________________________________________________\n",
            " Layer (type)                Output Shape              Param #   \n",
            "=================================================================\n",
            " input_22 (InputLayer)       [(None,)]                 0         \n",
            "                                                                 \n",
            " USE (KerasLayer)            (None, 512)               256797824 \n",
            "                                                                 \n",
            " dense_25 (Dense)            (None, 64)                32832     \n",
            "                                                                 \n",
            " dense_26 (Dense)            (None, 1)                 65        \n",
            "                                                                 \n",
            "=================================================================\n",
            "Total params: 256,830,721\n",
            "Trainable params: 32,897\n",
            "Non-trainable params: 256,797,824\n",
            "_________________________________________________________________\n"
          ]
        }
      ]
    },
    {
      "cell_type": "code",
      "source": [
        "h7 = model7.fit(X_train_10.reshape(-1, 1), y_train_10, validation_data=(X_valid.reshape(-1, 1), y_valid), epochs=2)"
      ],
      "metadata": {
        "colab": {
          "base_uri": "https://localhost:8080/"
        },
        "id": "ZdPrOX4lt1m5",
        "outputId": "af3eaeb0-3218-4c87-b497-a4f65cffa023"
      },
      "execution_count": null,
      "outputs": [
        {
          "output_type": "stream",
          "name": "stdout",
          "text": [
            "Epoch 1/2\n",
            "22/22 [==============================] - 9s 114ms/step - loss: 0.6718 - accuracy: 0.7051 - val_loss: 0.6489 - val_accuracy: 0.7454\n",
            "Epoch 2/2\n",
            "22/22 [==============================] - 1s 49ms/step - loss: 0.6040 - accuracy: 0.8117 - val_loss: 0.5897 - val_accuracy: 0.7664\n"
          ]
        }
      ]
    },
    {
      "cell_type": "code",
      "source": [
        "model7.evaluate(X_valid.reshape(-1, 1), y_valid)"
      ],
      "metadata": {
        "colab": {
          "base_uri": "https://localhost:8080/"
        },
        "id": "AfyE6KNsuC6_",
        "outputId": "f5b28590-11a5-4958-c644-882534ed1061"
      },
      "execution_count": null,
      "outputs": [
        {
          "output_type": "stream",
          "name": "stdout",
          "text": [
            "24/24 [==============================] - 0s 14ms/step - loss: 0.5897 - accuracy: 0.7664\n"
          ]
        },
        {
          "output_type": "execute_result",
          "data": {
            "text/plain": [
              "[0.5896990299224854, 0.7664042115211487]"
            ]
          },
          "metadata": {},
          "execution_count": 118
        }
      ]
    },
    {
      "cell_type": "markdown",
      "source": [
        "### Save and Load a pretrained model"
      ],
      "metadata": {
        "id": "BOtIoXGO2-xy"
      }
    },
    {
      "cell_type": "code",
      "source": [
        "model6.save(\"model_6.h5\")"
      ],
      "metadata": {
        "id": "Rgc-xUOt3AUK"
      },
      "execution_count": null,
      "outputs": []
    },
    {
      "cell_type": "code",
      "source": [
        "# Load model with custom hub layer\n",
        "import tensorflow_hub as tensorflow_hub\n",
        "loaded_model6 = tf.keras.models.load_model(\"model_6.h5\", custom_objects={\"KerasLayer\": hub.KerasLayer})"
      ],
      "metadata": {
        "id": "k0uY3UEv3Hce"
      },
      "execution_count": null,
      "outputs": []
    },
    {
      "cell_type": "code",
      "source": [
        "loaded_model6.summary()"
      ],
      "metadata": {
        "colab": {
          "base_uri": "https://localhost:8080/"
        },
        "id": "dG99Qh6P3jhI",
        "outputId": "d9a92d83-e36e-4e0b-d70b-bb5bc06b11cb"
      },
      "execution_count": null,
      "outputs": [
        {
          "output_type": "stream",
          "name": "stdout",
          "text": [
            "Model: \"model_1\"\n",
            "_________________________________________________________________\n",
            " Layer (type)                Output Shape              Param #   \n",
            "=================================================================\n",
            " input_22 (InputLayer)       [(None,)]                 0         \n",
            "                                                                 \n",
            " USE (KerasLayer)            (None, 512)               256797824 \n",
            "                                                                 \n",
            " dense_25 (Dense)            (None, 64)                32832     \n",
            "                                                                 \n",
            " dense_26 (Dense)            (None, 1)                 65        \n",
            "                                                                 \n",
            "=================================================================\n",
            "Total params: 256,830,721\n",
            "Trainable params: 32,897\n",
            "Non-trainable params: 256,797,824\n",
            "_________________________________________________________________\n"
          ]
        }
      ]
    },
    {
      "cell_type": "code",
      "source": [
        "loaded_model6.evaluate(X_valid.reshape(-1, 1), y_valid)"
      ],
      "metadata": {
        "colab": {
          "base_uri": "https://localhost:8080/"
        },
        "id": "Q6Fs3jLg3l5J",
        "outputId": "2fec0815-9775-478e-fd8d-819272cbb067"
      },
      "execution_count": null,
      "outputs": [
        {
          "output_type": "stream",
          "name": "stdout",
          "text": [
            "24/24 [==============================] - 2s 18ms/step - loss: 0.4068 - accuracy: 0.8189\n"
          ]
        },
        {
          "output_type": "execute_result",
          "data": {
            "text/plain": [
              "[0.40684860944747925, 0.8188976645469666]"
            ]
          },
          "metadata": {},
          "execution_count": 123
        }
      ]
    },
    {
      "cell_type": "code",
      "source": [
        "# Use SaveModel format (tf)\n",
        "# Allow use to not specify custom layers, this format save all related the model\n",
        "model6.save(\"model_6_SavedModel\")"
      ],
      "metadata": {
        "colab": {
          "base_uri": "https://localhost:8080/"
        },
        "id": "sUU7ldbk3yDB",
        "outputId": "7832d56d-5d7f-4fdc-d134-b498310ac4a5"
      },
      "execution_count": null,
      "outputs": [
        {
          "output_type": "stream",
          "name": "stdout",
          "text": [
            "INFO:tensorflow:Assets written to: model_6_SavedModel/assets\n"
          ]
        },
        {
          "output_type": "stream",
          "name": "stderr",
          "text": [
            "INFO:tensorflow:Assets written to: model_6_SavedModel/assets\n"
          ]
        }
      ]
    },
    {
      "cell_type": "code",
      "source": [
        "loaded_model6_SavedModel = tf.keras.models.load_model(\"model_6_SavedModel\")"
      ],
      "metadata": {
        "id": "k4_GMhxs38rt"
      },
      "execution_count": null,
      "outputs": []
    },
    {
      "cell_type": "code",
      "source": [
        "loaded_model6_SavedModel.summary()"
      ],
      "metadata": {
        "colab": {
          "base_uri": "https://localhost:8080/"
        },
        "id": "4vliWTNM4MAl",
        "outputId": "ec301834-1c4d-4405-8f04-cb1697a395ff"
      },
      "execution_count": null,
      "outputs": [
        {
          "output_type": "stream",
          "name": "stdout",
          "text": [
            "Model: \"model_1\"\n",
            "_________________________________________________________________\n",
            " Layer (type)                Output Shape              Param #   \n",
            "=================================================================\n",
            " input_22 (InputLayer)       [(None,)]                 0         \n",
            "                                                                 \n",
            " USE (KerasLayer)            (None, 512)               256797824 \n",
            "                                                                 \n",
            " dense_25 (Dense)            (None, 64)                32832     \n",
            "                                                                 \n",
            " dense_26 (Dense)            (None, 1)                 65        \n",
            "                                                                 \n",
            "=================================================================\n",
            "Total params: 256,830,721\n",
            "Trainable params: 32,897\n",
            "Non-trainable params: 256,797,824\n",
            "_________________________________________________________________\n"
          ]
        }
      ]
    },
    {
      "cell_type": "code",
      "source": [
        "loaded_model6_SavedModel.evaluate(X_valid.reshape(-1, 1), y_valid)"
      ],
      "metadata": {
        "colab": {
          "base_uri": "https://localhost:8080/"
        },
        "id": "KfW8w8he4Ksu",
        "outputId": "83a8c8e4-0235-4f0a-c90c-1d75dc4de669"
      },
      "execution_count": null,
      "outputs": [
        {
          "output_type": "stream",
          "name": "stdout",
          "text": [
            "24/24 [==============================] - 1s 17ms/step - loss: 0.4068 - accuracy: 0.8189\n"
          ]
        },
        {
          "output_type": "execute_result",
          "data": {
            "text/plain": [
              "[0.40684860944747925, 0.8188976645469666]"
            ]
          },
          "metadata": {},
          "execution_count": 128
        }
      ]
    }
  ]
}