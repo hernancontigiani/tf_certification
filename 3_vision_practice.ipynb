{
  "nbformat": 4,
  "nbformat_minor": 0,
  "metadata": {
    "colab": {
      "name": "3_vision_practice.ipynb",
      "provenance": [],
      "collapsed_sections": []
    },
    "kernelspec": {
      "name": "python3",
      "display_name": "Python 3"
    },
    "language_info": {
      "name": "python"
    }
  },
  "cells": [
    {
      "cell_type": "markdown",
      "source": [
        "<a href=\"https://www.linkedin.com/in/hern%C3%A1n-contigiani-41260679/\"><img src=\"https://raw.githubusercontent.com/hernancontigiani/tf_certification/main/images/hc_banner.png\" width=\"1000\" align=\"center\"></a>\n",
        "\n",
        "\n",
        "# Tensorflow Developer Certification\n",
        "\n",
        "Computer vision practice"
      ],
      "metadata": {
        "id": "40iv3s4wcDGe"
      }
    },
    {
      "cell_type": "code",
      "execution_count": null,
      "metadata": {
        "id": "nhGzWqtt0pt4"
      },
      "outputs": [],
      "source": [
        "import matplotlib.pyplot as plt\n",
        "import numpy as np\n",
        "import pandas as pd\n",
        "import os\n",
        "import PIL\n",
        "import tensorflow as tf\n",
        "import tensorflow_datasets as tfds\n",
        "\n",
        "from tensorflow import keras\n",
        "from tensorflow.keras import layers\n",
        "from tensorflow.keras.models import Sequential\n",
        "\n",
        "from sklearn.model_selection import train_test_split"
      ]
    },
    {
      "cell_type": "code",
      "source": [
        "!wget https://raw.githubusercontent.com/hernancontigiani/tf_certification/main/utils_tf.py\n",
        "from utils_tf import *"
      ],
      "metadata": {
        "colab": {
          "base_uri": "https://localhost:8080/"
        },
        "id": "yMKdxC8H0zKS",
        "outputId": "98b2003f-30f1-4c5c-a5bb-692ec6d713b3"
      },
      "execution_count": null,
      "outputs": [
        {
          "output_type": "stream",
          "name": "stdout",
          "text": [
            "--2021-12-22 02:06:26--  https://raw.githubusercontent.com/hernancontigiani/tf_certification/main/utils_tf.py\n",
            "Resolving raw.githubusercontent.com (raw.githubusercontent.com)... 185.199.108.133, 185.199.109.133, 185.199.110.133, ...\n",
            "Connecting to raw.githubusercontent.com (raw.githubusercontent.com)|185.199.108.133|:443... connected.\n",
            "HTTP request sent, awaiting response... 200 OK\n",
            "Length: 10220 (10.0K) [text/plain]\n",
            "Saving to: ‘utils_tf.py.1’\n",
            "\n",
            "utils_tf.py.1       100%[===================>]   9.98K  --.-KB/s    in 0s      \n",
            "\n",
            "2021-12-22 02:06:26 (60.1 MB/s) - ‘utils_tf.py.1’ saved [10220/10220]\n",
            "\n"
          ]
        }
      ]
    },
    {
      "cell_type": "code",
      "source": [
        "import tensorflow_datasets as tfds\n",
        "\n",
        "#https://www.tensorflow.org/datasets/catalog/stl10\n",
        "(train_data, valid_data), ds_info = tfds.load(\n",
        "                            name=\"stl10\",\n",
        "                            split=[\"train\", \"test\"], # depends on the dataset\n",
        "                            shuffle_files = True, # shuffle\n",
        "                            as_supervised=True, # data will be return as (data, label)\n",
        "                            with_info=True\n",
        "                            )"
      ],
      "metadata": {
        "id": "TNlMGlZd2iy8"
      },
      "execution_count": null,
      "outputs": []
    },
    {
      "cell_type": "code",
      "source": [
        "class_names = ds_info.features[\"label\"].names\n",
        "class_names"
      ],
      "metadata": {
        "colab": {
          "base_uri": "https://localhost:8080/"
        },
        "id": "96jhmQee2_So",
        "outputId": "c339c2d4-94cc-4de6-dad0-0f0405216b1a"
      },
      "execution_count": null,
      "outputs": [
        {
          "output_type": "execute_result",
          "data": {
            "text/plain": [
              "['airplane',\n",
              " 'bird',\n",
              " 'car',\n",
              " 'cat',\n",
              " 'deer',\n",
              " 'dog',\n",
              " 'horse',\n",
              " 'monkey',\n",
              " 'ship',\n",
              " 'truck']"
            ]
          },
          "metadata": {},
          "execution_count": 5
        }
      ]
    },
    {
      "cell_type": "code",
      "source": [
        "img_shape = ds_info.features[\"image\"].shape\n",
        "img_shape"
      ],
      "metadata": {
        "colab": {
          "base_uri": "https://localhost:8080/"
        },
        "id": "uYVqneDM28m-",
        "outputId": "1bb2cb4b-44ad-42af-9765-ea273d8d0e7e"
      },
      "execution_count": null,
      "outputs": [
        {
          "output_type": "execute_result",
          "data": {
            "text/plain": [
              "(96, 96, 3)"
            ]
          },
          "metadata": {},
          "execution_count": 6
        }
      ]
    },
    {
      "cell_type": "code",
      "source": [
        "one_sample = train_data.take(1)"
      ],
      "metadata": {
        "id": "62c1sIu27qhj"
      },
      "execution_count": null,
      "outputs": []
    },
    {
      "cell_type": "code",
      "source": [
        "for image, label in one_sample:\n",
        "    print(\"Image shape\", image.shape, \"and label\", label, \" with class name\", class_names[label.numpy()])\n",
        "print(image[0, :10, :])"
      ],
      "metadata": {
        "colab": {
          "base_uri": "https://localhost:8080/"
        },
        "id": "CUm4r0TK71pt",
        "outputId": "579083d6-94f5-4786-b3e4-1296bd1c683d"
      },
      "execution_count": null,
      "outputs": [
        {
          "output_type": "stream",
          "name": "stdout",
          "text": [
            "Image shape (96, 96, 3) and label tf.Tensor(1, shape=(), dtype=int64)  with class name bird\n",
            "tf.Tensor(\n",
            "[[136 144 153]\n",
            " [125 127 136]\n",
            " [125 126 130]\n",
            " [120 122 117]\n",
            " [117 117 110]\n",
            " [113 114 109]\n",
            " [124 122 113]\n",
            " [123 121 112]\n",
            " [149 147 140]\n",
            " [139 129 119]], shape=(10, 3), dtype=uint8)\n"
          ]
        }
      ]
    },
    {
      "cell_type": "code",
      "source": [
        "# .shuffle(buffer_size=1000)\n",
        "train_data = train_data.batch(batch_size=32).prefetch(buffer_size=tf.data.AUTOTUNE)\n",
        "validation_data = valid_data.batch(batch_size=32).prefetch(buffer_size=tf.data.AUTOTUNE)"
      ],
      "metadata": {
        "id": "e_2Fu9wq8PCx"
      },
      "execution_count": null,
      "outputs": []
    },
    {
      "cell_type": "markdown",
      "source": [
        "### Raw model"
      ],
      "metadata": {
        "id": "y8S0YJDK4F2p"
      }
    },
    {
      "cell_type": "code",
      "source": [
        "IMG_SIZE = 96\n",
        "\n",
        "inputs = layers.Input(shape=(IMG_SIZE,IMG_SIZE,3))\n",
        "x = layers.experimental.preprocessing.Rescaling(1/255.)(inputs)\n",
        "\n",
        "x = layers.Conv2D(8, 3, padding=\"same\", activation=\"relu\")(x)\n",
        "x = layers.MaxPooling2D()(x)\n",
        "x = layers.Conv2D(16, 3, padding=\"same\", activation=\"relu\")(x)\n",
        "x = layers.MaxPooling2D()(x)\n",
        "\n",
        "x = layers.Conv2D(32, 3, padding=\"same\", activation=\"relu\")(x)\n",
        "x = layers.MaxPooling2D()(x)\n",
        "x = layers.Conv2D(64, 3, padding=\"same\", activation=\"relu\")(x)\n",
        "x = layers.MaxPooling2D()(x)\n",
        "\n",
        "x = layers.Conv2D(128, 3, padding=\"same\", activation=\"relu\")(x)\n",
        "x = layers.MaxPooling2D()(x)\n",
        "\n",
        "x = layers.Flatten()(x)\n",
        "x = layers.Dense(128, activation=\"relu\")(x)\n",
        "x = layers.Dropout(0.2)(x)\n",
        "x = layers.Dense(64, activation=\"relu\")(x)\n",
        "outputs = layers.Dense(len(class_names), activation=\"softmax\")(x)\n",
        "\n",
        "model_1 = tf.keras.Model(inputs, outputs)\n",
        "\n",
        "model_1.compile(optimizer=\"adam\",\n",
        "                loss=\"sparse_categorical_crossentropy\",\n",
        "                metrics=[\"accuracy\"])\n",
        "\n",
        "model_1.summary()\n",
        "#tf.keras.layers.Resizing( )"
      ],
      "metadata": {
        "colab": {
          "base_uri": "https://localhost:8080/"
        },
        "id": "eIupe8W24Lpw",
        "outputId": "3fcf4ef8-45e8-467e-ed69-e9b6805fe071"
      },
      "execution_count": null,
      "outputs": [
        {
          "output_type": "stream",
          "name": "stdout",
          "text": [
            "Model: \"model_2\"\n",
            "_________________________________________________________________\n",
            " Layer (type)                Output Shape              Param #   \n",
            "=================================================================\n",
            " input_9 (InputLayer)        [(None, 96, 96, 3)]       0         \n",
            "                                                                 \n",
            " rescaling_8 (Rescaling)     (None, 96, 96, 3)         0         \n",
            "                                                                 \n",
            " conv2d_38 (Conv2D)          (None, 96, 96, 8)         224       \n",
            "                                                                 \n",
            " max_pooling2d_38 (MaxPoolin  (None, 48, 48, 8)        0         \n",
            " g2D)                                                            \n",
            "                                                                 \n",
            " conv2d_39 (Conv2D)          (None, 48, 48, 16)        1168      \n",
            "                                                                 \n",
            " max_pooling2d_39 (MaxPoolin  (None, 24, 24, 16)       0         \n",
            " g2D)                                                            \n",
            "                                                                 \n",
            " conv2d_40 (Conv2D)          (None, 24, 24, 32)        4640      \n",
            "                                                                 \n",
            " max_pooling2d_40 (MaxPoolin  (None, 12, 12, 32)       0         \n",
            " g2D)                                                            \n",
            "                                                                 \n",
            " conv2d_41 (Conv2D)          (None, 12, 12, 64)        18496     \n",
            "                                                                 \n",
            " max_pooling2d_41 (MaxPoolin  (None, 6, 6, 64)         0         \n",
            " g2D)                                                            \n",
            "                                                                 \n",
            " conv2d_42 (Conv2D)          (None, 6, 6, 128)         73856     \n",
            "                                                                 \n",
            " max_pooling2d_42 (MaxPoolin  (None, 3, 3, 128)        0         \n",
            " g2D)                                                            \n",
            "                                                                 \n",
            " flatten_6 (Flatten)         (None, 1152)              0         \n",
            "                                                                 \n",
            " dense_12 (Dense)            (None, 128)               147584    \n",
            "                                                                 \n",
            " dropout_3 (Dropout)         (None, 128)               0         \n",
            "                                                                 \n",
            " dense_13 (Dense)            (None, 64)                8256      \n",
            "                                                                 \n",
            " dense_14 (Dense)            (None, 10)                650       \n",
            "                                                                 \n",
            "=================================================================\n",
            "Total params: 254,874\n",
            "Trainable params: 254,874\n",
            "Non-trainable params: 0\n",
            "_________________________________________________________________\n"
          ]
        }
      ]
    },
    {
      "cell_type": "code",
      "source": [
        "h1 = model_1.fit(\n",
        "    train_data,\n",
        "    steps_per_epoch=int(0.1*len(train_data)),\n",
        "    validation_data=validation_data,\n",
        "    validation_steps=int(0.1*len(validation_data)),\n",
        "    epochs=10,\n",
        "    callbacks=[create_modelcheckpoint_callback(\"model_1\", monitor=\"val_accuracy\")]\n",
        "                 )"
      ],
      "metadata": {
        "colab": {
          "base_uri": "https://localhost:8080/"
        },
        "id": "1YwIqdAx6j7_",
        "outputId": "1a361c98-e9ca-41c7-cfd1-cc989034780d"
      },
      "execution_count": null,
      "outputs": [
        {
          "output_type": "stream",
          "name": "stdout",
          "text": [
            "Epoch 1/10\n",
            "15/15 [==============================] - 7s 401ms/step - loss: 2.3070 - accuracy: 0.0938 - val_loss: 2.2950 - val_accuracy: 0.1213\n",
            "Epoch 2/10\n",
            "15/15 [==============================] - 6s 381ms/step - loss: 2.2863 - accuracy: 0.1417 - val_loss: 2.2335 - val_accuracy: 0.1713\n",
            "Epoch 3/10\n",
            "15/15 [==============================] - 6s 377ms/step - loss: 2.1722 - accuracy: 0.1729 - val_loss: 2.1377 - val_accuracy: 0.1713\n",
            "Epoch 4/10\n",
            "15/15 [==============================] - 6s 379ms/step - loss: 2.0242 - accuracy: 0.2562 - val_loss: 1.8742 - val_accuracy: 0.2700\n",
            "Epoch 5/10\n",
            "15/15 [==============================] - 7s 511ms/step - loss: 1.9012 - accuracy: 0.2750 - val_loss: 1.8283 - val_accuracy: 0.2663\n",
            "Epoch 6/10\n",
            "15/15 [==============================] - 8s 532ms/step - loss: 1.9315 - accuracy: 0.2562 - val_loss: 1.9020 - val_accuracy: 0.2625\n",
            "Epoch 7/10\n",
            "15/15 [==============================] - 6s 378ms/step - loss: 1.7811 - accuracy: 0.2917 - val_loss: 1.7504 - val_accuracy: 0.3150\n",
            "Epoch 8/10\n",
            "15/15 [==============================] - 6s 378ms/step - loss: 1.7995 - accuracy: 0.2917 - val_loss: 1.7595 - val_accuracy: 0.3100\n",
            "Epoch 9/10\n",
            "15/15 [==============================] - 9s 595ms/step - loss: 1.8329 - accuracy: 0.2708 - val_loss: 1.7697 - val_accuracy: 0.2975\n",
            "Epoch 10/10\n",
            "15/15 [==============================] - 10s 600ms/step - loss: 1.8005 - accuracy: 0.2937 - val_loss: 1.7100 - val_accuracy: 0.3325\n"
          ]
        }
      ]
    },
    {
      "cell_type": "code",
      "source": [
        "history_plot(h1)"
      ],
      "metadata": {
        "colab": {
          "base_uri": "https://localhost:8080/",
          "height": 265
        },
        "id": "TA-EV5JR9kFZ",
        "outputId": "5bfd0c8f-9b25-41d1-a803-612a7328e6fc"
      },
      "execution_count": null,
      "outputs": [
        {
          "output_type": "display_data",
          "data": {
            "image/png": "[encoded data removed]",
            "text/plain": [
              "<Figure size 432x288 with 1 Axes>"
            ]
          },
          "metadata": {
            "needs_background": "light"
          }
        }
      ]
    },
    {
      "cell_type": "code",
      "source": [
        "model_1.load_weights(\"model_checkpoints/model_1.ckpt\")\n",
        "model_1.evaluate(validation_data)"
      ],
      "metadata": {
        "colab": {
          "base_uri": "https://localhost:8080/"
        },
        "id": "__q9w-tM62h8",
        "outputId": "b68abf0c-5c85-41bb-b099-6265cf1c021a"
      },
      "execution_count": null,
      "outputs": [
        {
          "output_type": "stream",
          "name": "stdout",
          "text": [
            "250/250 [==============================] - 24s 95ms/step - loss: 1.7143 - accuracy: 0.3394\n"
          ]
        },
        {
          "output_type": "execute_result",
          "data": {
            "text/plain": [
              "[1.7143406867980957, 0.33937498927116394]"
            ]
          },
          "metadata": {},
          "execution_count": 30
        }
      ]
    },
    {
      "cell_type": "markdown",
      "source": [
        "### Transfer Learning"
      ],
      "metadata": {
        "id": "2inKdypr6-9c"
      }
    },
    {
      "cell_type": "code",
      "source": [
        "IMG_SIZE = 96\n",
        "\n",
        "inputs = layers.Input(shape=(IMG_SIZE,IMG_SIZE,3))\n",
        "x = layers.experimental.preprocessing.Rescaling(1/255.)(inputs)\n",
        "\n",
        "base_model = tf.keras.applications.VGG16(include_top=False)\n",
        "base_model.trainable = False\n",
        "x = base_model(x)\n",
        "\n",
        "x = layers.Flatten()(x)\n",
        "x = layers.Dense(128, activation=\"relu\")(x)\n",
        "x = layers.Dropout(0.2)(x)\n",
        "x = layers.Dense(64, activation=\"relu\")(x)\n",
        "outputs = layers.Dense(len(class_names), activation=\"softmax\")(x)\n",
        "\n",
        "model_2 = tf.keras.Model(inputs, outputs)\n",
        "\n",
        "model_2.compile(optimizer=\"adam\",\n",
        "                loss=\"sparse_categorical_crossentropy\",\n",
        "                metrics=[\"accuracy\"])\n",
        "\n",
        "model_2.summary()\n",
        "#tf.keras.layers.Resizing( )"
      ],
      "metadata": {
        "colab": {
          "base_uri": "https://localhost:8080/"
        },
        "id": "Cf9MEzhV7IAC",
        "outputId": "a10fb4ac-4171-4c1e-f3f1-cd1e8e4b6686"
      },
      "execution_count": null,
      "outputs": [
        {
          "output_type": "stream",
          "name": "stdout",
          "text": [
            "Model: \"model_3\"\n",
            "_________________________________________________________________\n",
            " Layer (type)                Output Shape              Param #   \n",
            "=================================================================\n",
            " input_16 (InputLayer)       [(None, 96, 96, 3)]       0         \n",
            "                                                                 \n",
            " rescaling_12 (Rescaling)    (None, 96, 96, 3)         0         \n",
            "                                                                 \n",
            " vgg16 (Functional)          (None, None, None, 512)   14714688  \n",
            "                                                                 \n",
            " flatten_10 (Flatten)        (None, 4608)              0         \n",
            "                                                                 \n",
            " dense_20 (Dense)            (None, 128)               589952    \n",
            "                                                                 \n",
            " dropout_5 (Dropout)         (None, 128)               0         \n",
            "                                                                 \n",
            " dense_21 (Dense)            (None, 64)                8256      \n",
            "                                                                 \n",
            " dense_22 (Dense)            (None, 10)                650       \n",
            "                                                                 \n",
            "=================================================================\n",
            "Total params: 15,313,546\n",
            "Trainable params: 598,858\n",
            "Non-trainable params: 14,714,688\n",
            "_________________________________________________________________\n"
          ]
        }
      ]
    },
    {
      "cell_type": "code",
      "source": [
        "h2 = model_2.fit(\n",
        "    train_data,\n",
        "    steps_per_epoch=int(0.1*len(train_data)),\n",
        "    validation_data=validation_data,\n",
        "    validation_steps=int(0.1*len(validation_data)),\n",
        "    epochs=10,\n",
        "    callbacks=[create_modelcheckpoint_callback(\"model_2\", monitor=\"val_accuracy\")]\n",
        "                 )"
      ],
      "metadata": {
        "colab": {
          "base_uri": "https://localhost:8080/"
        },
        "id": "dpYFlDnu-C-O",
        "outputId": "04902534-f3cf-46b5-8d0c-0cc71f0c9011"
      },
      "execution_count": null,
      "outputs": [
        {
          "output_type": "stream",
          "name": "stdout",
          "text": [
            "Epoch 1/10\n",
            "15/15 [==============================] - 174s 12s/step - loss: 2.0421 - accuracy: 0.2396 - val_loss: 1.6380 - val_accuracy: 0.4162\n",
            "Epoch 2/10\n",
            "15/15 [==============================] - 167s 12s/step - loss: 1.5546 - accuracy: 0.4208 - val_loss: 1.3511 - val_accuracy: 0.4975\n",
            "Epoch 3/10\n",
            "15/15 [==============================] - 138s 10s/step - loss: 1.3165 - accuracy: 0.4979 - val_loss: 1.2172 - val_accuracy: 0.5350\n",
            "Epoch 4/10\n",
            "15/15 [==============================] - 123s 9s/step - loss: 1.2630 - accuracy: 0.5312 - val_loss: 1.1273 - val_accuracy: 0.5763\n",
            "Epoch 5/10\n",
            "15/15 [==============================] - 123s 9s/step - loss: 1.1990 - accuracy: 0.5729 - val_loss: 1.0520 - val_accuracy: 0.6488\n",
            "Epoch 6/10\n",
            "15/15 [==============================] - 122s 9s/step - loss: 1.0547 - accuracy: 0.6333 - val_loss: 0.9957 - val_accuracy: 0.6350\n",
            "Epoch 7/10\n",
            "15/15 [==============================] - 123s 9s/step - loss: 1.1143 - accuracy: 0.5917 - val_loss: 0.9370 - val_accuracy: 0.6587\n",
            "Epoch 8/10\n",
            "15/15 [==============================] - 125s 9s/step - loss: 0.9368 - accuracy: 0.6687 - val_loss: 0.9097 - val_accuracy: 0.6637\n",
            "Epoch 9/10\n",
            "15/15 [==============================] - 121s 8s/step - loss: 0.9818 - accuracy: 0.6687 - val_loss: 0.9142 - val_accuracy: 0.6612\n",
            "Epoch 10/10\n",
            "15/15 [==============================] - 122s 8s/step - loss: 0.9755 - accuracy: 0.6417 - val_loss: 0.8897 - val_accuracy: 0.6837\n"
          ]
        }
      ]
    },
    {
      "cell_type": "code",
      "source": [
        "history_plot(h2)"
      ],
      "metadata": {
        "colab": {
          "base_uri": "https://localhost:8080/",
          "height": 267
        },
        "id": "Ovodt1w_-JWT",
        "outputId": "66132d0f-2cb3-4c6c-b797-f68e634d4ae4"
      },
      "execution_count": null,
      "outputs": [
        {
          "output_type": "display_data",
          "data": {
            "image/png": "[encoded data removed]",
            "text/plain": [
              "<Figure size 432x288 with 1 Axes>"
            ]
          },
          "metadata": {
            "needs_background": "light"
          }
        }
      ]
    },
    {
      "cell_type": "code",
      "source": [
        "model_2.load_weights(\"model_checkpoints/model_2.ckpt\")\n",
        "model_2.evaluate(validation_data)"
      ],
      "metadata": {
        "colab": {
          "base_uri": "https://localhost:8080/",
          "height": 363
        },
        "id": "dWO172YV-Geg",
        "outputId": "39b2f057-4556-4c19-9746-765440d02302"
      },
      "execution_count": null,
      "outputs": [
        {
          "output_type": "stream",
          "name": "stdout",
          "text": [
            " 40/250 [===>..........................] - ETA: 10:36 - loss: 0.8914 - accuracy: 0.6828"
          ]
        },
        {
          "output_type": "error",
          "ename": "KeyboardInterrupt",
          "evalue": "ignored",
          "traceback": [
            "\u001b[0;31m---------------------------------------------------------------------------\u001b[0m",
            "\u001b[0;31mKeyboardInterrupt\u001b[0m                         Traceback (most recent call last)",
            "\u001b[0;32m<ipython-input-37-ae8117550de9>\u001b[0m in \u001b[0;36m<module>\u001b[0;34m()\u001b[0m\n\u001b[1;32m      1\u001b[0m \u001b[0mmodel_2\u001b[0m\u001b[0;34m.\u001b[0m\u001b[0mload_weights\u001b[0m\u001b[0;34m(\u001b[0m\u001b[0;34m\"model_checkpoints/model_2.ckpt\"\u001b[0m\u001b[0;34m)\u001b[0m\u001b[0;34m\u001b[0m\u001b[0;34m\u001b[0m\u001b[0m\n\u001b[0;32m----> 2\u001b[0;31m \u001b[0mmodel_2\u001b[0m\u001b[0;34m.\u001b[0m\u001b[0mevaluate\u001b[0m\u001b[0;34m(\u001b[0m\u001b[0mvalidation_data\u001b[0m\u001b[0;34m)\u001b[0m\u001b[0;34m\u001b[0m\u001b[0;34m\u001b[0m\u001b[0m\n\u001b[0m",
            "\u001b[0;32m/usr/local/lib/python3.7/dist-packages/keras/utils/traceback_utils.py\u001b[0m in \u001b[0;36merror_handler\u001b[0;34m(*args, **kwargs)\u001b[0m\n\u001b[1;32m     62\u001b[0m     \u001b[0mfiltered_tb\u001b[0m \u001b[0;34m=\u001b[0m \u001b[0;32mNone\u001b[0m\u001b[0;34m\u001b[0m\u001b[0;34m\u001b[0m\u001b[0m\n\u001b[1;32m     63\u001b[0m     \u001b[0;32mtry\u001b[0m\u001b[0;34m:\u001b[0m\u001b[0;34m\u001b[0m\u001b[0;34m\u001b[0m\u001b[0m\n\u001b[0;32m---> 64\u001b[0;31m       \u001b[0;32mreturn\u001b[0m \u001b[0mfn\u001b[0m\u001b[0;34m(\u001b[0m\u001b[0;34m*\u001b[0m\u001b[0margs\u001b[0m\u001b[0;34m,\u001b[0m \u001b[0;34m**\u001b[0m\u001b[0mkwargs\u001b[0m\u001b[0;34m)\u001b[0m\u001b[0;34m\u001b[0m\u001b[0;34m\u001b[0m\u001b[0m\n\u001b[0m\u001b[1;32m     65\u001b[0m     \u001b[0;32mexcept\u001b[0m \u001b[0mException\u001b[0m \u001b[0;32mas\u001b[0m \u001b[0me\u001b[0m\u001b[0;34m:\u001b[0m  \u001b[0;31m# pylint: disable=broad-except\u001b[0m\u001b[0;34m\u001b[0m\u001b[0;34m\u001b[0m\u001b[0m\n\u001b[1;32m     66\u001b[0m       \u001b[0mfiltered_tb\u001b[0m \u001b[0;34m=\u001b[0m \u001b[0m_process_traceback_frames\u001b[0m\u001b[0;34m(\u001b[0m\u001b[0me\u001b[0m\u001b[0;34m.\u001b[0m\u001b[0m__traceback__\u001b[0m\u001b[0;34m)\u001b[0m\u001b[0;34m\u001b[0m\u001b[0;34m\u001b[0m\u001b[0m\n",
            "\u001b[0;32m/usr/local/lib/python3.7/dist-packages/keras/engine/training.py\u001b[0m in \u001b[0;36mevaluate\u001b[0;34m(self, x, y, batch_size, verbose, sample_weight, steps, callbacks, max_queue_size, workers, use_multiprocessing, return_dict, **kwargs)\u001b[0m\n\u001b[1;32m   1535\u001b[0m             \u001b[0;32mwith\u001b[0m \u001b[0mtf\u001b[0m\u001b[0;34m.\u001b[0m\u001b[0mprofiler\u001b[0m\u001b[0;34m.\u001b[0m\u001b[0mexperimental\u001b[0m\u001b[0;34m.\u001b[0m\u001b[0mTrace\u001b[0m\u001b[0;34m(\u001b[0m\u001b[0;34m'test'\u001b[0m\u001b[0;34m,\u001b[0m \u001b[0mstep_num\u001b[0m\u001b[0;34m=\u001b[0m\u001b[0mstep\u001b[0m\u001b[0;34m,\u001b[0m \u001b[0m_r\u001b[0m\u001b[0;34m=\u001b[0m\u001b[0;36m1\u001b[0m\u001b[0;34m)\u001b[0m\u001b[0;34m:\u001b[0m\u001b[0;34m\u001b[0m\u001b[0;34m\u001b[0m\u001b[0m\n\u001b[1;32m   1536\u001b[0m               \u001b[0mcallbacks\u001b[0m\u001b[0;34m.\u001b[0m\u001b[0mon_test_batch_begin\u001b[0m\u001b[0;34m(\u001b[0m\u001b[0mstep\u001b[0m\u001b[0;34m)\u001b[0m\u001b[0;34m\u001b[0m\u001b[0;34m\u001b[0m\u001b[0m\n\u001b[0;32m-> 1537\u001b[0;31m               \u001b[0mtmp_logs\u001b[0m \u001b[0;34m=\u001b[0m \u001b[0mself\u001b[0m\u001b[0;34m.\u001b[0m\u001b[0mtest_function\u001b[0m\u001b[0;34m(\u001b[0m\u001b[0miterator\u001b[0m\u001b[0;34m)\u001b[0m\u001b[0;34m\u001b[0m\u001b[0;34m\u001b[0m\u001b[0m\n\u001b[0m\u001b[1;32m   1538\u001b[0m               \u001b[0;32mif\u001b[0m \u001b[0mdata_handler\u001b[0m\u001b[0;34m.\u001b[0m\u001b[0mshould_sync\u001b[0m\u001b[0;34m:\u001b[0m\u001b[0;34m\u001b[0m\u001b[0;34m\u001b[0m\u001b[0m\n\u001b[1;32m   1539\u001b[0m                 \u001b[0mcontext\u001b[0m\u001b[0;34m.\u001b[0m\u001b[0masync_wait\u001b[0m\u001b[0;34m(\u001b[0m\u001b[0;34m)\u001b[0m\u001b[0;34m\u001b[0m\u001b[0;34m\u001b[0m\u001b[0m\n",
            "\u001b[0;32m/usr/local/lib/python3.7/dist-packages/tensorflow/python/util/traceback_utils.py\u001b[0m in \u001b[0;36merror_handler\u001b[0;34m(*args, **kwargs)\u001b[0m\n\u001b[1;32m    148\u001b[0m     \u001b[0mfiltered_tb\u001b[0m \u001b[0;34m=\u001b[0m \u001b[0;32mNone\u001b[0m\u001b[0;34m\u001b[0m\u001b[0;34m\u001b[0m\u001b[0m\n\u001b[1;32m    149\u001b[0m     \u001b[0;32mtry\u001b[0m\u001b[0;34m:\u001b[0m\u001b[0;34m\u001b[0m\u001b[0;34m\u001b[0m\u001b[0m\n\u001b[0;32m--> 150\u001b[0;31m       \u001b[0;32mreturn\u001b[0m \u001b[0mfn\u001b[0m\u001b[0;34m(\u001b[0m\u001b[0;34m*\u001b[0m\u001b[0margs\u001b[0m\u001b[0;34m,\u001b[0m \u001b[0;34m**\u001b[0m\u001b[0mkwargs\u001b[0m\u001b[0;34m)\u001b[0m\u001b[0;34m\u001b[0m\u001b[0;34m\u001b[0m\u001b[0m\n\u001b[0m\u001b[1;32m    151\u001b[0m     \u001b[0;32mexcept\u001b[0m \u001b[0mException\u001b[0m \u001b[0;32mas\u001b[0m \u001b[0me\u001b[0m\u001b[0;34m:\u001b[0m\u001b[0;34m\u001b[0m\u001b[0;34m\u001b[0m\u001b[0m\n\u001b[1;32m    152\u001b[0m       \u001b[0mfiltered_tb\u001b[0m \u001b[0;34m=\u001b[0m \u001b[0m_process_traceback_frames\u001b[0m\u001b[0;34m(\u001b[0m\u001b[0me\u001b[0m\u001b[0;34m.\u001b[0m\u001b[0m__traceback__\u001b[0m\u001b[0;34m)\u001b[0m\u001b[0;34m\u001b[0m\u001b[0;34m\u001b[0m\u001b[0m\n",
            "\u001b[0;32m/usr/local/lib/python3.7/dist-packages/tensorflow/python/eager/def_function.py\u001b[0m in \u001b[0;36m__call__\u001b[0;34m(self, *args, **kwds)\u001b[0m\n\u001b[1;32m    908\u001b[0m \u001b[0;34m\u001b[0m\u001b[0m\n\u001b[1;32m    909\u001b[0m       \u001b[0;32mwith\u001b[0m \u001b[0mOptionalXlaContext\u001b[0m\u001b[0;34m(\u001b[0m\u001b[0mself\u001b[0m\u001b[0;34m.\u001b[0m\u001b[0m_jit_compile\u001b[0m\u001b[0;34m)\u001b[0m\u001b[0;34m:\u001b[0m\u001b[0;34m\u001b[0m\u001b[0;34m\u001b[0m\u001b[0m\n\u001b[0;32m--> 910\u001b[0;31m         \u001b[0mresult\u001b[0m \u001b[0;34m=\u001b[0m \u001b[0mself\u001b[0m\u001b[0;34m.\u001b[0m\u001b[0m_call\u001b[0m\u001b[0;34m(\u001b[0m\u001b[0;34m*\u001b[0m\u001b[0margs\u001b[0m\u001b[0;34m,\u001b[0m \u001b[0;34m**\u001b[0m\u001b[0mkwds\u001b[0m\u001b[0;34m)\u001b[0m\u001b[0;34m\u001b[0m\u001b[0;34m\u001b[0m\u001b[0m\n\u001b[0m\u001b[1;32m    911\u001b[0m \u001b[0;34m\u001b[0m\u001b[0m\n\u001b[1;32m    912\u001b[0m       \u001b[0mnew_tracing_count\u001b[0m \u001b[0;34m=\u001b[0m \u001b[0mself\u001b[0m\u001b[0;34m.\u001b[0m\u001b[0mexperimental_get_tracing_count\u001b[0m\u001b[0;34m(\u001b[0m\u001b[0;34m)\u001b[0m\u001b[0;34m\u001b[0m\u001b[0;34m\u001b[0m\u001b[0m\n",
            "\u001b[0;32m/usr/local/lib/python3.7/dist-packages/tensorflow/python/eager/def_function.py\u001b[0m in \u001b[0;36m_call\u001b[0;34m(self, *args, **kwds)\u001b[0m\n\u001b[1;32m    947\u001b[0m       \u001b[0;31m# In this case we have not created variables on the first call. So we can\u001b[0m\u001b[0;34m\u001b[0m\u001b[0;34m\u001b[0m\u001b[0;34m\u001b[0m\u001b[0m\n\u001b[1;32m    948\u001b[0m       \u001b[0;31m# run the first trace but we should fail if variables are created.\u001b[0m\u001b[0;34m\u001b[0m\u001b[0;34m\u001b[0m\u001b[0;34m\u001b[0m\u001b[0m\n\u001b[0;32m--> 949\u001b[0;31m       \u001b[0mresults\u001b[0m \u001b[0;34m=\u001b[0m \u001b[0mself\u001b[0m\u001b[0;34m.\u001b[0m\u001b[0m_stateful_fn\u001b[0m\u001b[0;34m(\u001b[0m\u001b[0;34m*\u001b[0m\u001b[0margs\u001b[0m\u001b[0;34m,\u001b[0m \u001b[0;34m**\u001b[0m\u001b[0mkwds\u001b[0m\u001b[0;34m)\u001b[0m\u001b[0;34m\u001b[0m\u001b[0;34m\u001b[0m\u001b[0m\n\u001b[0m\u001b[1;32m    950\u001b[0m       \u001b[0;32mif\u001b[0m \u001b[0mself\u001b[0m\u001b[0;34m.\u001b[0m\u001b[0m_created_variables\u001b[0m \u001b[0;32mand\u001b[0m \u001b[0;32mnot\u001b[0m \u001b[0mALLOW_DYNAMIC_VARIABLE_CREATION\u001b[0m\u001b[0;34m:\u001b[0m\u001b[0;34m\u001b[0m\u001b[0;34m\u001b[0m\u001b[0m\n\u001b[1;32m    951\u001b[0m         raise ValueError(\"Creating variables on a non-first call to a function\"\n",
            "\u001b[0;32m/usr/local/lib/python3.7/dist-packages/tensorflow/python/eager/function.py\u001b[0m in \u001b[0;36m__call__\u001b[0;34m(self, *args, **kwargs)\u001b[0m\n\u001b[1;32m   3129\u001b[0m        filtered_flat_args) = self._maybe_define_function(args, kwargs)\n\u001b[1;32m   3130\u001b[0m     return graph_function._call_flat(\n\u001b[0;32m-> 3131\u001b[0;31m         filtered_flat_args, captured_inputs=graph_function.captured_inputs)  # pylint: disable=protected-access\n\u001b[0m\u001b[1;32m   3132\u001b[0m \u001b[0;34m\u001b[0m\u001b[0m\n\u001b[1;32m   3133\u001b[0m   \u001b[0;34m@\u001b[0m\u001b[0mproperty\u001b[0m\u001b[0;34m\u001b[0m\u001b[0;34m\u001b[0m\u001b[0m\n",
            "\u001b[0;32m/usr/local/lib/python3.7/dist-packages/tensorflow/python/eager/function.py\u001b[0m in \u001b[0;36m_call_flat\u001b[0;34m(self, args, captured_inputs, cancellation_manager)\u001b[0m\n\u001b[1;32m   1958\u001b[0m       \u001b[0;31m# No tape is watching; skip to running the function.\u001b[0m\u001b[0;34m\u001b[0m\u001b[0;34m\u001b[0m\u001b[0;34m\u001b[0m\u001b[0m\n\u001b[1;32m   1959\u001b[0m       return self._build_call_outputs(self._inference_function.call(\n\u001b[0;32m-> 1960\u001b[0;31m           ctx, args, cancellation_manager=cancellation_manager))\n\u001b[0m\u001b[1;32m   1961\u001b[0m     forward_backward = self._select_forward_and_backward_functions(\n\u001b[1;32m   1962\u001b[0m         \u001b[0margs\u001b[0m\u001b[0;34m,\u001b[0m\u001b[0;34m\u001b[0m\u001b[0;34m\u001b[0m\u001b[0m\n",
            "\u001b[0;32m/usr/local/lib/python3.7/dist-packages/tensorflow/python/eager/function.py\u001b[0m in \u001b[0;36mcall\u001b[0;34m(self, ctx, args, cancellation_manager)\u001b[0m\n\u001b[1;32m    601\u001b[0m               \u001b[0minputs\u001b[0m\u001b[0;34m=\u001b[0m\u001b[0margs\u001b[0m\u001b[0;34m,\u001b[0m\u001b[0;34m\u001b[0m\u001b[0;34m\u001b[0m\u001b[0m\n\u001b[1;32m    602\u001b[0m               \u001b[0mattrs\u001b[0m\u001b[0;34m=\u001b[0m\u001b[0mattrs\u001b[0m\u001b[0;34m,\u001b[0m\u001b[0;34m\u001b[0m\u001b[0;34m\u001b[0m\u001b[0m\n\u001b[0;32m--> 603\u001b[0;31m               ctx=ctx)\n\u001b[0m\u001b[1;32m    604\u001b[0m         \u001b[0;32melse\u001b[0m\u001b[0;34m:\u001b[0m\u001b[0;34m\u001b[0m\u001b[0;34m\u001b[0m\u001b[0m\n\u001b[1;32m    605\u001b[0m           outputs = execute.execute_with_cancellation(\n",
            "\u001b[0;32m/usr/local/lib/python3.7/dist-packages/tensorflow/python/eager/execute.py\u001b[0m in \u001b[0;36mquick_execute\u001b[0;34m(op_name, num_outputs, inputs, attrs, ctx, name)\u001b[0m\n\u001b[1;32m     57\u001b[0m     \u001b[0mctx\u001b[0m\u001b[0;34m.\u001b[0m\u001b[0mensure_initialized\u001b[0m\u001b[0;34m(\u001b[0m\u001b[0;34m)\u001b[0m\u001b[0;34m\u001b[0m\u001b[0;34m\u001b[0m\u001b[0m\n\u001b[1;32m     58\u001b[0m     tensors = pywrap_tfe.TFE_Py_Execute(ctx._handle, device_name, op_name,\n\u001b[0;32m---> 59\u001b[0;31m                                         inputs, attrs, num_outputs)\n\u001b[0m\u001b[1;32m     60\u001b[0m   \u001b[0;32mexcept\u001b[0m \u001b[0mcore\u001b[0m\u001b[0;34m.\u001b[0m\u001b[0m_NotOkStatusException\u001b[0m \u001b[0;32mas\u001b[0m \u001b[0me\u001b[0m\u001b[0;34m:\u001b[0m\u001b[0;34m\u001b[0m\u001b[0;34m\u001b[0m\u001b[0m\n\u001b[1;32m     61\u001b[0m     \u001b[0;32mif\u001b[0m \u001b[0mname\u001b[0m \u001b[0;32mis\u001b[0m \u001b[0;32mnot\u001b[0m \u001b[0;32mNone\u001b[0m\u001b[0;34m:\u001b[0m\u001b[0;34m\u001b[0m\u001b[0;34m\u001b[0m\u001b[0m\n",
            "\u001b[0;31mKeyboardInterrupt\u001b[0m: "
          ]
        }
      ]
    },
    {
      "cell_type": "markdown",
      "source": [
        "### Data Augmentation"
      ],
      "metadata": {
        "id": "IR-HETAA-K3Q"
      }
    },
    {
      "cell_type": "code",
      "source": [
        "IMG_SIZE = 96\n",
        "\n",
        "inputs = layers.Input(shape=(IMG_SIZE,IMG_SIZE,3))\n",
        "\n",
        "data_augmentation = Sequential([\n",
        "  #preprocessing.Resizing(96, 96),\n",
        "  layers.experimental.preprocessing.RandomFlip(\"horizontal\"),\n",
        "  layers.experimental.preprocessing.RandomRotation(0.2),\n",
        "  layers.experimental.preprocessing.RandomZoom(0.2)\n",
        "], name=\"augmentation_layer\")\n",
        "x = data_augmentation(inputs)\n",
        "\n",
        "x = layers.experimental.preprocessing.Rescaling(1/255.)(x)\n",
        "base_model = tf.keras.applications.VGG16(include_top=False)\n",
        "base_model.trainable = False\n",
        "x = base_model(x)\n",
        "\n",
        "x = layers.Flatten()(x)\n",
        "x = layers.Dense(128, activation=\"relu\")(x)\n",
        "x = layers.Dropout(0.2)(x)\n",
        "x = layers.Dense(64, activation=\"relu\")(x)\n",
        "outputs = layers.Dense(len(class_names), activation=\"softmax\")(x)\n",
        "\n",
        "model_3 = tf.keras.Model(inputs, outputs)\n",
        "\n",
        "model_3.compile(optimizer=\"adam\",\n",
        "                loss=\"sparse_categorical_crossentropy\",\n",
        "                metrics=[\"accuracy\"])\n",
        "\n",
        "model_3.summary()\n",
        "#tf.keras.layers.Resizing( )"
      ],
      "metadata": {
        "colab": {
          "base_uri": "https://localhost:8080/"
        },
        "id": "kgZ7zhxb-NwH",
        "outputId": "c3aa1f14-7c9a-4e67-a987-143db18eadb9"
      },
      "execution_count": null,
      "outputs": [
        {
          "output_type": "stream",
          "name": "stdout",
          "text": [
            "Model: \"model_4\"\n",
            "_________________________________________________________________\n",
            " Layer (type)                Output Shape              Param #   \n",
            "=================================================================\n",
            " input_18 (InputLayer)       [(None, 96, 96, 3)]       0         \n",
            "                                                                 \n",
            " augmentation_layer (Sequent  (None, 96, 96, 3)        0         \n",
            " ial)                                                            \n",
            "                                                                 \n",
            " rescaling_13 (Rescaling)    (None, 96, 96, 3)         0         \n",
            "                                                                 \n",
            " vgg16 (Functional)          (None, None, None, 512)   14714688  \n",
            "                                                                 \n",
            " flatten_11 (Flatten)        (None, 4608)              0         \n",
            "                                                                 \n",
            " dense_23 (Dense)            (None, 128)               589952    \n",
            "                                                                 \n",
            " dropout_6 (Dropout)         (None, 128)               0         \n",
            "                                                                 \n",
            " dense_24 (Dense)            (None, 64)                8256      \n",
            "                                                                 \n",
            " dense_25 (Dense)            (None, 10)                650       \n",
            "                                                                 \n",
            "=================================================================\n",
            "Total params: 15,313,546\n",
            "Trainable params: 598,858\n",
            "Non-trainable params: 14,714,688\n",
            "_________________________________________________________________\n"
          ]
        }
      ]
    },
    {
      "cell_type": "code",
      "source": [
        "h3 = model_3.fit(\n",
        "    train_data,\n",
        "    steps_per_epoch=int(0.1*len(train_data)),\n",
        "    validation_data=validation_data,\n",
        "    validation_steps=int(0.1*len(validation_data)),\n",
        "    epochs=5,\n",
        "    callbacks=[create_modelcheckpoint_callback(\"model_3\", monitor=\"val_accuracy\")]\n",
        "                 )"
      ],
      "metadata": {
        "colab": {
          "base_uri": "https://localhost:8080/"
        },
        "id": "F-dgQr4b-qVl",
        "outputId": "27f33038-d865-4231-b652-86d718be3a40"
      },
      "execution_count": null,
      "outputs": [
        {
          "output_type": "stream",
          "name": "stdout",
          "text": [
            "Epoch 1/5\n",
            "15/15 [==============================] - 129s 9s/step - loss: 2.1320 - accuracy: 0.2146 - val_loss: 1.8206 - val_accuracy: 0.3300\n",
            "Epoch 2/5\n",
            "15/15 [==============================] - 124s 9s/step - loss: 1.7244 - accuracy: 0.3500 - val_loss: 1.5959 - val_accuracy: 0.4112\n",
            "Epoch 3/5\n",
            "15/15 [==============================] - 121s 8s/step - loss: 1.5799 - accuracy: 0.4333 - val_loss: 1.4270 - val_accuracy: 0.4525\n",
            "Epoch 4/5\n",
            "15/15 [==============================] - 121s 8s/step - loss: 1.5102 - accuracy: 0.4146 - val_loss: 1.3636 - val_accuracy: 0.4688\n",
            "Epoch 5/5\n",
            "15/15 [==============================] - 121s 8s/step - loss: 1.5513 - accuracy: 0.4229 - val_loss: 1.2927 - val_accuracy: 0.5025\n"
          ]
        }
      ]
    },
    {
      "cell_type": "code",
      "source": [
        "history_plot(h3)"
      ],
      "metadata": {
        "colab": {
          "base_uri": "https://localhost:8080/",
          "height": 265
        },
        "id": "HvDWY2CI-7BP",
        "outputId": "2d752612-28ed-4183-9ef4-e63e831b202c"
      },
      "execution_count": null,
      "outputs": [
        {
          "output_type": "display_data",
          "data": {
            "image/png": "[encoded data removed]",
            "text/plain": [
              "<Figure size 432x288 with 1 Axes>"
            ]
          },
          "metadata": {
            "needs_background": "light"
          }
        }
      ]
    },
    {
      "cell_type": "code",
      "source": [
        "model_3.load_weights(\"model_checkpoints/model_3.ckpt\")\n",
        "model_3.evaluate(validation_data)"
      ],
      "metadata": {
        "id": "g3InpgiR-8SA"
      },
      "execution_count": null,
      "outputs": []
    },
    {
      "cell_type": "markdown",
      "source": [
        "### Full traning"
      ],
      "metadata": {
        "id": "Khed6Qgb-9cL"
      }
    },
    {
      "cell_type": "code",
      "source": [
        "model_4 = tf.keras.models.clone_model(model_3)\n",
        "model_4.compile(optimizer=\"adam\",\n",
        "                loss=\"sparse_categorical_crossentropy\",\n",
        "                metrics=[\"accuracy\"])"
      ],
      "metadata": {
        "id": "dYNme9Qo--9B"
      },
      "execution_count": null,
      "outputs": []
    },
    {
      "cell_type": "code",
      "source": [
        "h4 = model_4.fit(\n",
        "    train_data,\n",
        "    steps_per_epoch=int(len(train_data)),\n",
        "    validation_data=validation_data,\n",
        "    validation_steps=int(0.1*len(validation_data)),\n",
        "    epochs=10,\n",
        "    callbacks=[create_modelcheckpoint_callback(\"model_3\", monitor=\"val_accuracy\")]\n",
        "                 )"
      ],
      "metadata": {
        "id": "5zdHNF9U_SLi"
      },
      "execution_count": null,
      "outputs": []
    },
    {
      "cell_type": "code",
      "source": [
        "history_plot(h4)"
      ],
      "metadata": {
        "id": "EgGV6Og0_WM_"
      },
      "execution_count": null,
      "outputs": []
    },
    {
      "cell_type": "code",
      "source": [
        "model_4.load_weights(\"model_checkpoints/model_4.ckpt\")\n",
        "model_4.evaluate(validation_data)"
      ],
      "metadata": {
        "id": "BqPoijHE_Xqo"
      },
      "execution_count": null,
      "outputs": []
    }
  ]
}